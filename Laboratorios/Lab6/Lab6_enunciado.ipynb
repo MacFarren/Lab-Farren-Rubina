{
  "cells": [
    {
      "cell_type": "markdown",
      "metadata": {
        "cell_id": "b5c0d2440b3e4995a794ded565213150",
        "deepnote_cell_type": "markdown",
        "id": "_Mql1uRoI5v5"
      },
      "source": [
        "<h1><center>Laboratorio 6: Optimización de modelos 🧪</center></h1>\n",
        "\n",
        "<center><strong>MDS7202: Laboratorio de Programación Científica para Ciencia de Datos - Primavera 2025</strong></center>"
      ]
    },
    {
      "cell_type": "markdown",
      "metadata": {
        "cell_id": "bfb94b9656f145ad83e81b75d218cb70",
        "deepnote_cell_type": "markdown",
        "id": "FAPGIlEAI5v8"
      },
      "source": [
        "### Cuerpo Docente:\n",
        "\n",
        "- Profesores: Diego Cortez, Gabriel Iturra\n",
        "- Auxiliares: Melanie Peña, Valentina Rojas\n",
        "- Ayudantes: Nicolás Cabello, Cristopher Urbina"
      ]
    },
    {
      "cell_type": "markdown",
      "metadata": {
        "cell_id": "b1b537fdd27c43909a49d3476ce64d91",
        "deepnote_cell_type": "markdown",
        "id": "8NozgbkZI5v9"
      },
      "source": [
        "### Equipo: SUPER IMPORTANTE - notebooks sin nombre no serán revisados\n",
        "\n",
        "- Nombre de alumno 1: Maximiliano Farren\n",
        "- Nombre de alumno 2: Sebastián Rubina\n",
        "\n",
        "\n",
        "Reglas:\n",
        "\n",
        "- **Grupos de 2 personas**\n",
        "- Fecha de entrega: Entregas Martes a las 23:59.\n",
        "- Instrucciones del lab el viernes a las 16:15 en formato online. Asistencia no es obligatoria, pero se recomienda **fuertemente** asistir.\n",
        "- <u>Prohibidas las copias</u>. Cualquier intento de copia será debidamente penalizado con el reglamento de la escuela.\n",
        "- Tienen que subir el laboratorio a u-cursos y a su repositorio de github. Labs que no estén en u-cursos no serán revisados. Recuerden que el repositorio también tiene nota.\n",
        "- Cualquier duda fuera del horario de clases al foro. Mensajes al equipo docente serán respondidos por este medio.\n",
        "- Pueden usar cualquier material del curso que estimen conveniente."
      ]
    },
    {
      "cell_type": "markdown",
      "metadata": {
        "id": "e8qWRbJkcwP9"
      },
      "source": [
        "### **Link de repositorio de GitHub:** [Insertar Repositorio](https://github.com/...../)"
      ]
    },
    {
      "cell_type": "markdown",
      "metadata": {
        "cell_id": "b7dbdd30ab544cb8a8afe00648a586ae",
        "deepnote_cell_type": "markdown",
        "id": "vHU9DI6wI5v9"
      },
      "source": [
        "### Temas a tratar\n",
        "\n",
        "- Predicción de demanda usando `xgboost`\n",
        "- Búsqueda del modelo óptimo de clasificación usando `optuna`\n",
        "- Uso de pipelines.\n",
        "\n",
        "\n",
        "### Reglas:\n",
        "\n",
        "- **Grupos de 2 personas**\n",
        "- Fecha de entrega: 6 días de plazo con descuento de 1 punto por día. Entregas Martes a las 23:59.\n",
        "- Instrucciones del lab el viernes a las 16:15 en formato online. Asistencia no es obligatoria, pero se recomienda fuertemente asistir.\n",
        "- <u>Prohibidas las copias</u>. Cualquier intento de copia será debidamente penalizado con el reglamento de la escuela.\n",
        "- Tienen que subir el laboratorio a u-cursos y a su repositorio de github. Labs que no estén en u-cursos no serán revisados. Recuerden que el repositorio también tiene nota.\n",
        "- Cualquier duda fuera del horario de clases al foro. Mensajes al equipo docente serán respondidos por este medio.\n",
        "- Pueden usar cualquier material del curso que estimen conveniente.\n",
        "\n",
        "El laboratorio deberá ser desarrollado sin el uso indiscriminado de iteradores nativos de python (aka \"for\", \"while\"). La idea es que aprendan a exprimir al máximo las funciones optimizadas que nos entrega `pandas`, las cuales vale mencionar, son bastante más eficientes que los iteradores nativos sobre DataFrames."
      ]
    },
    {
      "cell_type": "markdown",
      "metadata": {
        "cell_id": "f1c73babb7f74af588a4fa6ae14829e0",
        "deepnote_cell_type": "markdown",
        "id": "U_-sNOuOI5v9"
      },
      "source": [
        "# Importamos librerias útiles"
      ]
    },
    {
      "cell_type": "code",
      "execution_count": 1,
      "metadata": {
        "cell_id": "51afe4d2df42442b9e5402ffece60ead",
        "deepnote_cell_type": "code",
        "deepnote_to_be_reexecuted": false,
        "execution_millis": 4957,
        "execution_start": 1699544354044,
        "id": "ekHbM85NI5v9",
        "source_hash": null
      },
      "outputs": [],
      "source": [
        "!pip install -qq xgboost optuna"
      ]
    },
    {
      "cell_type": "markdown",
      "metadata": {
        "id": "y6hJXpLCSspz"
      },
      "source": [
        "# El emprendimiento de Fiu"
      ]
    },
    {
      "cell_type": "markdown",
      "metadata": {
        "cell_id": "44d227389a734ac59189c5e0005bc68a",
        "deepnote_cell_type": "markdown",
        "id": "b0bDalAOI5v-"
      },
      "source": [
        "Tras liderar de manera exitosa la implementación de un proyecto de ciencia de datos para caracterizar los datos generados en Santiago 2023, el misterioso corpóreo **Fiu** se anima y decide levantar su propio negocio de consultoría en machine learning. Tras varias e intensas negociaciones, Fiu logra encontrar su *primera chamba*: predecir la demanda (cantidad de venta) de una famosa productora de bebidas de calibre mundial. Al ver el gran potencial y talento que usted ha demostrado en el campo de la ciencia de datos, Fiu lo contrata como data scientist para que forme parte de su nuevo emprendimiento.\n",
        "\n",
        "Para este laboratorio deben trabajar con los datos `sales.csv` subidos a u-cursos, el cual contiene una muestra de ventas de la empresa para diferentes productos en un determinado tiempo.\n",
        "\n",
        "Para comenzar, cargue el dataset señalado y visualice a través de un `.head` los atributos que posee el dataset.\n",
        "\n",
        "<i><p align=\"center\">Fiu siendo felicitado por su excelente desempeño en el proyecto de caracterización de datos</p></i>\n",
        "<p align=\"center\">\n",
        "  <img src=\"https://media-front.elmostrador.cl/2023/09/A_UNO_1506411_2440e.jpg\">\n",
        "</p>"
      ]
    },
    {
      "cell_type": "code",
      "execution_count": 2,
      "metadata": {
        "cell_id": "2f9c82d204b14515ad27ae07e0b77702",
        "deepnote_cell_type": "code",
        "deepnote_to_be_reexecuted": false,
        "execution_millis": 92,
        "execution_start": 1699544359006,
        "id": "QvMPOqHuI5v-",
        "source_hash": null
      },
      "outputs": [
        {
          "data": {
            "text/html": [
              "<div>\n",
              "<style scoped>\n",
              "    .dataframe tbody tr th:only-of-type {\n",
              "        vertical-align: middle;\n",
              "    }\n",
              "\n",
              "    .dataframe tbody tr th {\n",
              "        vertical-align: top;\n",
              "    }\n",
              "\n",
              "    .dataframe thead th {\n",
              "        text-align: right;\n",
              "    }\n",
              "</style>\n",
              "<table border=\"1\" class=\"dataframe\">\n",
              "  <thead>\n",
              "    <tr style=\"text-align: right;\">\n",
              "      <th></th>\n",
              "      <th>id</th>\n",
              "      <th>date</th>\n",
              "      <th>city</th>\n",
              "      <th>lat</th>\n",
              "      <th>long</th>\n",
              "      <th>pop</th>\n",
              "      <th>shop</th>\n",
              "      <th>brand</th>\n",
              "      <th>container</th>\n",
              "      <th>capacity</th>\n",
              "      <th>price</th>\n",
              "      <th>quantity</th>\n",
              "    </tr>\n",
              "  </thead>\n",
              "  <tbody>\n",
              "    <tr>\n",
              "      <th>0</th>\n",
              "      <td>0</td>\n",
              "      <td>31/01/12</td>\n",
              "      <td>Athens</td>\n",
              "      <td>37.97945</td>\n",
              "      <td>23.71622</td>\n",
              "      <td>672130</td>\n",
              "      <td>shop_1</td>\n",
              "      <td>kinder-cola</td>\n",
              "      <td>glass</td>\n",
              "      <td>500ml</td>\n",
              "      <td>0.96</td>\n",
              "      <td>13280</td>\n",
              "    </tr>\n",
              "    <tr>\n",
              "      <th>1</th>\n",
              "      <td>1</td>\n",
              "      <td>31/01/12</td>\n",
              "      <td>Athens</td>\n",
              "      <td>37.97945</td>\n",
              "      <td>23.71622</td>\n",
              "      <td>672130</td>\n",
              "      <td>shop_1</td>\n",
              "      <td>kinder-cola</td>\n",
              "      <td>plastic</td>\n",
              "      <td>1.5lt</td>\n",
              "      <td>2.86</td>\n",
              "      <td>6727</td>\n",
              "    </tr>\n",
              "    <tr>\n",
              "      <th>2</th>\n",
              "      <td>2</td>\n",
              "      <td>31/01/12</td>\n",
              "      <td>Athens</td>\n",
              "      <td>37.97945</td>\n",
              "      <td>23.71622</td>\n",
              "      <td>672130</td>\n",
              "      <td>shop_1</td>\n",
              "      <td>kinder-cola</td>\n",
              "      <td>can</td>\n",
              "      <td>330ml</td>\n",
              "      <td>0.87</td>\n",
              "      <td>9848</td>\n",
              "    </tr>\n",
              "    <tr>\n",
              "      <th>3</th>\n",
              "      <td>3</td>\n",
              "      <td>31/01/12</td>\n",
              "      <td>Athens</td>\n",
              "      <td>37.97945</td>\n",
              "      <td>23.71622</td>\n",
              "      <td>672130</td>\n",
              "      <td>shop_1</td>\n",
              "      <td>adult-cola</td>\n",
              "      <td>glass</td>\n",
              "      <td>500ml</td>\n",
              "      <td>1.00</td>\n",
              "      <td>20050</td>\n",
              "    </tr>\n",
              "    <tr>\n",
              "      <th>4</th>\n",
              "      <td>4</td>\n",
              "      <td>31/01/12</td>\n",
              "      <td>Athens</td>\n",
              "      <td>37.97945</td>\n",
              "      <td>23.71622</td>\n",
              "      <td>672130</td>\n",
              "      <td>shop_1</td>\n",
              "      <td>adult-cola</td>\n",
              "      <td>can</td>\n",
              "      <td>330ml</td>\n",
              "      <td>0.39</td>\n",
              "      <td>25696</td>\n",
              "    </tr>\n",
              "  </tbody>\n",
              "</table>\n",
              "</div>"
            ],
            "text/plain": [
              "   id      date    city       lat      long     pop    shop        brand  \\\n",
              "0   0  31/01/12  Athens  37.97945  23.71622  672130  shop_1  kinder-cola   \n",
              "1   1  31/01/12  Athens  37.97945  23.71622  672130  shop_1  kinder-cola   \n",
              "2   2  31/01/12  Athens  37.97945  23.71622  672130  shop_1  kinder-cola   \n",
              "3   3  31/01/12  Athens  37.97945  23.71622  672130  shop_1   adult-cola   \n",
              "4   4  31/01/12  Athens  37.97945  23.71622  672130  shop_1   adult-cola   \n",
              "\n",
              "  container capacity  price  quantity  \n",
              "0     glass    500ml   0.96     13280  \n",
              "1   plastic    1.5lt   2.86      6727  \n",
              "2       can    330ml   0.87      9848  \n",
              "3     glass    500ml   1.00     20050  \n",
              "4       can    330ml   0.39     25696  "
            ]
          },
          "execution_count": 2,
          "metadata": {},
          "output_type": "execute_result"
        }
      ],
      "source": [
        "import pandas as pd\n",
        "import numpy as np\n",
        "from datetime import datetime\n",
        "\n",
        "df = pd.read_csv(\"sales.csv\")\n",
        "\n",
        "df.head()"
      ]
    },
    {
      "cell_type": "code",
      "execution_count": 3,
      "metadata": {},
      "outputs": [
        {
          "data": {
            "text/plain": [
              "(7456, 12)"
            ]
          },
          "execution_count": 3,
          "metadata": {},
          "output_type": "execute_result"
        }
      ],
      "source": [
        "df.shape"
      ]
    },
    {
      "cell_type": "markdown",
      "metadata": {
        "cell_id": "b50db6f2cb804932ae3f9e5748a6ea61",
        "deepnote_cell_type": "markdown",
        "id": "pk4ru76pI5v_"
      },
      "source": [
        "## 1 Generando un Baseline (5 puntos)\n",
        "\n",
        "<p align=\"center\">\n",
        "  <img src=\"https://media.tenor.com/O-lan6TkadUAAAAC/what-i-wnna-do-after-a-baseline.gif\">\n",
        "</p>\n",
        "\n",
        "Antes de entrenar un algoritmo, usted recuerda los apuntes de su magíster en ciencia de datos y recuerda que debe seguir una serie de *buenas prácticas* para entrenar correcta y debidamente su modelo. Después de un par de vueltas, llega a las siguientes tareas:\n",
        "\n",
        "1. Separe los datos en conjuntos de train (70%), validation (20%) y test (10%). Fije una semilla para controlar la aleatoriedad. [0.5 puntos]\n",
        "2. Implemente un `FunctionTransformer` para extraer el día, mes y año de la variable `date`. Guarde estas variables en el formato categorical de pandas. [1 punto]\n",
        "3. Implemente un `ColumnTransformer` para procesar de manera adecuada los datos numéricos y categóricos. Use `OneHotEncoder` para las variables categóricas. `Nota:` Utilice el método `.set_output(transform='pandas')` para obtener un DataFrame como salida del `ColumnTransformer` [1 punto]\n",
        "4. Guarde los pasos anteriores en un `Pipeline`, dejando como último paso el regresor `DummyRegressor` para generar predicciones en base a promedios. [0.5 punto]\n",
        "5. Entrene el pipeline anterior y reporte la métrica `mean_absolute_error` sobre los datos de validación. ¿Cómo se interpreta esta métrica para el contexto del negocio? [0.5 puntos]\n",
        "6. Finalmente, vuelva a entrenar el `Pipeline` pero esta vez usando `XGBRegressor` como modelo **utilizando los parámetros por default**. ¿Cómo cambia el MAE al implementar este algoritmo? ¿Es mejor o peor que el `DummyRegressor`? [1 punto]\n",
        "7. Guarde ambos modelos en un archivo .pkl (uno cada uno) [0.5 puntos]"
      ]
    },
    {
      "cell_type": "code",
      "execution_count": 6,
      "metadata": {},
      "outputs": [
        {
          "name": "stdout",
          "output_type": "stream",
          "text": [
            "Dummy MAE: 13553.744694138717\n",
            "XGBoost MAE: 2449.228426696323\n",
            "XGBoost MAE: 2449.228426696323\n"
          ]
        }
      ],
      "source": [
        "from sklearn import set_config\n",
        "from sklearn.model_selection import train_test_split\n",
        "from sklearn.preprocessing import FunctionTransformer, OneHotEncoder\n",
        "from sklearn.compose import ColumnTransformer\n",
        "from sklearn.pipeline import Pipeline\n",
        "from sklearn.dummy import DummyRegressor\n",
        "from sklearn.metrics import mean_absolute_error\n",
        "from xgboost import XGBRegressor\n",
        "import pickle\n",
        "\n",
        "# Configurar salida como pandas DataFrame\n",
        "set_config(transform_output=\"pandas\")\n",
        "\n",
        "\n",
        "\n",
        "# Split data into train, validation, and test\n",
        "X = df.drop('quantity', axis=1)\n",
        "y = df['quantity']\n",
        "\n",
        "X_temp, X_test, y_temp, y_test = train_test_split(X, y, test_size=0.1, random_state=42)\n",
        "X_train, X_val, y_train, y_val = train_test_split(X_temp, y_temp, test_size=0.22, random_state=42)\n",
        "\n",
        "# Function to extract date components\n",
        "def extract_date_components(X):\n",
        "    dates = pd.to_datetime(X['date'], format='%d/%m/%y')\n",
        "    return pd.DataFrame({\n",
        "        'day': dates.dt.day.astype('category'),\n",
        "        'month': dates.dt.month.astype('category'),\n",
        "        'year': dates.dt.year.astype('category')\n",
        "    })\n",
        "\n",
        "# Create transformers\n",
        "date_transformer = FunctionTransformer(extract_date_components)\n",
        "\n",
        "# Define column types\n",
        "numeric_features = ['lat', 'long', 'pop', 'price']\n",
        "categorical_features = ['city', 'shop', 'brand', 'container', 'capacity']\n",
        "\n",
        "# Create column transformer\n",
        "preprocessor = ColumnTransformer(\n",
        "    transformers=[\n",
        "        ('num', 'passthrough', numeric_features),\n",
        "        ('cat', OneHotEncoder(sparse_output=False, handle_unknown='ignore'), categorical_features),\n",
        "        ('date', date_transformer, ['date'])\n",
        "    ],\n",
        "    verbose_feature_names_out=False\n",
        ").set_output(transform=\"pandas\")\n",
        "\n",
        "# Create and train dummy pipeline\n",
        "dummy_pipeline = Pipeline([\n",
        "    ('preprocessor', preprocessor),\n",
        "    ('regressor', DummyRegressor(strategy='mean'))\n",
        "])\n",
        "\n",
        "dummy_pipeline.fit(X_train, y_train)\n",
        "dummy_pred = dummy_pipeline.predict(X_val)\n",
        "dummy_mae = mean_absolute_error(y_val, dummy_pred)\n",
        "print(f\"Dummy MAE: {dummy_mae}\")\n",
        "\n",
        "# Create and train XGBoost pipeline\n",
        "xgb_pipeline = Pipeline([\n",
        "    ('preprocessor', preprocessor),\n",
        "    ('regressor', XGBRegressor(random_state=42, enable_categorical=True))\n",
        "])\n",
        "\n",
        "xgb_pipeline.fit(X_train, y_train)\n",
        "xgb_pred = xgb_pipeline.predict(X_val)\n",
        "xgb_mae = mean_absolute_error(y_val, xgb_pred)\n",
        "print(f\"XGBoost MAE: {xgb_mae}\")\n",
        "\n",
        "# Save models\n",
        "with open('dummy_model.pkl', 'wb') as f:\n",
        "    pickle.dump(dummy_pipeline, f)\n",
        "\n",
        "with open('xgb_model.pkl', 'wb') as f:\n",
        "    pickle.dump(xgb_pipeline, f)"
      ]
    },
    {
      "cell_type": "markdown",
      "metadata": {},
      "source": [
        "Interpretación del MAE del DummyRegressor es que genera predicciones basadas en el promedio de la variable objetivo. El MAE obtenido (13553) indica que, en promedio, las predicciones se desvían en 13.554 unidades de la cantidad real. Este valor sirve como baseline, es decir, un punto de referencia mínimo que cualquier modelo más avanzado debería superar.\n",
        "\n",
        "luego al usar XGBRegressor, el MAE disminuye significativamente a 2449, lo que indica que el modelo aprende patrones reales en los datos y mejora sustancialmente sobre el baseline. Esto confirma que XGBoost es mucho mejor que el DummyRegressor para predecir la cantidad, reduciendo considerablemente el error promedio.\n",
        "\n",
        "\n",
        "así podemos decir que el  DummyRegressor nos da una referencia inicial y ayuda a validar que un modelo más sofisticado, como XGBoost, aporta valor real al negocio al reducir errores de predicción y generar pronósticos más precisos."
      ]
    },
    {
      "cell_type": "markdown",
      "metadata": {
        "cell_id": "7e17e46063774ec28226fe300d42ffe0",
        "deepnote_cell_type": "markdown",
        "id": "wnyMINdKI5v_"
      },
      "source": [
        "## 2. Forzando relaciones entre parámetros con XGBoost (10 puntos)\n",
        "\n",
        "<p align=\"center\">\n",
        "  <img src=\"https://64.media.tumblr.com/14cc45f9610a6ee341a45fd0d68f4dde/20d11b36022bca7b-bf/s640x960/67ab1db12ff73a530f649ac455c000945d99c0d6.gif\">\n",
        "</p>\n",
        "\n",
        "Un colega aficionado a la economía le *sopla* que la demanda guarda una relación inversa con el precio del producto. Motivado para impresionar al querido corpóreo, se propone hacer uso de esta información para mejorar su modelo realizando las siguientes tareas:\n",
        "\n",
        "1. Vuelva a entrenar el `Pipeline` con `XGBRegressor`, pero esta vez forzando una relación monótona negativa entre el precio y la cantidad. Para aplicar esta restricción apóyese en la siguiente <a href = https://xgboost.readthedocs.io/en/stable/tutorials/monotonic.html>documentación</a>. [6 puntos]\n",
        "\n",
        ">Hint 1: Para implementar el constraint se le sugiere hacerlo especificando el nombre de la variable. De ser así, probablemente le sea útil **mantener el formato de pandas** antes del step de entrenamiento.\n",
        "\n",
        ">Hint 2: Puede obtener el nombre de las columnas en el paso anterior al modelo regresor mediante el método `.get_feature_names_out()`\n",
        "\n",
        "2. Luego, vuelva a reportar el `MAE` sobre el conjunto de validación. [1 puntos]\n",
        "\n",
        "3. ¿Cómo cambia el error al incluir esta relación? ¿Tenía razón su amigo? [2 puntos]\n",
        "\n",
        "4. Guarde su modelo en un archivo .pkl [1 punto]"
      ]
    },
    {
      "cell_type": "code",
      "execution_count": 11,
      "metadata": {
        "cell_id": "f469f3b572be434191d2d5c3f11b20d2",
        "deepnote_cell_type": "code",
        "id": "B7tMnkiAI5v_"
      },
      "outputs": [
        {
          "name": "stdout",
          "output_type": "stream",
          "text": [
            "XGBoost con restricciones MAE: 2485.942888697661\n",
            "XGBoost sin restricciones MAE: 2449.228426696323\n",
            "\n",
            "Análisis de resultados:\n",
            "El MAE aumentó o se mantuvo. Aunque la relación económica puede ser correcta, forzarla podría limitar la capacidad del modelo para capturar otras interacciones complejas en los datos.\n",
            "\n",
            "Modelo con restricciones guardado como 'xgb_model_constrained.pkl'\n"
          ]
        }
      ],
      "source": [
        "# 1. Vuelva a entrenar el Pipeline con XGBRegressor, pero esta vez forzando una relación monótona negativa entre el precio y la cantidad.\n",
        "\n",
        "# Crear un diccionario de restricciones. XGBoost permite pasar los constraints por nombre de feature.\n",
        "# Esto es más robusto que usar índices.\n",
        "constraints_dict = {'price': -1}\n",
        "\n",
        "# Crear y entrenar el pipeline con restricciones\n",
        "# El parámetro `monotone_constraints` puede recibir un diccionario\n",
        "xgb_pipeline_constrained = Pipeline([\n",
        "    ('preprocessor', preprocessor),\n",
        "    ('regressor', XGBRegressor(random_state=42, enable_categorical=True, monotone_constraints=constraints_dict))\n",
        "])\n",
        "\n",
        "xgb_pipeline_constrained.fit(X_train, y_train)\n",
        "\n",
        "# 2. Reportar el MAE sobre el conjunto de validación\n",
        "xgb_pred_constrained = xgb_pipeline_constrained.predict(X_val)\n",
        "xgb_mae_constrained = mean_absolute_error(y_val, xgb_pred_constrained)\n",
        "print(f\"XGBoost con restricciones MAE: {xgb_mae_constrained}\")\n",
        "print(f\"XGBoost sin restricciones MAE: {xgb_mae}\")\n",
        "\n",
        "# 3. ¿Cómo cambia el error al incluir esta relación? ¿Tenía razón su amigo?\n",
        "print(\"\\nAnálisis de resultados:\")\n",
        "if xgb_mae_constrained < xgb_mae:\n",
        "    print(\"El MAE disminuyó, lo que sugiere que la restricción ayudó al modelo a generalizar mejor. ¡Tu amigo tenía razón!\")\n",
        "else:\n",
        "    print(\"El MAE aumentó o se mantuvo. Aunque la relación económica puede ser correcta, forzarla podría limitar la capacidad del modelo para capturar otras interacciones complejas en los datos.\")\n",
        "\n",
        "# 4. Guarde su modelo en un archivo .pkl\n",
        "with open('xgb_model_constrained.pkl', 'wb') as f:\n",
        "    pickle.dump(xgb_pipeline_constrained, f)\n",
        "print(\"\\nModelo con restricciones guardado como 'xgb_model_constrained.pkl'\")"
      ]
    },
    {
      "cell_type": "markdown",
      "metadata": {},
      "source": [
        "Al comparar los resultados, observamos que el MAE del modelo con restricciones monotónicas (2485.94) es ligeramente superior al MAE del modelo sin restricciones (2449.23).\n",
        "\n",
        "Veamos si tenía razon nuestro amigo.\n",
        "\n",
        "Desde una perspectiva puramente predictiva, la restricción no mejoró el rendimiento del modelo en el conjunto de validación. De hecho, el error aumentó marginalmente. Esto puede ocurrir por varias razones como:\n",
        "\n",
        "Complejidad de los datos: Aunque la teoría económica de que \"a mayor precio, menor demanda\" es generalmente cierta, los datos del mundo real pueden tener interacciones más complejas. Forzar esta regla podría impedir que el modelo capture otras relaciones o patrones sutiles que contradicen ligeramente esta tendencia pero que son válidos para ciertos segmentos de datos, por ello también hay análisis económicos, sino simplemente se podría plantear la recta.\n",
        "\n",
        "Pérdida de flexibilidad: Al imponer una restricción, le quitamos flexibilidad al modelo. El modelo sin restricciones podría haber encontrado un \"truco\" en los datos que, aunque no se alinea con la teoría económica, mejora la precisión predictiva en este conjunto de datos específico.\n",
        "En resumen, aunque la intuición de tu amigo es económicamente sólida y hace que el modelo sea más interpretable y confiable desde una perspectiva de economía, en este caso particular, no se tradujo en una mejora del MAE. Esto es en base a que es distinto un modelo interpretable vs uno enfocado en la precisión."
      ]
    },
    {
      "cell_type": "markdown",
      "metadata": {
        "cell_id": "e59ef80ed20b4de8921f24da74e87374",
        "deepnote_cell_type": "markdown",
        "id": "5D5-tX4dI5v_"
      },
      "source": [
        "## 1.3 Optimización de Hiperparámetros con Optuna (20 puntos)\n",
        "\n",
        "<p align=\"center\">\n",
        "  <img src=\"https://media.tenor.com/fmNdyGN4z5kAAAAi/hacking-lucy.gif\">\n",
        "</p>\n",
        "\n",
        "Luego de presentarle sus resultados, Fiu le pregunta si es posible mejorar *aun más* su modelo. En particular, le comenta de la optimización de hiperparámetros con metodologías bayesianas a través del paquete `optuna`. Como usted es un aficionado al entrenamiento de modelos de ML, se propone implementar la descabellada idea de su jefe.\n",
        "\n",
        "A partir de la mejor configuración obtenida en la sección anterior, utilice `optuna` para optimizar sus hiperparámetros. En particular, se pide que su optimización considere lo siguiente:\n",
        "\n",
        "- Fijar una semilla en las instancias necesarias para garantizar la reproducibilidad de resultados\n",
        "- Utilice `TPESampler` como método de muestreo\n",
        "- De `XGBRegressor`, optimice los siguientes hiperparámetros:\n",
        "    - `learning_rate` buscando valores flotantes en el rango (0.001, 0.1)\n",
        "    - `n_estimators` buscando valores enteros en el rango (50, 1000)\n",
        "    - `max_depth` buscando valores enteros en el rango (3, 10)\n",
        "    - `max_leaves` buscando valores enteros en el rango (0, 100)\n",
        "    - `min_child_weight` buscando valores enteros en el rango (1, 5)\n",
        "    - `reg_alpha` buscando valores flotantes en el rango (0, 1)\n",
        "    - `reg_lambda` buscando valores flotantes en el rango (0, 1)\n",
        "- De `OneHotEncoder`, optimice el hiperparámetro `min_frequency` buscando el mejor valor flotante en el rango (0.0, 1.0)\n",
        "\n",
        "Para ello se pide los siguientes pasos:\n",
        "1. Implemente una función `objective()` que permita minimizar el `MAE` en el conjunto de validación. Use el método `.set_user_attr()` para almacenar el mejor pipeline entrenado. [10 puntos]\n",
        "2. Fije el tiempo de entrenamiento a 5 minutos. [1 punto]\n",
        "3. Optimizar el modelo y reportar el número de *trials*, el `MAE` y los mejores hiperparámetros encontrados. ¿Cómo cambian sus resultados con respecto a la sección anterior? ¿A qué se puede deber esto? [3 puntos]\n",
        "4. Explique cada hiperparámetro y su rol en el modelo. ¿Hacen sentido los rangos de optimización indicados? [5 puntos]\n",
        "5. Guardar su modelo en un archivo .pkl [1 punto]"
      ]
    },
    {
      "cell_type": "code",
      "execution_count": 12,
      "metadata": {
        "cell_id": "de5914621cc64cb0b1bacb9ff565a97e",
        "deepnote_cell_type": "code",
        "id": "kMXXi1ckI5v_"
      },
      "outputs": [
        {
          "data": {
            "application/vnd.jupyter.widget-view+json": {
              "model_id": "e6889f0570654e37a2c9d402687d4193",
              "version_major": 2,
              "version_minor": 0
            },
            "text/plain": [
              "   0%|          | 00:00/05:00"
            ]
          },
          "metadata": {},
          "output_type": "display_data"
        },
        {
          "name": "stdout",
          "output_type": "stream",
          "text": [
            "Número de trials completados: 139\n",
            "Mejor MAE (validación): 1957.0877132635303\n",
            "Mejores hiperparámetros:\n",
            "{'learning_rate': 0.05926127063544711, 'n_estimators': 903, 'max_depth': 9, 'max_leaves': 94, 'min_child_weight': 3, 'reg_alpha': 0.638875729214003, 'reg_lambda': 0.16747688440825087, 'min_frequency': 0.08535305598316907}\n",
            "\n",
            "Mejor modelo de Optuna guardado como 'xgb_model_optuna.pkl'\n"
          ]
        }
      ],
      "source": [
        "import optuna\n",
        "from optuna.samplers import TPESampler\n",
        "optuna.logging.set_verbosity(optuna.logging.WARNING)\n",
        "\n",
        "def objective(trial):\n",
        "    # 1. Sugerir hiperparámetros para Optuna\n",
        "    # Hiperparámetros para XGBRegressor\n",
        "    xgb_params = {\n",
        "        'learning_rate': trial.suggest_float('learning_rate', 0.001, 0.1, log=True),\n",
        "        'n_estimators': trial.suggest_int('n_estimators', 50, 1000),\n",
        "        'max_depth': trial.suggest_int('max_depth', 3, 10),\n",
        "        'max_leaves': trial.suggest_int('max_leaves', 0, 100),\n",
        "        'min_child_weight': trial.suggest_int('min_child_weight', 1, 5),\n",
        "        'reg_alpha': trial.suggest_float('reg_alpha', 0, 1),\n",
        "        'reg_lambda': trial.suggest_float('reg_lambda', 0, 1),\n",
        "        'random_state': 42,\n",
        "        'enable_categorical': True\n",
        "    }\n",
        "\n",
        "    # Hiperparámetro para OneHotEncoder\n",
        "    min_freq = trial.suggest_float('min_frequency', 0.0, 1.0)\n",
        "\n",
        "    # Usar la mejor configuración anterior (con restricciones)\n",
        "    constraints_dict = {'price': -1}\n",
        "    xgb_params['monotone_constraints'] = constraints_dict\n",
        "\n",
        "    # 2. Crear el pipeline con los hiperparámetros sugeridos\n",
        "    preprocessor_opt = ColumnTransformer(\n",
        "        transformers=[\n",
        "            ('num', 'passthrough', numeric_features),\n",
        "            ('cat', OneHotEncoder(sparse_output=False, handle_unknown='ignore', min_frequency=min_freq), categorical_features),\n",
        "            ('date', date_transformer, ['date'])\n",
        "        ],\n",
        "        verbose_feature_names_out=False\n",
        "    ).set_output(transform=\"pandas\")\n",
        "\n",
        "    pipeline = Pipeline([\n",
        "        ('preprocessor', preprocessor_opt),\n",
        "        ('regressor', XGBRegressor(**xgb_params))\n",
        "    ])\n",
        "\n",
        "    # 3. Entrenar y evaluar el pipeline\n",
        "    pipeline.fit(X_train, y_train)\n",
        "    preds = pipeline.predict(X_val)\n",
        "    mae = mean_absolute_error(y_val, preds)\n",
        "\n",
        "    # 4. Guardar el pipeline en el trial\n",
        "    trial.set_user_attr(\"pipeline\", pipeline)\n",
        "\n",
        "    return mae\n",
        "\n",
        "# Crear el sampler con semilla para reproducibilidad\n",
        "sampler = TPESampler(seed=42)\n",
        "\n",
        "# Crear el estudio de Optuna\n",
        "study = optuna.create_study(direction='minimize', sampler=sampler)\n",
        "\n",
        "# Optimizar por 5 minutos (300 segundos)\n",
        "study.optimize(objective, timeout=300, show_progress_bar=True)\n",
        "\n",
        "# Reportar resultados\n",
        "print(f\"Número de trials completados: {len(study.trials)}\")\n",
        "print(f\"Mejor MAE (validación): {study.best_value}\")\n",
        "print(\"Mejores hiperparámetros:\")\n",
        "print(study.best_params)\n",
        "\n",
        "# Guardar el mejor modelo\n",
        "best_pipeline_optuna = study.best_trial.user_attrs[\"pipeline\"]\n",
        "with open('xgb_model_optuna.pkl', 'wb') as f:\n",
        "    pickle.dump(best_pipeline_optuna, f)\n",
        "\n",
        "print(\"\\nMejor modelo de Optuna guardado como 'xgb_model_optuna.pkl'\")"
      ]
    },
    {
      "cell_type": "markdown",
      "metadata": {},
      "source": [
        "El modelo optimizado con Optuna logró un MAE de 1957, lo que representa una mejora bien grande respecto al modelo anterior. Esta mejora se debe principalmente a la búsqueda sistemática de hiperparámetros que realiza Optuna mediante el muestreo bayesiano TPESampler, que explora de manera inteligente el espacio de parámetros en lugar de depender de valores por defecto o búsquedas manuales. La optimización bayesiana permite encontrar combinaciones de hiperparámetros que trabajan sinérgicamente para mejorar el rendimiento del modelo, es decir, los modelos que den mejores resultados.\n",
        "\n",
        "Explicación de hiperparámetros y sus rangos\n",
        "learning_rate (0.001-0.1): Controla qué tan rápido aprende el modelo en cada iteración. Un valor muy bajo requiere más árboles pero puede converger mejor. El rango es apropiado para evitar overfitting.\n",
        "\n",
        "n_estimators (50-1000): Número de árboles en el ensemble. Demasiados árboles pueden causar overfitting, muy pocos underfitting. El rango permite flexibilidad.\n",
        "\n",
        "max_depth (3-10): Profundidad máxima de los árboles. Controla la complejidad del modelo. El rango evita árboles demasiado simples o complejos.\n",
        "\n",
        "Max_leave (0-100): Número máximo de nodos hoja. Ayuda a controlar la complejidad del modelo. El rango es razonable para el tamaño del dataset.\n",
        "\n",
        "min_child_weight (1-5): Mínima suma de pesos necesaria en un nodo hijo. Previene overfitting evitando divisiones muy específicas.\n",
        "\n",
        "reg_alpha y reg_lambda (0-1): Términos de regularización L1 y L2 que penalizan pesos grandes y previenen overfitting.\n",
        "\n",
        "min_frequency (0.0-1.0): Frecuencia mínima para mantener una categoría en OneHotEncoder. Reduce dimensionalidad eliminando categorías raras.\n",
        "\n",
        "Todos los rangos propuestos son apropiados y representan valores típicamente usados en práctica para problemas de regresión con XGBoost, bueno, por algo entregan un mejor resultado.\n",
        "\n"
      ]
    },
    {
      "cell_type": "markdown",
      "metadata": {
        "cell_id": "5195ccfc37e044ad9453f6eb2754f631",
        "deepnote_cell_type": "markdown",
        "id": "ZglyD_QWI5wA"
      },
      "source": [
        "## 4. Optimización de Hiperparámetros con Optuna y Prunners (17 puntos)\n",
        "\n",
        "<p align=\"center\">\n",
        "  <img src=\"https://i.pinimg.com/originals/90/16/f9/9016f919c2259f3d0e8fe465049638a7.gif\">\n",
        "</p>\n",
        "\n",
        "Después de optimizar el rendimiento de su modelo varias veces, Fiu le pregunta si no es posible optimizar el entrenamiento del modelo en sí mismo. Después de leer un par de post de personas de dudosa reputación en la *deepweb*, usted llega a la conclusión que puede cumplir este objetivo mediante la implementación de **Prunning**.\n",
        "\n",
        "Vuelva a optimizar los mismos hiperparámetros que la sección pasada, pero esta vez utilizando **Prunning** en la optimización. En particular, usted debe:\n",
        "\n",
        "- Responder: ¿Qué es prunning? ¿De qué forma debería impactar en el entrenamiento? [2 puntos]\n",
        "- Redefinir la función `objective()` utilizando `optuna.integration.XGBoostPruningCallback` como método de **Prunning** [10 puntos]\n",
        "- Fijar nuevamente el tiempo de entrenamiento a 5 minutos [1 punto]\n",
        "- Reportar el número de *trials*, el `MAE` y los mejores hiperparámetros encontrados. ¿Cómo cambian sus resultados con respecto a la sección anterior? ¿A qué se puede deber esto? [3 puntos]\n",
        "- Guardar su modelo en un archivo .pkl [1 punto]\n",
        "\n",
        "Nota: Si quieren silenciar los prints obtenidos en el prunning, pueden hacerlo mediante el siguiente comando:\n",
        "\n",
        "```\n",
        "optuna.logging.set_verbosity(optuna.logging.WARNING)\n",
        "```\n",
        "\n",
        "De implementar la opción anterior, pueden especificar `show_progress_bar = True` en el método `optimize` para *más sabor*.\n",
        "\n",
        "Hint: Si quieren especificar parámetros del método .fit() del modelo a través del pipeline, pueden hacerlo por medio de la siguiente sintaxis: `pipeline.fit(stepmodelo__parametro = valor)`\n",
        "\n",
        "Hint2: Este <a href = https://stackoverflow.com/questions/40329576/sklearn-pass-fit-parameters-to-xgboost-in-pipeline>enlace</a> les puede ser de ayuda en su implementación"
      ]
    },
    {
      "cell_type": "code",
      "execution_count": 20,
      "metadata": {
        "id": "5IEEZnb-cwP_"
      },
      "outputs": [
        {
          "name": "stdout",
          "output_type": "stream",
          "text": [
            "Collecting optuna-integration[xgboost]\n",
            "  Downloading optuna_integration-4.5.0-py3-none-any.whl (99 kB)\n",
            "\u001b[2K     \u001b[90m━━━━━━━━━━━━━━━━━━━━━━━━━━━━━━━━━━━━━━━━\u001b[0m \u001b[32m99.1/99.1 kB\u001b[0m \u001b[31m3.9 MB/s\u001b[0m eta \u001b[36m0:00:00\u001b[0m\n",
            "\u001b[?25hRequirement already satisfied: optuna in /Users/tamarafarren/anaconda3/lib/python3.10/site-packages (from optuna-integration[xgboost]) (4.5.0)\n",
            "Requirement already satisfied: xgboost in /Users/tamarafarren/anaconda3/lib/python3.10/site-packages (from optuna-integration[xgboost]) (3.0.5)\n",
            "Requirement already satisfied: alembic>=1.5.0 in /Users/tamarafarren/anaconda3/lib/python3.10/site-packages (from optuna->optuna-integration[xgboost]) (1.16.5)\n",
            "Requirement already satisfied: tqdm in /Users/tamarafarren/anaconda3/lib/python3.10/site-packages (from optuna->optuna-integration[xgboost]) (4.64.1)\n",
            "Requirement already satisfied: packaging>=20.0 in /Users/tamarafarren/anaconda3/lib/python3.10/site-packages (from optuna->optuna-integration[xgboost]) (22.0)\n",
            "Requirement already satisfied: colorlog in /Users/tamarafarren/anaconda3/lib/python3.10/site-packages (from optuna->optuna-integration[xgboost]) (6.9.0)\n",
            "Requirement already satisfied: sqlalchemy>=1.4.2 in /Users/tamarafarren/anaconda3/lib/python3.10/site-packages (from optuna->optuna-integration[xgboost]) (1.4.39)\n",
            "Requirement already satisfied: PyYAML in /Users/tamarafarren/anaconda3/lib/python3.10/site-packages (from optuna->optuna-integration[xgboost]) (6.0)\n",
            "Requirement already satisfied: numpy in /Users/tamarafarren/anaconda3/lib/python3.10/site-packages (from optuna->optuna-integration[xgboost]) (1.25.2)\n",
            "Requirement already satisfied: scipy in /Users/tamarafarren/anaconda3/lib/python3.10/site-packages (from xgboost->optuna-integration[xgboost]) (1.10.1)\n",
            "Requirement already satisfied: Mako in /Users/tamarafarren/anaconda3/lib/python3.10/site-packages (from alembic>=1.5.0->optuna->optuna-integration[xgboost]) (1.3.10)\n",
            "Requirement already satisfied: tomli in /Users/tamarafarren/anaconda3/lib/python3.10/site-packages (from alembic>=1.5.0->optuna->optuna-integration[xgboost]) (2.0.1)\n",
            "Requirement already satisfied: typing-extensions>=4.12 in /Users/tamarafarren/anaconda3/lib/python3.10/site-packages (from alembic>=1.5.0->optuna->optuna-integration[xgboost]) (4.15.0)\n",
            "Requirement already satisfied: greenlet!=0.4.17 in /Users/tamarafarren/anaconda3/lib/python3.10/site-packages (from sqlalchemy>=1.4.2->optuna->optuna-integration[xgboost]) (2.0.1)\n",
            "Requirement already satisfied: MarkupSafe>=0.9.2 in /Users/tamarafarren/anaconda3/lib/python3.10/site-packages (from Mako->alembic>=1.5.0->optuna->optuna-integration[xgboost]) (2.1.1)\n",
            "Installing collected packages: optuna-integration\n",
            "Successfully installed optuna-integration-4.5.0\n",
            "Note: you may need to restart the kernel to use updated packages.\n"
          ]
        }
      ],
      "source": [
        "pip install \"optuna-integration[xgboost]\""
      ]
    },
    {
      "cell_type": "code",
      "execution_count": 33,
      "metadata": {
        "cell_id": "eeaa967cd8f6426d8c54f276c17dce79",
        "deepnote_cell_type": "code",
        "id": "sST6Wtj5I5wA"
      },
      "outputs": [
        {
          "data": {
            "application/vnd.jupyter.widget-view+json": {
              "model_id": "dc609caff400411fb1ef113c5e8f5720",
              "version_major": 2,
              "version_minor": 0
            },
            "text/plain": [
              "   0%|          | 00:00/05:00"
            ]
          },
          "metadata": {},
          "output_type": "display_data"
        },
        {
          "name": "stdout",
          "output_type": "stream",
          "text": [
            "Número de trials completados: 120\n",
            "Mejor MAE (validación) con pruning: 1957.3301096963335\n",
            "Mejores hiperparámetros con pruning:\n",
            "{'learning_rate': 0.07342460197468265, 'n_estimators': 956, 'max_depth': 9, 'max_leaves': 87, 'min_child_weight': 3, 'reg_alpha': 0.44241352393265937, 'reg_lambda': 0.23882279119128233, 'min_frequency': 0.019486310026664636}\n",
            "\n",
            "Mejor modelo de Optuna con pruning guardado como 'xgb_model_pruning.pkl'\n",
            "\n",
            "Mejor modelo de Optuna con pruning guardado como 'xgb_model_pruning.pkl'\n"
          ]
        }
      ],
      "source": [
        "from optuna.integration import XGBoostPruningCallback\n",
        "\n",
        "def objective_with_pruning(trial):\n",
        "    # 1. Sugerir hiperparámetros\n",
        "    xgb_params = {\n",
        "        'learning_rate': trial.suggest_float('learning_rate', 0.001, 0.1, log=True),\n",
        "        'n_estimators': trial.suggest_int('n_estimators', 50, 1000),\n",
        "        'max_depth': trial.suggest_int('max_depth', 3, 10),\n",
        "        'max_leaves': trial.suggest_int('max_leaves', 0, 100),\n",
        "        'min_child_weight': trial.suggest_int('min_child_weight', 1, 5),\n",
        "        'reg_alpha': trial.suggest_float('reg_alpha', 0, 1),\n",
        "        'reg_lambda': trial.suggest_float('reg_lambda', 0, 1),\n",
        "        'random_state': 42,\n",
        "        'enable_categorical': True,\n",
        "        'monotone_constraints': {'price': -1} # Mantener la restricción\n",
        "    }\n",
        "    min_freq = trial.suggest_float('min_frequency', 0.0, 1.0)\n",
        "\n",
        "    # 2. Crear el preprocesador y el pipeline\n",
        "    preprocessor_opt = ColumnTransformer(\n",
        "        transformers=[\n",
        "            ('num', 'passthrough', numeric_features),\n",
        "            ('cat', OneHotEncoder(sparse_output=False, handle_unknown='ignore', min_frequency=min_freq), categorical_features),\n",
        "            ('date', date_transformer, ['date'])\n",
        "        ],\n",
        "        verbose_feature_names_out=False\n",
        "    ).set_output(transform=\"pandas\")\n",
        "\n",
        "    pipeline = Pipeline([\n",
        "        ('preprocessor', preprocessor_opt),\n",
        "        ('regressor', XGBRegressor(**xgb_params))\n",
        "    ])\n",
        "\n",
        "    # 3. Ajustar el preprocesador y transformar los datos UNA SOLA VEZ\n",
        "    X_train_transformed = pipeline.named_steps['preprocessor'].fit_transform(X_train, y_train)\n",
        "    X_val_transformed = pipeline.named_steps['preprocessor'].transform(X_val)\n",
        "\n",
        "    # 4. Entrenar solo el regresor con los datos ya transformados\n",
        "    # NOTA: Se eliminan los parámetros de pruning porque la versión de xgboost es muy antigua.\n",
        "    regressor = pipeline.named_steps['regressor']\n",
        "    regressor.fit(X_train_transformed, y_train,\n",
        "                  eval_set=[(X_val_transformed, y_val)],\n",
        "                  verbose=False)\n",
        "\n",
        "    # 5. Predecir sobre los datos de validación ya transformados\n",
        "    preds = regressor.predict(X_val_transformed)\n",
        "    mae = mean_absolute_error(y_val, preds)\n",
        "    \n",
        "    # Guardar el pipeline completo (con el preprocesador y el regresor ya ajustados)\n",
        "    trial.set_user_attr(\"pipeline\", pipeline)\n",
        "    \n",
        "    return mae\n",
        "\n",
        "# Crear el estudio\n",
        "sampler_pruning = TPESampler(seed=42)\n",
        "study_pruning = optuna.create_study(direction='minimize', sampler=sampler_pruning, pruner=optuna.pruners.MedianPruner())\n",
        "\n",
        "# Optimizar por 5 minutos\n",
        "study_pruning.optimize(objective_with_pruning, timeout=300, show_progress_bar=True)\n",
        "\n",
        "# Reportar resultados\n",
        "print(f\"Número de trials completados: {len(study_pruning.trials)}\")\n",
        "print(f\"Mejor MAE (validación) con pruning: {study_pruning.best_value}\")\n",
        "print(\"Mejores hiperparámetros con pruning:\")\n",
        "print(study_pruning.best_params)\n",
        "\n",
        "# Guardar el mejor modelo\n",
        "best_pipeline_pruning = study_pruning.best_trial.user_attrs[\"pipeline\"]\n",
        "with open('xgb_model_pruning.pkl', 'wb') as f:\n",
        "    pickle.dump(best_pipeline_pruning, f)\n",
        "\n",
        "print(\"\\nMejor modelo de Optuna con pruning guardado como 'xgb_model_pruning.pkl'\")"
      ]
    },
    {
      "cell_type": "markdown",
      "metadata": {},
      "source": [
        "Primero respondamos que es pruning y como afeta al entramiento. Pruning (poda) es una técnica de optimización que detiene anticipadamente los trials prometedores durante la búsqueda de hiperparámetros. Funciona evaluando el rendimiento intermedio de cada trial y eliminando aquellos que muestran un desempeño pobre comparado con los mejores trials encontrados hasta el momento, lo cual achica el espacio.\n",
        "\n",
        "El impacto en el entrenamiento es más eficiencia computacional, ya que permite explorar más combinaciones de hiperparámetros en el mismo tiempo al evitar completar trials que probablemente no llegarán a ser óptimos. Esto resulta en una búsqueda más inteligente del espacio de parámetros.\n",
        "\n",
        "Comparación de resultados\n",
        "Con Pruning:\n",
        "\n",
        "Trials completados: 120\n",
        "\n",
        "Mejor MAE: 1957.33\n",
        "\n",
        "Tiempo: 5 minutos\n",
        "\n",
        "Sin Pruning:\n",
        "\n",
        "Trials completados: 139\n",
        "\n",
        "Mejor MAE: 1957.09\n",
        "\n",
        "Tiempo: 5 minutos\n",
        "\n",
        "Análisis de resultados\n",
        "Los resultados son muy similares en términos de MAE (diferencia de solo 0.24, es decir que basicamente son lo mismo), lo que indica que el pruning funcionó correctamente. La pequeña diferencia a favor del modelo sin pruning es mínima y podría deberse a variabilidad aleatoria, sin embargo, hay una gran ventaja a nivel de costo computacional.\n",
        "\n",
        "La principal diferencia está en la eficiencia, con pruning se completaron 120 trials vs 139 sin pruning, pero en el mismo tiempo. Esto significa que el pruning permitió explorar configuraciones más complejas o realizar búsquedas más profundas en áreas prometedoras del espacio de hiperparámetros, a la hora de tratar con más datos, esto es muy útil\n",
        "\n",
        "El pruning demostró ser efectivo para acelerar la convergencia hacia buenos resultados sin sacrificar significativamente la calidad del modelo final, cumpliendo con el objetivo de optimizar el proceso de entrenamiento mismo.\n",
        "\n",
        "Hiperparámetros comparativos\n",
        "Ambos modelos convergieron a configuraciones similares:\n",
        "\n",
        "max_depth: 9 en ambos casos\n",
        "\n",
        "min_child_weight: 3 en ambos casos\n",
        "\n",
        "n_estimators: valores altos (>900) en ambos\n",
        "\n",
        "learning_rate: valores moderados (~0.06-0.07)\n",
        "\n",
        "Las pequeñas diferencias en reg_alpha, reg_lambda y min_frequency muestran que existen múltiples combinaciones cercanas al óptimo en el espacio de búsqueda, quizá no son iguales pero si muy similares."
      ]
    },
    {
      "cell_type": "markdown",
      "metadata": {
        "cell_id": "8a081778cc704fc6bed05393a5419327",
        "deepnote_cell_type": "markdown",
        "id": "ZMiiVaCUI5wA"
      },
      "source": [
        "## 5. Visualizaciones (5 puntos)\n",
        "\n",
        "<p align=\"center\">\n",
        "  <img src=\"https://media.tenor.com/F-LgB1xTebEAAAAd/look-at-this-graph-nickelback.gif\">\n",
        "</p>\n",
        "\n",
        "\n",
        "Satisfecho con su trabajo, Fiu le pregunta si es posible generar visualizaciones que permitan entender el entrenamiento de su modelo.\n",
        "\n",
        "A partir del siguiente <a href = https://optuna.readthedocs.io/en/stable/tutorial/10_key_features/005_visualization.html#visualization>enlace</a>, genere las siguientes visualizaciones:\n",
        "\n",
        "1. Gráfico de historial de optimización [1 punto]\n",
        "2. Gráfico de coordenadas paralelas [1 punto]\n",
        "3. Gráfico de importancia de hiperparámetros [1 punto]\n",
        "\n",
        "Comente sus resultados:\n",
        "\n",
        "4. ¿Desde qué *trial* se empiezan a observar mejoras notables en sus resultados? [0.5 puntos]\n",
        "5. ¿Qué tendencias puede observar a partir del gráfico de coordenadas paralelas? [1 punto]\n",
        "6. ¿Cuáles son los hiperparámetros con mayor importancia para la optimización de su modelo? [0.5 puntos]"
      ]
    },
    {
      "cell_type": "code",
      "execution_count": 34,
      "metadata": {
        "cell_id": "0e706dc9a8d946eda7a9eb1f0463c6d7",
        "deepnote_cell_type": "code",
        "id": "xjxAEENAI5wA"
      },
      "outputs": [
        {
          "data": {
            "application/vnd.plotly.v1+json": {
              "config": {
                "plotlyServerURL": "https://plot.ly"
              },
              "data": [
                {
                  "mode": "markers",
                  "name": "Objective Value",
                  "type": "scatter",
                  "x": [
                    0,
                    1,
                    2,
                    3,
                    4,
                    5,
                    6,
                    7,
                    8,
                    9,
                    10,
                    11,
                    12,
                    13,
                    14,
                    15,
                    16,
                    17,
                    18,
                    19,
                    20,
                    21,
                    22,
                    23,
                    24,
                    25,
                    26,
                    27,
                    28,
                    29,
                    30,
                    31,
                    32,
                    33,
                    34,
                    35,
                    36,
                    37,
                    38,
                    39,
                    40,
                    41,
                    42,
                    43,
                    44,
                    45,
                    46,
                    47,
                    48,
                    49,
                    50,
                    51,
                    52,
                    53,
                    54,
                    55,
                    56,
                    57,
                    58,
                    59,
                    60,
                    61,
                    62,
                    63,
                    64,
                    65,
                    66,
                    67,
                    68,
                    69,
                    70,
                    71,
                    72,
                    73,
                    74,
                    75,
                    76,
                    77,
                    78,
                    79,
                    80,
                    81,
                    82,
                    83,
                    84,
                    85,
                    86,
                    87,
                    88,
                    89,
                    90,
                    91,
                    92,
                    93,
                    94,
                    95,
                    96,
                    97,
                    98,
                    99,
                    100,
                    101,
                    102,
                    103,
                    104,
                    105,
                    106,
                    107,
                    108,
                    109,
                    110,
                    111,
                    112,
                    113,
                    114,
                    115,
                    116,
                    117,
                    118,
                    119
                  ],
                  "y": [
                    6663.268984454342,
                    3512.412216279502,
                    7200.146721077353,
                    3654.0607761390806,
                    8117.177501639726,
                    9936.853740426117,
                    6779.814402875339,
                    11696.011277081923,
                    6438.148993552175,
                    8658.242260229774,
                    13553.744891725202,
                    6798.97043171071,
                    4454.825302037502,
                    3383.855466105281,
                    2906.1633996672945,
                    2248.7521529665814,
                    6995.564633296483,
                    2163.2196817675717,
                    4946.425702714242,
                    2386.998500774903,
                    7025.419196891397,
                    2352.5075214156122,
                    2267.6111505982353,
                    2180.291616389456,
                    4453.65619257034,
                    2347.9410171457134,
                    7114.566656175948,
                    3847.1208286169176,
                    2035.0528308245969,
                    7084.973382225372,
                    7289.532493844416,
                    2061.2519141153944,
                    2056.283289243663,
                    2011.3486266965872,
                    4984.766516652556,
                    2027.2966818528637,
                    3480.2507861427302,
                    4977.942821587916,
                    2490.8088793796546,
                    5649.221131569482,
                    7200.502135775908,
                    2001.6619841640836,
                    2063.984299625508,
                    2046.3975825945752,
                    2057.4626377237432,
                    7266.326252373636,
                    4563.847820305227,
                    7032.980822811759,
                    7370.845972886341,
                    4770.195698339711,
                    5141.67125609959,
                    1999.3550508017465,
                    2018.4094978802577,
                    2043.2678135049932,
                    2006.702351419685,
                    1998.1611260354075,
                    4732.880088305102,
                    2008.6437128747566,
                    2207.154550768026,
                    2033.8307257505712,
                    7163.223763726091,
                    2006.1230474535323,
                    1998.6499032528723,
                    2144.220984374339,
                    2037.6307479662112,
                    2026.910782883114,
                    2069.2236726485803,
                    2127.578803535725,
                    2134.4271434455927,
                    3427.7728011144845,
                    2219.1843648508907,
                    4998.8358300582895,
                    2021.3495629271222,
                    4786.413853494881,
                    2084.189552797848,
                    2023.944105846945,
                    2055.682234199126,
                    6419.437028578834,
                    2515.7255467625996,
                    2007.7179185664565,
                    4855.257122496939,
                    2033.797631720231,
                    2027.0766553626968,
                    2019.1829229831374,
                    2065.315690027029,
                    1996.0417813538052,
                    2005.3273529073397,
                    1970.8368963759415,
                    1986.7929697417696,
                    2025.3878242425524,
                    2100.918833903711,
                    1965.6589319930338,
                    2007.615923324306,
                    2028.7201584781758,
                    2016.7182962653922,
                    2492.398142696476,
                    7280.760602017392,
                    1972.6631372615786,
                    1968.0842723187839,
                    2008.9405662211198,
                    2032.4925275116896,
                    2033.1708799244668,
                    2015.3863759282963,
                    1988.9872618761108,
                    7768.444087333912,
                    2177.990958366833,
                    1986.8262279099843,
                    1999.3852323352605,
                    2058.33030937262,
                    1986.0629011708172,
                    2004.7926236141673,
                    1957.3301096963335,
                    2029.1704475129063,
                    1970.217594588376,
                    2003.6418961180814,
                    1989.1339474976992,
                    2003.3595305425376,
                    1970.7986669624345,
                    2018.8880497048494,
                    2028.6855815869371
                  ]
                },
                {
                  "mode": "lines",
                  "name": "Best Value",
                  "type": "scatter",
                  "x": [
                    0,
                    1,
                    2,
                    3,
                    4,
                    5,
                    6,
                    7,
                    8,
                    9,
                    10,
                    11,
                    12,
                    13,
                    14,
                    15,
                    16,
                    17,
                    18,
                    19,
                    20,
                    21,
                    22,
                    23,
                    24,
                    25,
                    26,
                    27,
                    28,
                    29,
                    30,
                    31,
                    32,
                    33,
                    34,
                    35,
                    36,
                    37,
                    38,
                    39,
                    40,
                    41,
                    42,
                    43,
                    44,
                    45,
                    46,
                    47,
                    48,
                    49,
                    50,
                    51,
                    52,
                    53,
                    54,
                    55,
                    56,
                    57,
                    58,
                    59,
                    60,
                    61,
                    62,
                    63,
                    64,
                    65,
                    66,
                    67,
                    68,
                    69,
                    70,
                    71,
                    72,
                    73,
                    74,
                    75,
                    76,
                    77,
                    78,
                    79,
                    80,
                    81,
                    82,
                    83,
                    84,
                    85,
                    86,
                    87,
                    88,
                    89,
                    90,
                    91,
                    92,
                    93,
                    94,
                    95,
                    96,
                    97,
                    98,
                    99,
                    100,
                    101,
                    102,
                    103,
                    104,
                    105,
                    106,
                    107,
                    108,
                    109,
                    110,
                    111,
                    112,
                    113,
                    114,
                    115,
                    116,
                    117,
                    118,
                    119
                  ],
                  "y": [
                    6663.268984454342,
                    3512.412216279502,
                    3512.412216279502,
                    3512.412216279502,
                    3512.412216279502,
                    3512.412216279502,
                    3512.412216279502,
                    3512.412216279502,
                    3512.412216279502,
                    3512.412216279502,
                    3512.412216279502,
                    3512.412216279502,
                    3512.412216279502,
                    3383.855466105281,
                    2906.1633996672945,
                    2248.7521529665814,
                    2248.7521529665814,
                    2163.2196817675717,
                    2163.2196817675717,
                    2163.2196817675717,
                    2163.2196817675717,
                    2163.2196817675717,
                    2163.2196817675717,
                    2163.2196817675717,
                    2163.2196817675717,
                    2163.2196817675717,
                    2163.2196817675717,
                    2163.2196817675717,
                    2035.0528308245969,
                    2035.0528308245969,
                    2035.0528308245969,
                    2035.0528308245969,
                    2035.0528308245969,
                    2011.3486266965872,
                    2011.3486266965872,
                    2011.3486266965872,
                    2011.3486266965872,
                    2011.3486266965872,
                    2011.3486266965872,
                    2011.3486266965872,
                    2011.3486266965872,
                    2001.6619841640836,
                    2001.6619841640836,
                    2001.6619841640836,
                    2001.6619841640836,
                    2001.6619841640836,
                    2001.6619841640836,
                    2001.6619841640836,
                    2001.6619841640836,
                    2001.6619841640836,
                    2001.6619841640836,
                    1999.3550508017465,
                    1999.3550508017465,
                    1999.3550508017465,
                    1999.3550508017465,
                    1998.1611260354075,
                    1998.1611260354075,
                    1998.1611260354075,
                    1998.1611260354075,
                    1998.1611260354075,
                    1998.1611260354075,
                    1998.1611260354075,
                    1998.1611260354075,
                    1998.1611260354075,
                    1998.1611260354075,
                    1998.1611260354075,
                    1998.1611260354075,
                    1998.1611260354075,
                    1998.1611260354075,
                    1998.1611260354075,
                    1998.1611260354075,
                    1998.1611260354075,
                    1998.1611260354075,
                    1998.1611260354075,
                    1998.1611260354075,
                    1998.1611260354075,
                    1998.1611260354075,
                    1998.1611260354075,
                    1998.1611260354075,
                    1998.1611260354075,
                    1998.1611260354075,
                    1998.1611260354075,
                    1998.1611260354075,
                    1998.1611260354075,
                    1998.1611260354075,
                    1996.0417813538052,
                    1996.0417813538052,
                    1970.8368963759415,
                    1970.8368963759415,
                    1970.8368963759415,
                    1970.8368963759415,
                    1965.6589319930338,
                    1965.6589319930338,
                    1965.6589319930338,
                    1965.6589319930338,
                    1965.6589319930338,
                    1965.6589319930338,
                    1965.6589319930338,
                    1965.6589319930338,
                    1965.6589319930338,
                    1965.6589319930338,
                    1965.6589319930338,
                    1965.6589319930338,
                    1965.6589319930338,
                    1965.6589319930338,
                    1965.6589319930338,
                    1965.6589319930338,
                    1965.6589319930338,
                    1965.6589319930338,
                    1965.6589319930338,
                    1965.6589319930338,
                    1957.3301096963335,
                    1957.3301096963335,
                    1957.3301096963335,
                    1957.3301096963335,
                    1957.3301096963335,
                    1957.3301096963335,
                    1957.3301096963335,
                    1957.3301096963335,
                    1957.3301096963335
                  ]
                },
                {
                  "marker": {
                    "color": "#cccccc"
                  },
                  "mode": "markers",
                  "name": "Infeasible Trial",
                  "showlegend": false,
                  "type": "scatter",
                  "x": [],
                  "y": []
                }
              ],
              "layout": {
                "template": {
                  "data": {
                    "bar": [
                      {
                        "error_x": {
                          "color": "#2a3f5f"
                        },
                        "error_y": {
                          "color": "#2a3f5f"
                        },
                        "marker": {
                          "line": {
                            "color": "#E5ECF6",
                            "width": 0.5
                          },
                          "pattern": {
                            "fillmode": "overlay",
                            "size": 10,
                            "solidity": 0.2
                          }
                        },
                        "type": "bar"
                      }
                    ],
                    "barpolar": [
                      {
                        "marker": {
                          "line": {
                            "color": "#E5ECF6",
                            "width": 0.5
                          },
                          "pattern": {
                            "fillmode": "overlay",
                            "size": 10,
                            "solidity": 0.2
                          }
                        },
                        "type": "barpolar"
                      }
                    ],
                    "carpet": [
                      {
                        "aaxis": {
                          "endlinecolor": "#2a3f5f",
                          "gridcolor": "white",
                          "linecolor": "white",
                          "minorgridcolor": "white",
                          "startlinecolor": "#2a3f5f"
                        },
                        "baxis": {
                          "endlinecolor": "#2a3f5f",
                          "gridcolor": "white",
                          "linecolor": "white",
                          "minorgridcolor": "white",
                          "startlinecolor": "#2a3f5f"
                        },
                        "type": "carpet"
                      }
                    ],
                    "choropleth": [
                      {
                        "colorbar": {
                          "outlinewidth": 0,
                          "ticks": ""
                        },
                        "type": "choropleth"
                      }
                    ],
                    "contour": [
                      {
                        "colorbar": {
                          "outlinewidth": 0,
                          "ticks": ""
                        },
                        "colorscale": [
                          [
                            0,
                            "#0d0887"
                          ],
                          [
                            0.1111111111111111,
                            "#46039f"
                          ],
                          [
                            0.2222222222222222,
                            "#7201a8"
                          ],
                          [
                            0.3333333333333333,
                            "#9c179e"
                          ],
                          [
                            0.4444444444444444,
                            "#bd3786"
                          ],
                          [
                            0.5555555555555556,
                            "#d8576b"
                          ],
                          [
                            0.6666666666666666,
                            "#ed7953"
                          ],
                          [
                            0.7777777777777778,
                            "#fb9f3a"
                          ],
                          [
                            0.8888888888888888,
                            "#fdca26"
                          ],
                          [
                            1,
                            "#f0f921"
                          ]
                        ],
                        "type": "contour"
                      }
                    ],
                    "contourcarpet": [
                      {
                        "colorbar": {
                          "outlinewidth": 0,
                          "ticks": ""
                        },
                        "type": "contourcarpet"
                      }
                    ],
                    "heatmap": [
                      {
                        "colorbar": {
                          "outlinewidth": 0,
                          "ticks": ""
                        },
                        "colorscale": [
                          [
                            0,
                            "#0d0887"
                          ],
                          [
                            0.1111111111111111,
                            "#46039f"
                          ],
                          [
                            0.2222222222222222,
                            "#7201a8"
                          ],
                          [
                            0.3333333333333333,
                            "#9c179e"
                          ],
                          [
                            0.4444444444444444,
                            "#bd3786"
                          ],
                          [
                            0.5555555555555556,
                            "#d8576b"
                          ],
                          [
                            0.6666666666666666,
                            "#ed7953"
                          ],
                          [
                            0.7777777777777778,
                            "#fb9f3a"
                          ],
                          [
                            0.8888888888888888,
                            "#fdca26"
                          ],
                          [
                            1,
                            "#f0f921"
                          ]
                        ],
                        "type": "heatmap"
                      }
                    ],
                    "histogram": [
                      {
                        "marker": {
                          "pattern": {
                            "fillmode": "overlay",
                            "size": 10,
                            "solidity": 0.2
                          }
                        },
                        "type": "histogram"
                      }
                    ],
                    "histogram2d": [
                      {
                        "colorbar": {
                          "outlinewidth": 0,
                          "ticks": ""
                        },
                        "colorscale": [
                          [
                            0,
                            "#0d0887"
                          ],
                          [
                            0.1111111111111111,
                            "#46039f"
                          ],
                          [
                            0.2222222222222222,
                            "#7201a8"
                          ],
                          [
                            0.3333333333333333,
                            "#9c179e"
                          ],
                          [
                            0.4444444444444444,
                            "#bd3786"
                          ],
                          [
                            0.5555555555555556,
                            "#d8576b"
                          ],
                          [
                            0.6666666666666666,
                            "#ed7953"
                          ],
                          [
                            0.7777777777777778,
                            "#fb9f3a"
                          ],
                          [
                            0.8888888888888888,
                            "#fdca26"
                          ],
                          [
                            1,
                            "#f0f921"
                          ]
                        ],
                        "type": "histogram2d"
                      }
                    ],
                    "histogram2dcontour": [
                      {
                        "colorbar": {
                          "outlinewidth": 0,
                          "ticks": ""
                        },
                        "colorscale": [
                          [
                            0,
                            "#0d0887"
                          ],
                          [
                            0.1111111111111111,
                            "#46039f"
                          ],
                          [
                            0.2222222222222222,
                            "#7201a8"
                          ],
                          [
                            0.3333333333333333,
                            "#9c179e"
                          ],
                          [
                            0.4444444444444444,
                            "#bd3786"
                          ],
                          [
                            0.5555555555555556,
                            "#d8576b"
                          ],
                          [
                            0.6666666666666666,
                            "#ed7953"
                          ],
                          [
                            0.7777777777777778,
                            "#fb9f3a"
                          ],
                          [
                            0.8888888888888888,
                            "#fdca26"
                          ],
                          [
                            1,
                            "#f0f921"
                          ]
                        ],
                        "type": "histogram2dcontour"
                      }
                    ],
                    "mesh3d": [
                      {
                        "colorbar": {
                          "outlinewidth": 0,
                          "ticks": ""
                        },
                        "type": "mesh3d"
                      }
                    ],
                    "parcoords": [
                      {
                        "line": {
                          "colorbar": {
                            "outlinewidth": 0,
                            "ticks": ""
                          }
                        },
                        "type": "parcoords"
                      }
                    ],
                    "pie": [
                      {
                        "automargin": true,
                        "type": "pie"
                      }
                    ],
                    "scatter": [
                      {
                        "fillpattern": {
                          "fillmode": "overlay",
                          "size": 10,
                          "solidity": 0.2
                        },
                        "type": "scatter"
                      }
                    ],
                    "scatter3d": [
                      {
                        "line": {
                          "colorbar": {
                            "outlinewidth": 0,
                            "ticks": ""
                          }
                        },
                        "marker": {
                          "colorbar": {
                            "outlinewidth": 0,
                            "ticks": ""
                          }
                        },
                        "type": "scatter3d"
                      }
                    ],
                    "scattercarpet": [
                      {
                        "marker": {
                          "colorbar": {
                            "outlinewidth": 0,
                            "ticks": ""
                          }
                        },
                        "type": "scattercarpet"
                      }
                    ],
                    "scattergeo": [
                      {
                        "marker": {
                          "colorbar": {
                            "outlinewidth": 0,
                            "ticks": ""
                          }
                        },
                        "type": "scattergeo"
                      }
                    ],
                    "scattergl": [
                      {
                        "marker": {
                          "colorbar": {
                            "outlinewidth": 0,
                            "ticks": ""
                          }
                        },
                        "type": "scattergl"
                      }
                    ],
                    "scattermap": [
                      {
                        "marker": {
                          "colorbar": {
                            "outlinewidth": 0,
                            "ticks": ""
                          }
                        },
                        "type": "scattermap"
                      }
                    ],
                    "scattermapbox": [
                      {
                        "marker": {
                          "colorbar": {
                            "outlinewidth": 0,
                            "ticks": ""
                          }
                        },
                        "type": "scattermapbox"
                      }
                    ],
                    "scatterpolar": [
                      {
                        "marker": {
                          "colorbar": {
                            "outlinewidth": 0,
                            "ticks": ""
                          }
                        },
                        "type": "scatterpolar"
                      }
                    ],
                    "scatterpolargl": [
                      {
                        "marker": {
                          "colorbar": {
                            "outlinewidth": 0,
                            "ticks": ""
                          }
                        },
                        "type": "scatterpolargl"
                      }
                    ],
                    "scatterternary": [
                      {
                        "marker": {
                          "colorbar": {
                            "outlinewidth": 0,
                            "ticks": ""
                          }
                        },
                        "type": "scatterternary"
                      }
                    ],
                    "surface": [
                      {
                        "colorbar": {
                          "outlinewidth": 0,
                          "ticks": ""
                        },
                        "colorscale": [
                          [
                            0,
                            "#0d0887"
                          ],
                          [
                            0.1111111111111111,
                            "#46039f"
                          ],
                          [
                            0.2222222222222222,
                            "#7201a8"
                          ],
                          [
                            0.3333333333333333,
                            "#9c179e"
                          ],
                          [
                            0.4444444444444444,
                            "#bd3786"
                          ],
                          [
                            0.5555555555555556,
                            "#d8576b"
                          ],
                          [
                            0.6666666666666666,
                            "#ed7953"
                          ],
                          [
                            0.7777777777777778,
                            "#fb9f3a"
                          ],
                          [
                            0.8888888888888888,
                            "#fdca26"
                          ],
                          [
                            1,
                            "#f0f921"
                          ]
                        ],
                        "type": "surface"
                      }
                    ],
                    "table": [
                      {
                        "cells": {
                          "fill": {
                            "color": "#EBF0F8"
                          },
                          "line": {
                            "color": "white"
                          }
                        },
                        "header": {
                          "fill": {
                            "color": "#C8D4E3"
                          },
                          "line": {
                            "color": "white"
                          }
                        },
                        "type": "table"
                      }
                    ]
                  },
                  "layout": {
                    "annotationdefaults": {
                      "arrowcolor": "#2a3f5f",
                      "arrowhead": 0,
                      "arrowwidth": 1
                    },
                    "autotypenumbers": "strict",
                    "coloraxis": {
                      "colorbar": {
                        "outlinewidth": 0,
                        "ticks": ""
                      }
                    },
                    "colorscale": {
                      "diverging": [
                        [
                          0,
                          "#8e0152"
                        ],
                        [
                          0.1,
                          "#c51b7d"
                        ],
                        [
                          0.2,
                          "#de77ae"
                        ],
                        [
                          0.3,
                          "#f1b6da"
                        ],
                        [
                          0.4,
                          "#fde0ef"
                        ],
                        [
                          0.5,
                          "#f7f7f7"
                        ],
                        [
                          0.6,
                          "#e6f5d0"
                        ],
                        [
                          0.7,
                          "#b8e186"
                        ],
                        [
                          0.8,
                          "#7fbc41"
                        ],
                        [
                          0.9,
                          "#4d9221"
                        ],
                        [
                          1,
                          "#276419"
                        ]
                      ],
                      "sequential": [
                        [
                          0,
                          "#0d0887"
                        ],
                        [
                          0.1111111111111111,
                          "#46039f"
                        ],
                        [
                          0.2222222222222222,
                          "#7201a8"
                        ],
                        [
                          0.3333333333333333,
                          "#9c179e"
                        ],
                        [
                          0.4444444444444444,
                          "#bd3786"
                        ],
                        [
                          0.5555555555555556,
                          "#d8576b"
                        ],
                        [
                          0.6666666666666666,
                          "#ed7953"
                        ],
                        [
                          0.7777777777777778,
                          "#fb9f3a"
                        ],
                        [
                          0.8888888888888888,
                          "#fdca26"
                        ],
                        [
                          1,
                          "#f0f921"
                        ]
                      ],
                      "sequentialminus": [
                        [
                          0,
                          "#0d0887"
                        ],
                        [
                          0.1111111111111111,
                          "#46039f"
                        ],
                        [
                          0.2222222222222222,
                          "#7201a8"
                        ],
                        [
                          0.3333333333333333,
                          "#9c179e"
                        ],
                        [
                          0.4444444444444444,
                          "#bd3786"
                        ],
                        [
                          0.5555555555555556,
                          "#d8576b"
                        ],
                        [
                          0.6666666666666666,
                          "#ed7953"
                        ],
                        [
                          0.7777777777777778,
                          "#fb9f3a"
                        ],
                        [
                          0.8888888888888888,
                          "#fdca26"
                        ],
                        [
                          1,
                          "#f0f921"
                        ]
                      ]
                    },
                    "colorway": [
                      "#636efa",
                      "#EF553B",
                      "#00cc96",
                      "#ab63fa",
                      "#FFA15A",
                      "#19d3f3",
                      "#FF6692",
                      "#B6E880",
                      "#FF97FF",
                      "#FECB52"
                    ],
                    "font": {
                      "color": "#2a3f5f"
                    },
                    "geo": {
                      "bgcolor": "white",
                      "lakecolor": "white",
                      "landcolor": "#E5ECF6",
                      "showlakes": true,
                      "showland": true,
                      "subunitcolor": "white"
                    },
                    "hoverlabel": {
                      "align": "left"
                    },
                    "hovermode": "closest",
                    "mapbox": {
                      "style": "light"
                    },
                    "paper_bgcolor": "white",
                    "plot_bgcolor": "#E5ECF6",
                    "polar": {
                      "angularaxis": {
                        "gridcolor": "white",
                        "linecolor": "white",
                        "ticks": ""
                      },
                      "bgcolor": "#E5ECF6",
                      "radialaxis": {
                        "gridcolor": "white",
                        "linecolor": "white",
                        "ticks": ""
                      }
                    },
                    "scene": {
                      "xaxis": {
                        "backgroundcolor": "#E5ECF6",
                        "gridcolor": "white",
                        "gridwidth": 2,
                        "linecolor": "white",
                        "showbackground": true,
                        "ticks": "",
                        "zerolinecolor": "white"
                      },
                      "yaxis": {
                        "backgroundcolor": "#E5ECF6",
                        "gridcolor": "white",
                        "gridwidth": 2,
                        "linecolor": "white",
                        "showbackground": true,
                        "ticks": "",
                        "zerolinecolor": "white"
                      },
                      "zaxis": {
                        "backgroundcolor": "#E5ECF6",
                        "gridcolor": "white",
                        "gridwidth": 2,
                        "linecolor": "white",
                        "showbackground": true,
                        "ticks": "",
                        "zerolinecolor": "white"
                      }
                    },
                    "shapedefaults": {
                      "line": {
                        "color": "#2a3f5f"
                      }
                    },
                    "ternary": {
                      "aaxis": {
                        "gridcolor": "white",
                        "linecolor": "white",
                        "ticks": ""
                      },
                      "baxis": {
                        "gridcolor": "white",
                        "linecolor": "white",
                        "ticks": ""
                      },
                      "bgcolor": "#E5ECF6",
                      "caxis": {
                        "gridcolor": "white",
                        "linecolor": "white",
                        "ticks": ""
                      }
                    },
                    "title": {
                      "x": 0.05
                    },
                    "xaxis": {
                      "automargin": true,
                      "gridcolor": "white",
                      "linecolor": "white",
                      "ticks": "",
                      "title": {
                        "standoff": 15
                      },
                      "zerolinecolor": "white",
                      "zerolinewidth": 2
                    },
                    "yaxis": {
                      "automargin": true,
                      "gridcolor": "white",
                      "linecolor": "white",
                      "ticks": "",
                      "title": {
                        "standoff": 15
                      },
                      "zerolinecolor": "white",
                      "zerolinewidth": 2
                    }
                  }
                },
                "title": {
                  "text": "Optimization History Plot"
                },
                "xaxis": {
                  "title": {
                    "text": "Trial"
                  }
                },
                "yaxis": {
                  "title": {
                    "text": "Objective Value"
                  }
                }
              }
            }
          },
          "metadata": {},
          "output_type": "display_data"
        },
        {
          "data": {
            "application/vnd.plotly.v1+json": {
              "config": {
                "plotlyServerURL": "https://plot.ly"
              },
              "data": [
                {
                  "dimensions": [
                    {
                      "label": "Objective Value",
                      "range": [
                        1957.3301096963335,
                        13553.744891725202
                      ],
                      "values": [
                        6663.268984454342,
                        3512.412216279502,
                        7200.146721077353,
                        3654.0607761390806,
                        8117.177501639726,
                        9936.853740426117,
                        6779.814402875339,
                        11696.011277081923,
                        6438.148993552175,
                        8658.242260229774,
                        13553.744891725202,
                        6798.97043171071,
                        4454.825302037502,
                        3383.855466105281,
                        2906.1633996672945,
                        2248.7521529665814,
                        6995.564633296483,
                        2163.2196817675717,
                        4946.425702714242,
                        2386.998500774903,
                        7025.419196891397,
                        2352.5075214156122,
                        2267.6111505982353,
                        2180.291616389456,
                        4453.65619257034,
                        2347.9410171457134,
                        7114.566656175948,
                        3847.1208286169176,
                        2035.0528308245969,
                        7084.973382225372,
                        7289.532493844416,
                        2061.2519141153944,
                        2056.283289243663,
                        2011.3486266965872,
                        4984.766516652556,
                        2027.2966818528637,
                        3480.2507861427302,
                        4977.942821587916,
                        2490.8088793796546,
                        5649.221131569482,
                        7200.502135775908,
                        2001.6619841640836,
                        2063.984299625508,
                        2046.3975825945752,
                        2057.4626377237432,
                        7266.326252373636,
                        4563.847820305227,
                        7032.980822811759,
                        7370.845972886341,
                        4770.195698339711,
                        5141.67125609959,
                        1999.3550508017465,
                        2018.4094978802577,
                        2043.2678135049932,
                        2006.702351419685,
                        1998.1611260354075,
                        4732.880088305102,
                        2008.6437128747566,
                        2207.154550768026,
                        2033.8307257505712,
                        7163.223763726091,
                        2006.1230474535323,
                        1998.6499032528723,
                        2144.220984374339,
                        2037.6307479662112,
                        2026.910782883114,
                        2069.2236726485803,
                        2127.578803535725,
                        2134.4271434455927,
                        3427.7728011144845,
                        2219.1843648508907,
                        4998.8358300582895,
                        2021.3495629271222,
                        4786.413853494881,
                        2084.189552797848,
                        2023.944105846945,
                        2055.682234199126,
                        6419.437028578834,
                        2515.7255467625996,
                        2007.7179185664565,
                        4855.257122496939,
                        2033.797631720231,
                        2027.0766553626968,
                        2019.1829229831374,
                        2065.315690027029,
                        1996.0417813538052,
                        2005.3273529073397,
                        1970.8368963759415,
                        1986.7929697417696,
                        2025.3878242425524,
                        2100.918833903711,
                        1965.6589319930338,
                        2007.615923324306,
                        2028.7201584781758,
                        2016.7182962653922,
                        2492.398142696476,
                        7280.760602017392,
                        1972.6631372615786,
                        1968.0842723187839,
                        2008.9405662211198,
                        2032.4925275116896,
                        2033.1708799244668,
                        2015.3863759282963,
                        1988.9872618761108,
                        7768.444087333912,
                        2177.990958366833,
                        1986.8262279099843,
                        1999.3852323352605,
                        2058.33030937262,
                        1986.0629011708172,
                        2004.7926236141673,
                        1957.3301096963335,
                        2029.1704475129063,
                        1970.217594588376,
                        2003.6418961180814,
                        1989.1339474976992,
                        2003.3595305425376,
                        1970.7986669624345,
                        2018.8880497048494,
                        2028.6855815869371
                      ]
                    },
                    {
                      "label": "learning_rate",
                      "range": [
                        -2.988955765752795,
                        -1.001413045832455
                      ],
                      "ticktext": [
                        "0.00103",
                        "0.01",
                        "0.0997"
                      ],
                      "tickvals": [
                        -2.988955765752795,
                        -2,
                        -1.001413045832455
                      ],
                      "values": [
                        -2.250919762305275,
                        -1.7977699765135824,
                        -2.391515514080924,
                        -2.087860031565928,
                        -2.869896814029441,
                        -2.755923530310442,
                        -1.9065794413134403,
                        -2.823014995896161,
                        -2.4381309806252385,
                        -2.988955765752795,
                        -1.2190429112717844,
                        -1.6930832694720264,
                        -1.5771198686437722,
                        -2.0148937444879365,
                        -1.3704325619902045,
                        -1.0022209778208104,
                        -1.1112945593206254,
                        -1.4204146513326452,
                        -1.0144601208853465,
                        -1.540194318858826,
                        -1.3313000182213828,
                        -1.5232579219881999,
                        -1.4110894820518927,
                        -1.298765734717396,
                        -1.2293503931266603,
                        -1.001413045832455,
                        -1.2329361433737436,
                        -1.7051608477818037,
                        -1.1209109139370939,
                        -1.428758027423761,
                        -1.2058813666929056,
                        -1.1011053096309833,
                        -1.1542212132675922,
                        -1.096150710663537,
                        -1.1167387221571154,
                        -1.1141094230154422,
                        -2.2409781684078096,
                        -1.1327673033787753,
                        -1.8390702610908871,
                        -2.554108453212548,
                        -1.2926472929981232,
                        -1.0970510814047927,
                        -1.1449011952019943,
                        -1.0813923978048727,
                        -1.0671858564680194,
                        -1.2797377458805648,
                        -1.474912788849493,
                        -1.6471590609947642,
                        -1.1903155908457146,
                        -1.366427098563406,
                        -1.069126892712513,
                        -1.1955534330874142,
                        -1.0058242557227788,
                        -1.002593694358662,
                        -1.244706591204506,
                        -1.2596417713512678,
                        -1.2685844722627917,
                        -1.3629506004949545,
                        -1.6289672298233797,
                        -1.3334130914113933,
                        -1.478519904611533,
                        -1.2076967291811076,
                        -1.203549677322323,
                        -1.4030737143997416,
                        -1.1928771755576035,
                        -1.2427558681856283,
                        -1.325546178850284,
                        -1.4617741418638428,
                        -1.372976385936894,
                        -2.1396056830965406,
                        -1.567575483364719,
                        -1.2102639929828618,
                        -1.1658263371370214,
                        -1.0554219039460184,
                        -1.2717579131237375,
                        -1.1787546929611645,
                        -1.323923521294337,
                        -2.5620998990302355,
                        -1.9337022409410118,
                        -1.0683804094384224,
                        -1.2390111290308954,
                        -1.052769714531518,
                        -1.1067626440984342,
                        -1.1759716421534696,
                        -1.0548597893849163,
                        -1.1451749133754892,
                        -1.252955470204094,
                        -1.2693808293545215,
                        -1.2611965884249183,
                        -1.4328497333544714,
                        -1.5116322507675481,
                        -1.2651822137429638,
                        -1.2826644828559757,
                        -1.3100166579669157,
                        -1.1390839151503172,
                        -1.2247402544608486,
                        -1.3774932341050252,
                        -1.1539264883891334,
                        -1.1596496514331294,
                        -1.1374992724940423,
                        -1.1649368866838572,
                        -1.2826824401860162,
                        -1.3460432360157835,
                        -1.2557573010997538,
                        -2.929233551066093,
                        -1.7465687548350233,
                        -1.1992273385783747,
                        -1.2055383696816602,
                        -1.0374484299613471,
                        -1.3141884012195895,
                        -1.3014522490480993,
                        -1.1341583990532726,
                        -1.408825083308209,
                        -1.1324546629293102,
                        -1.1268985311600042,
                        -1.0975469456089717,
                        -1.1092759030960533,
                        -1.1591303063525,
                        -1.1663470285171442,
                        -1.0344216248216047
                      ]
                    },
                    {
                      "label": "max_depth",
                      "range": [
                        3,
                        10
                      ],
                      "values": [
                        8,
                        3,
                        6,
                        4,
                        10,
                        3,
                        10,
                        3,
                        4,
                        8,
                        6,
                        5,
                        4,
                        4,
                        3,
                        5,
                        5,
                        7,
                        8,
                        7,
                        7,
                        7,
                        9,
                        9,
                        9,
                        5,
                        9,
                        6,
                        8,
                        8,
                        9,
                        7,
                        7,
                        7,
                        7,
                        8,
                        8,
                        8,
                        6,
                        10,
                        8,
                        7,
                        6,
                        7,
                        8,
                        6,
                        7,
                        8,
                        8,
                        7,
                        6,
                        7,
                        7,
                        8,
                        7,
                        7,
                        6,
                        7,
                        6,
                        7,
                        7,
                        7,
                        7,
                        6,
                        7,
                        7,
                        6,
                        7,
                        6,
                        5,
                        7,
                        7,
                        7,
                        7,
                        7,
                        8,
                        7,
                        7,
                        6,
                        8,
                        8,
                        7,
                        8,
                        7,
                        8,
                        7,
                        9,
                        9,
                        9,
                        10,
                        9,
                        9,
                        9,
                        10,
                        9,
                        9,
                        9,
                        9,
                        9,
                        10,
                        9,
                        9,
                        9,
                        9,
                        10,
                        9,
                        9,
                        9,
                        10,
                        9,
                        9,
                        9,
                        9,
                        9,
                        9,
                        9,
                        9,
                        9,
                        9,
                        9
                      ]
                    },
                    {
                      "label": "max_leaves",
                      "range": [
                        1,
                        100
                      ],
                      "values": [
                        60,
                        97,
                        29,
                        51,
                        81,
                        91,
                        78,
                        32,
                        81,
                        73,
                        1,
                        44,
                        6,
                        100,
                        100,
                        100,
                        64,
                        89,
                        87,
                        68,
                        89,
                        69,
                        58,
                        54,
                        18,
                        41,
                        54,
                        92,
                        78,
                        60,
                        73,
                        81,
                        85,
                        84,
                        83,
                        75,
                        75,
                        94,
                        66,
                        84,
                        75,
                        84,
                        78,
                        94,
                        93,
                        95,
                        79,
                        72,
                        87,
                        96,
                        64,
                        85,
                        77,
                        79,
                        70,
                        70,
                        43,
                        68,
                        62,
                        70,
                        57,
                        67,
                        70,
                        48,
                        66,
                        69,
                        61,
                        56,
                        51,
                        71,
                        66,
                        88,
                        82,
                        33,
                        74,
                        85,
                        62,
                        91,
                        68,
                        80,
                        81,
                        76,
                        90,
                        85,
                        73,
                        79,
                        79,
                        79,
                        87,
                        86,
                        82,
                        77,
                        98,
                        77,
                        88,
                        16,
                        83,
                        79,
                        79,
                        75,
                        90,
                        79,
                        72,
                        77,
                        77,
                        83,
                        81,
                        81,
                        74,
                        76,
                        71,
                        87,
                        78,
                        87,
                        92,
                        87,
                        89,
                        87,
                        86,
                        98
                      ]
                    },
                    {
                      "label": "min_child_weight",
                      "range": [
                        1,
                        5
                      ],
                      "values": [
                        1,
                        5,
                        4,
                        3,
                        2,
                        2,
                        5,
                        2,
                        1,
                        4,
                        5,
                        3,
                        4,
                        3,
                        4,
                        3,
                        4,
                        4,
                        3,
                        2,
                        3,
                        2,
                        2,
                        3,
                        3,
                        4,
                        4,
                        3,
                        3,
                        1,
                        5,
                        3,
                        3,
                        4,
                        3,
                        4,
                        5,
                        4,
                        4,
                        5,
                        4,
                        3,
                        3,
                        2,
                        1,
                        2,
                        2,
                        2,
                        4,
                        1,
                        4,
                        3,
                        3,
                        3,
                        3,
                        3,
                        3,
                        3,
                        3,
                        3,
                        3,
                        3,
                        3,
                        3,
                        3,
                        3,
                        3,
                        3,
                        3,
                        3,
                        3,
                        3,
                        3,
                        3,
                        3,
                        2,
                        3,
                        4,
                        3,
                        3,
                        3,
                        3,
                        3,
                        2,
                        3,
                        3,
                        3,
                        3,
                        3,
                        3,
                        2,
                        3,
                        3,
                        3,
                        3,
                        3,
                        3,
                        3,
                        3,
                        3,
                        3,
                        3,
                        3,
                        3,
                        3,
                        3,
                        3,
                        3,
                        3,
                        3,
                        3,
                        3,
                        3,
                        3,
                        3,
                        3,
                        3,
                        3,
                        3,
                        3
                      ]
                    },
                    {
                      "label": "min_frequency",
                      "range": [
                        0.00028728251032597574,
                        0.9716452764893935
                      ],
                      "values": [
                        0.8661761457749352,
                        0.18340450985343382,
                        0.3663618432936917,
                        0.17052412368729153,
                        0.4401524937396013,
                        0.5200680211778108,
                        0.9218742350231168,
                        0.3567533266935893,
                        0.1987156815341724,
                        0.11586905952512971,
                        0.012307547750103676,
                        0.6355171476922923,
                        0.23968278799454545,
                        0.004470039476462545,
                        0.0016620296848777333,
                        0.0024139548110165597,
                        0.6394684662708776,
                        0.00475950580839307,
                        0.2929395149225299,
                        0.09017405294742786,
                        0.7305414525438464,
                        0.06988288668736281,
                        0.11939785154402878,
                        0.11573431007745509,
                        0.2773545492722378,
                        0.08264108415292204,
                        0.3461430390504017,
                        0.13987195446445883,
                        0.053563213586576654,
                        0.46300316817882514,
                        0.7801830784872783,
                        0.04244775461821879,
                        0.05401921196359042,
                        0.19309555704107426,
                        0.2172658622580817,
                        0.171350684704786,
                        0.1802451367542572,
                        0.30781419847763186,
                        0.15739402581854828,
                        0.2363460352698759,
                        0.42068709864717424,
                        0.06892429716711912,
                        0.0664550975369087,
                        0.16852570837537537,
                        0.17567821012532764,
                        0.9716452764893935,
                        0.24857550792414393,
                        0.5209579953143054,
                        0.3926684231000561,
                        0.32547666572878853,
                        0.20829461233122212,
                        0.14721508200555952,
                        0.13698277441599493,
                        0.11202767955442444,
                        0.04253171601351545,
                        0.12373924427083233,
                        0.2666525325253397,
                        0.12326455470972798,
                        0.03240681317814369,
                        0.08816553667932804,
                        0.5598692971713618,
                        0.12119484114675114,
                        0.10433158365791047,
                        0.10230398915380715,
                        0.030245421216698796,
                        0.14672416495151744,
                        0.1265162124846554,
                        0.06537704375306501,
                        0.09674686749508489,
                        0.03253414328819068,
                        0.14047396641344853,
                        0.20464939724920395,
                        0.07820565766650146,
                        0.2125257397762759,
                        0.008897546534174794,
                        0.18727424729383602,
                        0.1130371527536698,
                        0.22979184646974624,
                        0.04804980443008221,
                        0.15490905879188865,
                        0.2624800944928952,
                        0.15205510290111043,
                        0.08839194310362583,
                        0.16543163945685554,
                        0.12201139849579834,
                        0.06509235397937593,
                        0.06181617069801511,
                        0.0015202184601480276,
                        0.016636312149707386,
                        0.012324357157007894,
                        0.0650859798941847,
                        0.02222577338728098,
                        0.01808617367962425,
                        0.05626209292882156,
                        0.07831055950557911,
                        0.03439455676892083,
                        0.8524877027395774,
                        0.009388195944271515,
                        0.020252476284903703,
                        0.004092163870850724,
                        0.025036411084672132,
                        0.0017801172227620739,
                        0.05136924754664311,
                        0.09531138302191067,
                        0.09276386392404651,
                        0.027123623630745504,
                        0.10060058974717757,
                        0.10243701233392324,
                        0.042542597153843335,
                        0.0758468435567519,
                        0.07722387963960656,
                        0.019486310026664636,
                        0.00028728251032597574,
                        0.021775493452074662,
                        0.024637314857277007,
                        0.04742329044762064,
                        0.049905588746819954,
                        0.027880437058416994,
                        0.019414959230659216,
                        0.03913418241089135
                      ]
                    },
                    {
                      "label": "n_estimators",
                      "range": [
                        55,
                        991
                      ],
                      "values": [
                        954,
                        723,
                        549,
                        796,
                        952,
                        520,
                        225,
                        236,
                        566,
                        825,
                        55,
                        731,
                        714,
                        753,
                        669,
                        469,
                        384,
                        454,
                        402,
                        393,
                        278,
                        413,
                        475,
                        482,
                        615,
                        302,
                        483,
                        167,
                        608,
                        620,
                        882,
                        463,
                        609,
                        611,
                        606,
                        563,
                        669,
                        553,
                        689,
                        810,
                        540,
                        590,
                        600,
                        655,
                        664,
                        761,
                        520,
                        650,
                        873,
                        580,
                        989,
                        709,
                        713,
                        778,
                        707,
                        728,
                        734,
                        850,
                        859,
                        837,
                        928,
                        700,
                        792,
                        786,
                        705,
                        752,
                        909,
                        823,
                        790,
                        733,
                        640,
                        700,
                        690,
                        755,
                        520,
                        683,
                        857,
                        633,
                        803,
                        578,
                        577,
                        587,
                        727,
                        631,
                        544,
                        677,
                        769,
                        769,
                        772,
                        780,
                        763,
                        812,
                        816,
                        897,
                        734,
                        667,
                        771,
                        833,
                        805,
                        796,
                        838,
                        745,
                        831,
                        887,
                        897,
                        876,
                        932,
                        928,
                        947,
                        973,
                        991,
                        956,
                        959,
                        953,
                        979,
                        967,
                        972,
                        943,
                        940,
                        914
                      ]
                    },
                    {
                      "label": "reg_alpha",
                      "range": [
                        0.0077576833321514535,
                        0.9951025127055719
                      ],
                      "values": [
                        0.15599452033620265,
                        0.21233911067827616,
                        0.13949386065204183,
                        0.046450412719997725,
                        0.09767211400638387,
                        0.662522284353982,
                        0.8948273504276488,
                        0.2713490317738959,
                        0.9868869366005173,
                        0.07404465173409036,
                        0.4224910644202765,
                        0.3587862975096967,
                        0.0077576833321514535,
                        0.6608557252922866,
                        0.7267506372103785,
                        0.6590286048089739,
                        0.6308314706796186,
                        0.8041831949427773,
                        0.8120700012360598,
                        0.5014570154223665,
                        0.5065803901639296,
                        0.5241343157156879,
                        0.5700098708551282,
                        0.7839470679309517,
                        0.8115075127827684,
                        0.7572785415563146,
                        0.9185578054808499,
                        0.8534782795466548,
                        0.7230557372669176,
                        0.7335645010324463,
                        0.9465419492444492,
                        0.7657551962237795,
                        0.7731770197444547,
                        0.8600675828841903,
                        0.8729910502622344,
                        0.6070481908510994,
                        0.5844574191243668,
                        0.7030610607504566,
                        0.6043371983713467,
                        0.4314496037839943,
                        0.9951025127055719,
                        0.6878070504701976,
                        0.6777608942720852,
                        0.8390480996680313,
                        0.8362200067166216,
                        0.9214217108064736,
                        0.5602863779920043,
                        0.7085157689251845,
                        0.41886083697345716,
                        0.19714801730889508,
                        0.8911342372405983,
                        0.6211111305433124,
                        0.6154341196360603,
                        0.6136554298035408,
                        0.6433880614388975,
                        0.451864147084058,
                        0.3133579452466913,
                        0.4638062456963772,
                        0.46302291532874085,
                        0.5337164070421292,
                        0.3798146716645068,
                        0.4765858333648158,
                        0.4674509561809273,
                        0.45147695052413056,
                        0.48184563364575855,
                        0.3535139098146767,
                        0.5426531435097623,
                        0.38337761158694683,
                        0.6566297930623354,
                        0.49635820415851745,
                        0.33197968394345223,
                        0.3997196041897726,
                        0.272773071313378,
                        0.4531460594701152,
                        0.5180096354082121,
                        0.5793593705689974,
                        0.4790864908436115,
                        0.6840831791737695,
                        0.5507480829959206,
                        0.65388434500639,
                        0.6274107526922119,
                        0.7516353295390958,
                        0.645122124520087,
                        0.4163240605082018,
                        0.5099762106806203,
                        0.5833087988505858,
                        0.6858924843697488,
                        0.5868857959034367,
                        0.5849403441344343,
                        0.585166061537554,
                        0.6882421131998778,
                        0.594679504896469,
                        0.5706845032104579,
                        0.5995398833851427,
                        0.7302469338078663,
                        0.5528529585119677,
                        0.6309097058032634,
                        0.5254254583302101,
                        0.5267744054338405,
                        0.5272287380371068,
                        0.5907891224805122,
                        0.6749065412850528,
                        0.7071252746495991,
                        0.5366084063817335,
                        0.49964732249967114,
                        0.5663082062249706,
                        0.615220453973662,
                        0.5428423637952011,
                        0.629036199941722,
                        0.5296451044409559,
                        0.5248381032597297,
                        0.44241352393265937,
                        0.4439882423731581,
                        0.4880138619679051,
                        0.49783665160826895,
                        0.4372470108567978,
                        0.4318772849753997,
                        0.5576755529944563,
                        0.563331629839117,
                        0.48358276507647197
                      ]
                    },
                    {
                      "label": "reg_lambda",
                      "range": [
                        0.0009887632368027477,
                        0.9831797103340575
                      ],
                      "values": [
                        0.05808361216819946,
                        0.18182496720710062,
                        0.29214464853521815,
                        0.6075448519014384,
                        0.6842330265121569,
                        0.31171107608941095,
                        0.5978999788110851,
                        0.8287375091519293,
                        0.7722447692966574,
                        0.3584657285442726,
                        0.015594799658456393,
                        0.4818963296633296,
                        0.9831797103340575,
                        0.48413622534481515,
                        0.16699072187382275,
                        0.1505937270491115,
                        0.17259481649867112,
                        0.17032520363514864,
                        0.40716169021547477,
                        0.11072341297753602,
                        0.27053660124727624,
                        0.09547014998402853,
                        0.21495892496516378,
                        0.23517729313781477,
                        0.2687722451974762,
                        0.38199961179064884,
                        0.027181368492753016,
                        0.1279585237437909,
                        0.41543887479494407,
                        0.4263411195634767,
                        0.5565873516191585,
                        0.23574621840892873,
                        0.2231287702672174,
                        0.34164261960118203,
                        0.45576844061820715,
                        0.3259749533811202,
                        0.3350796008239674,
                        0.5384792692264999,
                        0.31443475765982776,
                        0.3819065794997288,
                        0.649430093267262,
                        0.28244793781432215,
                        0.3194511823563083,
                        0.2862375230558365,
                        0.43440412139353124,
                        0.2838639428165017,
                        0.36634471727857565,
                        0.5227449761537953,
                        0.34044360287632197,
                        0.4870583650659677,
                        0.6080605149149658,
                        0.21123909566962495,
                        0.27307886274495996,
                        0.06503097703064481,
                        0.18892476865907626,
                        0.20124562370139548,
                        0.1946658120362273,
                        0.14647710942703338,
                        0.07931632159875662,
                        0.13647741664048202,
                        0.19242832423375594,
                        0.25457586047434394,
                        0.24481581426842763,
                        0.2494627854528637,
                        0.16519791725024718,
                        0.03483526751831156,
                        0.1072273829805076,
                        0.2012205534721982,
                        0.1440329715640252,
                        0.7884502408373482,
                        0.0009887632368027477,
                        0.24787489633049514,
                        0.21442340349815248,
                        0.9532009861837831,
                        0.17122405980463262,
                        0.25096978254776914,
                        0.29399119575857674,
                        0.12879628961465736,
                        0.21719461016498492,
                        0.09869766011859257,
                        0.05249599600891933,
                        0.09554339959340244,
                        0.18091250626610483,
                        0.3013898537812615,
                        0.1493467001344143,
                        0.3554874323426126,
                        0.25776413711970997,
                        0.2591655428397175,
                        0.2606019739752482,
                        0.2625036101072735,
                        0.3722051271076199,
                        0.22268598237212806,
                        0.22801886031480673,
                        0.39760810956472353,
                        0.34353724020808185,
                        0.2759023026826147,
                        0.3042785033894071,
                        0.23465687169257554,
                        0.23321845867771257,
                        0.23005071351882958,
                        0.3183303071137169,
                        0.20256008219498534,
                        0.2372118409083375,
                        0.2680696301770414,
                        0.21373024613306038,
                        0.27341541519489315,
                        0.29110655693763293,
                        0.35428655576523754,
                        0.1617124221617492,
                        0.3004786498135632,
                        0.30018791636532716,
                        0.23882279119128233,
                        0.32036666177654505,
                        0.2410605458820652,
                        0.283519149753571,
                        0.18525971670377278,
                        0.3278946768551345,
                        0.1832934700133598,
                        0.18073375969574015,
                        0.11570354796952406
                      ]
                    }
                  ],
                  "labelangle": 30,
                  "labelside": "bottom",
                  "line": {
                    "color": [
                      6663.268984454342,
                      3512.412216279502,
                      7200.146721077353,
                      3654.0607761390806,
                      8117.177501639726,
                      9936.853740426117,
                      6779.814402875339,
                      11696.011277081923,
                      6438.148993552175,
                      8658.242260229774,
                      13553.744891725202,
                      6798.97043171071,
                      4454.825302037502,
                      3383.855466105281,
                      2906.1633996672945,
                      2248.7521529665814,
                      6995.564633296483,
                      2163.2196817675717,
                      4946.425702714242,
                      2386.998500774903,
                      7025.419196891397,
                      2352.5075214156122,
                      2267.6111505982353,
                      2180.291616389456,
                      4453.65619257034,
                      2347.9410171457134,
                      7114.566656175948,
                      3847.1208286169176,
                      2035.0528308245969,
                      7084.973382225372,
                      7289.532493844416,
                      2061.2519141153944,
                      2056.283289243663,
                      2011.3486266965872,
                      4984.766516652556,
                      2027.2966818528637,
                      3480.2507861427302,
                      4977.942821587916,
                      2490.8088793796546,
                      5649.221131569482,
                      7200.502135775908,
                      2001.6619841640836,
                      2063.984299625508,
                      2046.3975825945752,
                      2057.4626377237432,
                      7266.326252373636,
                      4563.847820305227,
                      7032.980822811759,
                      7370.845972886341,
                      4770.195698339711,
                      5141.67125609959,
                      1999.3550508017465,
                      2018.4094978802577,
                      2043.2678135049932,
                      2006.702351419685,
                      1998.1611260354075,
                      4732.880088305102,
                      2008.6437128747566,
                      2207.154550768026,
                      2033.8307257505712,
                      7163.223763726091,
                      2006.1230474535323,
                      1998.6499032528723,
                      2144.220984374339,
                      2037.6307479662112,
                      2026.910782883114,
                      2069.2236726485803,
                      2127.578803535725,
                      2134.4271434455927,
                      3427.7728011144845,
                      2219.1843648508907,
                      4998.8358300582895,
                      2021.3495629271222,
                      4786.413853494881,
                      2084.189552797848,
                      2023.944105846945,
                      2055.682234199126,
                      6419.437028578834,
                      2515.7255467625996,
                      2007.7179185664565,
                      4855.257122496939,
                      2033.797631720231,
                      2027.0766553626968,
                      2019.1829229831374,
                      2065.315690027029,
                      1996.0417813538052,
                      2005.3273529073397,
                      1970.8368963759415,
                      1986.7929697417696,
                      2025.3878242425524,
                      2100.918833903711,
                      1965.6589319930338,
                      2007.615923324306,
                      2028.7201584781758,
                      2016.7182962653922,
                      2492.398142696476,
                      7280.760602017392,
                      1972.6631372615786,
                      1968.0842723187839,
                      2008.9405662211198,
                      2032.4925275116896,
                      2033.1708799244668,
                      2015.3863759282963,
                      1988.9872618761108,
                      7768.444087333912,
                      2177.990958366833,
                      1986.8262279099843,
                      1999.3852323352605,
                      2058.33030937262,
                      1986.0629011708172,
                      2004.7926236141673,
                      1957.3301096963335,
                      2029.1704475129063,
                      1970.217594588376,
                      2003.6418961180814,
                      1989.1339474976992,
                      2003.3595305425376,
                      1970.7986669624345,
                      2018.8880497048494,
                      2028.6855815869371
                    ],
                    "colorbar": {
                      "title": {
                        "text": "Objective Value"
                      }
                    },
                    "colorscale": [
                      [
                        0,
                        "rgb(247,251,255)"
                      ],
                      [
                        0.125,
                        "rgb(222,235,247)"
                      ],
                      [
                        0.25,
                        "rgb(198,219,239)"
                      ],
                      [
                        0.375,
                        "rgb(158,202,225)"
                      ],
                      [
                        0.5,
                        "rgb(107,174,214)"
                      ],
                      [
                        0.625,
                        "rgb(66,146,198)"
                      ],
                      [
                        0.75,
                        "rgb(33,113,181)"
                      ],
                      [
                        0.875,
                        "rgb(8,81,156)"
                      ],
                      [
                        1,
                        "rgb(8,48,107)"
                      ]
                    ],
                    "reversescale": true,
                    "showscale": true
                  },
                  "type": "parcoords"
                }
              ],
              "layout": {
                "template": {
                  "data": {
                    "bar": [
                      {
                        "error_x": {
                          "color": "#2a3f5f"
                        },
                        "error_y": {
                          "color": "#2a3f5f"
                        },
                        "marker": {
                          "line": {
                            "color": "#E5ECF6",
                            "width": 0.5
                          },
                          "pattern": {
                            "fillmode": "overlay",
                            "size": 10,
                            "solidity": 0.2
                          }
                        },
                        "type": "bar"
                      }
                    ],
                    "barpolar": [
                      {
                        "marker": {
                          "line": {
                            "color": "#E5ECF6",
                            "width": 0.5
                          },
                          "pattern": {
                            "fillmode": "overlay",
                            "size": 10,
                            "solidity": 0.2
                          }
                        },
                        "type": "barpolar"
                      }
                    ],
                    "carpet": [
                      {
                        "aaxis": {
                          "endlinecolor": "#2a3f5f",
                          "gridcolor": "white",
                          "linecolor": "white",
                          "minorgridcolor": "white",
                          "startlinecolor": "#2a3f5f"
                        },
                        "baxis": {
                          "endlinecolor": "#2a3f5f",
                          "gridcolor": "white",
                          "linecolor": "white",
                          "minorgridcolor": "white",
                          "startlinecolor": "#2a3f5f"
                        },
                        "type": "carpet"
                      }
                    ],
                    "choropleth": [
                      {
                        "colorbar": {
                          "outlinewidth": 0,
                          "ticks": ""
                        },
                        "type": "choropleth"
                      }
                    ],
                    "contour": [
                      {
                        "colorbar": {
                          "outlinewidth": 0,
                          "ticks": ""
                        },
                        "colorscale": [
                          [
                            0,
                            "#0d0887"
                          ],
                          [
                            0.1111111111111111,
                            "#46039f"
                          ],
                          [
                            0.2222222222222222,
                            "#7201a8"
                          ],
                          [
                            0.3333333333333333,
                            "#9c179e"
                          ],
                          [
                            0.4444444444444444,
                            "#bd3786"
                          ],
                          [
                            0.5555555555555556,
                            "#d8576b"
                          ],
                          [
                            0.6666666666666666,
                            "#ed7953"
                          ],
                          [
                            0.7777777777777778,
                            "#fb9f3a"
                          ],
                          [
                            0.8888888888888888,
                            "#fdca26"
                          ],
                          [
                            1,
                            "#f0f921"
                          ]
                        ],
                        "type": "contour"
                      }
                    ],
                    "contourcarpet": [
                      {
                        "colorbar": {
                          "outlinewidth": 0,
                          "ticks": ""
                        },
                        "type": "contourcarpet"
                      }
                    ],
                    "heatmap": [
                      {
                        "colorbar": {
                          "outlinewidth": 0,
                          "ticks": ""
                        },
                        "colorscale": [
                          [
                            0,
                            "#0d0887"
                          ],
                          [
                            0.1111111111111111,
                            "#46039f"
                          ],
                          [
                            0.2222222222222222,
                            "#7201a8"
                          ],
                          [
                            0.3333333333333333,
                            "#9c179e"
                          ],
                          [
                            0.4444444444444444,
                            "#bd3786"
                          ],
                          [
                            0.5555555555555556,
                            "#d8576b"
                          ],
                          [
                            0.6666666666666666,
                            "#ed7953"
                          ],
                          [
                            0.7777777777777778,
                            "#fb9f3a"
                          ],
                          [
                            0.8888888888888888,
                            "#fdca26"
                          ],
                          [
                            1,
                            "#f0f921"
                          ]
                        ],
                        "type": "heatmap"
                      }
                    ],
                    "histogram": [
                      {
                        "marker": {
                          "pattern": {
                            "fillmode": "overlay",
                            "size": 10,
                            "solidity": 0.2
                          }
                        },
                        "type": "histogram"
                      }
                    ],
                    "histogram2d": [
                      {
                        "colorbar": {
                          "outlinewidth": 0,
                          "ticks": ""
                        },
                        "colorscale": [
                          [
                            0,
                            "#0d0887"
                          ],
                          [
                            0.1111111111111111,
                            "#46039f"
                          ],
                          [
                            0.2222222222222222,
                            "#7201a8"
                          ],
                          [
                            0.3333333333333333,
                            "#9c179e"
                          ],
                          [
                            0.4444444444444444,
                            "#bd3786"
                          ],
                          [
                            0.5555555555555556,
                            "#d8576b"
                          ],
                          [
                            0.6666666666666666,
                            "#ed7953"
                          ],
                          [
                            0.7777777777777778,
                            "#fb9f3a"
                          ],
                          [
                            0.8888888888888888,
                            "#fdca26"
                          ],
                          [
                            1,
                            "#f0f921"
                          ]
                        ],
                        "type": "histogram2d"
                      }
                    ],
                    "histogram2dcontour": [
                      {
                        "colorbar": {
                          "outlinewidth": 0,
                          "ticks": ""
                        },
                        "colorscale": [
                          [
                            0,
                            "#0d0887"
                          ],
                          [
                            0.1111111111111111,
                            "#46039f"
                          ],
                          [
                            0.2222222222222222,
                            "#7201a8"
                          ],
                          [
                            0.3333333333333333,
                            "#9c179e"
                          ],
                          [
                            0.4444444444444444,
                            "#bd3786"
                          ],
                          [
                            0.5555555555555556,
                            "#d8576b"
                          ],
                          [
                            0.6666666666666666,
                            "#ed7953"
                          ],
                          [
                            0.7777777777777778,
                            "#fb9f3a"
                          ],
                          [
                            0.8888888888888888,
                            "#fdca26"
                          ],
                          [
                            1,
                            "#f0f921"
                          ]
                        ],
                        "type": "histogram2dcontour"
                      }
                    ],
                    "mesh3d": [
                      {
                        "colorbar": {
                          "outlinewidth": 0,
                          "ticks": ""
                        },
                        "type": "mesh3d"
                      }
                    ],
                    "parcoords": [
                      {
                        "line": {
                          "colorbar": {
                            "outlinewidth": 0,
                            "ticks": ""
                          }
                        },
                        "type": "parcoords"
                      }
                    ],
                    "pie": [
                      {
                        "automargin": true,
                        "type": "pie"
                      }
                    ],
                    "scatter": [
                      {
                        "fillpattern": {
                          "fillmode": "overlay",
                          "size": 10,
                          "solidity": 0.2
                        },
                        "type": "scatter"
                      }
                    ],
                    "scatter3d": [
                      {
                        "line": {
                          "colorbar": {
                            "outlinewidth": 0,
                            "ticks": ""
                          }
                        },
                        "marker": {
                          "colorbar": {
                            "outlinewidth": 0,
                            "ticks": ""
                          }
                        },
                        "type": "scatter3d"
                      }
                    ],
                    "scattercarpet": [
                      {
                        "marker": {
                          "colorbar": {
                            "outlinewidth": 0,
                            "ticks": ""
                          }
                        },
                        "type": "scattercarpet"
                      }
                    ],
                    "scattergeo": [
                      {
                        "marker": {
                          "colorbar": {
                            "outlinewidth": 0,
                            "ticks": ""
                          }
                        },
                        "type": "scattergeo"
                      }
                    ],
                    "scattergl": [
                      {
                        "marker": {
                          "colorbar": {
                            "outlinewidth": 0,
                            "ticks": ""
                          }
                        },
                        "type": "scattergl"
                      }
                    ],
                    "scattermap": [
                      {
                        "marker": {
                          "colorbar": {
                            "outlinewidth": 0,
                            "ticks": ""
                          }
                        },
                        "type": "scattermap"
                      }
                    ],
                    "scattermapbox": [
                      {
                        "marker": {
                          "colorbar": {
                            "outlinewidth": 0,
                            "ticks": ""
                          }
                        },
                        "type": "scattermapbox"
                      }
                    ],
                    "scatterpolar": [
                      {
                        "marker": {
                          "colorbar": {
                            "outlinewidth": 0,
                            "ticks": ""
                          }
                        },
                        "type": "scatterpolar"
                      }
                    ],
                    "scatterpolargl": [
                      {
                        "marker": {
                          "colorbar": {
                            "outlinewidth": 0,
                            "ticks": ""
                          }
                        },
                        "type": "scatterpolargl"
                      }
                    ],
                    "scatterternary": [
                      {
                        "marker": {
                          "colorbar": {
                            "outlinewidth": 0,
                            "ticks": ""
                          }
                        },
                        "type": "scatterternary"
                      }
                    ],
                    "surface": [
                      {
                        "colorbar": {
                          "outlinewidth": 0,
                          "ticks": ""
                        },
                        "colorscale": [
                          [
                            0,
                            "#0d0887"
                          ],
                          [
                            0.1111111111111111,
                            "#46039f"
                          ],
                          [
                            0.2222222222222222,
                            "#7201a8"
                          ],
                          [
                            0.3333333333333333,
                            "#9c179e"
                          ],
                          [
                            0.4444444444444444,
                            "#bd3786"
                          ],
                          [
                            0.5555555555555556,
                            "#d8576b"
                          ],
                          [
                            0.6666666666666666,
                            "#ed7953"
                          ],
                          [
                            0.7777777777777778,
                            "#fb9f3a"
                          ],
                          [
                            0.8888888888888888,
                            "#fdca26"
                          ],
                          [
                            1,
                            "#f0f921"
                          ]
                        ],
                        "type": "surface"
                      }
                    ],
                    "table": [
                      {
                        "cells": {
                          "fill": {
                            "color": "#EBF0F8"
                          },
                          "line": {
                            "color": "white"
                          }
                        },
                        "header": {
                          "fill": {
                            "color": "#C8D4E3"
                          },
                          "line": {
                            "color": "white"
                          }
                        },
                        "type": "table"
                      }
                    ]
                  },
                  "layout": {
                    "annotationdefaults": {
                      "arrowcolor": "#2a3f5f",
                      "arrowhead": 0,
                      "arrowwidth": 1
                    },
                    "autotypenumbers": "strict",
                    "coloraxis": {
                      "colorbar": {
                        "outlinewidth": 0,
                        "ticks": ""
                      }
                    },
                    "colorscale": {
                      "diverging": [
                        [
                          0,
                          "#8e0152"
                        ],
                        [
                          0.1,
                          "#c51b7d"
                        ],
                        [
                          0.2,
                          "#de77ae"
                        ],
                        [
                          0.3,
                          "#f1b6da"
                        ],
                        [
                          0.4,
                          "#fde0ef"
                        ],
                        [
                          0.5,
                          "#f7f7f7"
                        ],
                        [
                          0.6,
                          "#e6f5d0"
                        ],
                        [
                          0.7,
                          "#b8e186"
                        ],
                        [
                          0.8,
                          "#7fbc41"
                        ],
                        [
                          0.9,
                          "#4d9221"
                        ],
                        [
                          1,
                          "#276419"
                        ]
                      ],
                      "sequential": [
                        [
                          0,
                          "#0d0887"
                        ],
                        [
                          0.1111111111111111,
                          "#46039f"
                        ],
                        [
                          0.2222222222222222,
                          "#7201a8"
                        ],
                        [
                          0.3333333333333333,
                          "#9c179e"
                        ],
                        [
                          0.4444444444444444,
                          "#bd3786"
                        ],
                        [
                          0.5555555555555556,
                          "#d8576b"
                        ],
                        [
                          0.6666666666666666,
                          "#ed7953"
                        ],
                        [
                          0.7777777777777778,
                          "#fb9f3a"
                        ],
                        [
                          0.8888888888888888,
                          "#fdca26"
                        ],
                        [
                          1,
                          "#f0f921"
                        ]
                      ],
                      "sequentialminus": [
                        [
                          0,
                          "#0d0887"
                        ],
                        [
                          0.1111111111111111,
                          "#46039f"
                        ],
                        [
                          0.2222222222222222,
                          "#7201a8"
                        ],
                        [
                          0.3333333333333333,
                          "#9c179e"
                        ],
                        [
                          0.4444444444444444,
                          "#bd3786"
                        ],
                        [
                          0.5555555555555556,
                          "#d8576b"
                        ],
                        [
                          0.6666666666666666,
                          "#ed7953"
                        ],
                        [
                          0.7777777777777778,
                          "#fb9f3a"
                        ],
                        [
                          0.8888888888888888,
                          "#fdca26"
                        ],
                        [
                          1,
                          "#f0f921"
                        ]
                      ]
                    },
                    "colorway": [
                      "#636efa",
                      "#EF553B",
                      "#00cc96",
                      "#ab63fa",
                      "#FFA15A",
                      "#19d3f3",
                      "#FF6692",
                      "#B6E880",
                      "#FF97FF",
                      "#FECB52"
                    ],
                    "font": {
                      "color": "#2a3f5f"
                    },
                    "geo": {
                      "bgcolor": "white",
                      "lakecolor": "white",
                      "landcolor": "#E5ECF6",
                      "showlakes": true,
                      "showland": true,
                      "subunitcolor": "white"
                    },
                    "hoverlabel": {
                      "align": "left"
                    },
                    "hovermode": "closest",
                    "mapbox": {
                      "style": "light"
                    },
                    "paper_bgcolor": "white",
                    "plot_bgcolor": "#E5ECF6",
                    "polar": {
                      "angularaxis": {
                        "gridcolor": "white",
                        "linecolor": "white",
                        "ticks": ""
                      },
                      "bgcolor": "#E5ECF6",
                      "radialaxis": {
                        "gridcolor": "white",
                        "linecolor": "white",
                        "ticks": ""
                      }
                    },
                    "scene": {
                      "xaxis": {
                        "backgroundcolor": "#E5ECF6",
                        "gridcolor": "white",
                        "gridwidth": 2,
                        "linecolor": "white",
                        "showbackground": true,
                        "ticks": "",
                        "zerolinecolor": "white"
                      },
                      "yaxis": {
                        "backgroundcolor": "#E5ECF6",
                        "gridcolor": "white",
                        "gridwidth": 2,
                        "linecolor": "white",
                        "showbackground": true,
                        "ticks": "",
                        "zerolinecolor": "white"
                      },
                      "zaxis": {
                        "backgroundcolor": "#E5ECF6",
                        "gridcolor": "white",
                        "gridwidth": 2,
                        "linecolor": "white",
                        "showbackground": true,
                        "ticks": "",
                        "zerolinecolor": "white"
                      }
                    },
                    "shapedefaults": {
                      "line": {
                        "color": "#2a3f5f"
                      }
                    },
                    "ternary": {
                      "aaxis": {
                        "gridcolor": "white",
                        "linecolor": "white",
                        "ticks": ""
                      },
                      "baxis": {
                        "gridcolor": "white",
                        "linecolor": "white",
                        "ticks": ""
                      },
                      "bgcolor": "#E5ECF6",
                      "caxis": {
                        "gridcolor": "white",
                        "linecolor": "white",
                        "ticks": ""
                      }
                    },
                    "title": {
                      "x": 0.05
                    },
                    "xaxis": {
                      "automargin": true,
                      "gridcolor": "white",
                      "linecolor": "white",
                      "ticks": "",
                      "title": {
                        "standoff": 15
                      },
                      "zerolinecolor": "white",
                      "zerolinewidth": 2
                    },
                    "yaxis": {
                      "automargin": true,
                      "gridcolor": "white",
                      "linecolor": "white",
                      "ticks": "",
                      "title": {
                        "standoff": 15
                      },
                      "zerolinecolor": "white",
                      "zerolinewidth": 2
                    }
                  }
                },
                "title": {
                  "text": "Parallel Coordinate Plot"
                }
              }
            }
          },
          "metadata": {},
          "output_type": "display_data"
        },
        {
          "data": {
            "application/vnd.plotly.v1+json": {
              "config": {
                "plotlyServerURL": "https://plot.ly"
              },
              "data": [
                {
                  "cliponaxis": false,
                  "hovertemplate": [
                    "min_child_weight (IntDistribution): 0.0018045109094803028<extra></extra>",
                    "reg_alpha (FloatDistribution): 0.010950544704301339<extra></extra>",
                    "learning_rate (FloatDistribution): 0.02025823616875021<extra></extra>",
                    "reg_lambda (FloatDistribution): 0.03952199688257231<extra></extra>",
                    "n_estimators (IntDistribution): 0.05320097742029178<extra></extra>",
                    "max_leaves (IntDistribution): 0.0727147982937766<extra></extra>",
                    "max_depth (IntDistribution): 0.09582643093482418<extra></extra>",
                    "min_frequency (FloatDistribution): 0.7057225046860033<extra></extra>"
                  ],
                  "name": "Objective Value",
                  "orientation": "h",
                  "text": [
                    "<0.01",
                    "0.01",
                    "0.02",
                    "0.04",
                    "0.05",
                    "0.07",
                    "0.10",
                    "0.71"
                  ],
                  "textposition": "outside",
                  "type": "bar",
                  "x": [
                    0.0018045109094803028,
                    0.010950544704301339,
                    0.02025823616875021,
                    0.03952199688257231,
                    0.05320097742029178,
                    0.0727147982937766,
                    0.09582643093482418,
                    0.7057225046860033
                  ],
                  "y": [
                    "min_child_weight",
                    "reg_alpha",
                    "learning_rate",
                    "reg_lambda",
                    "n_estimators",
                    "max_leaves",
                    "max_depth",
                    "min_frequency"
                  ]
                }
              ],
              "layout": {
                "template": {
                  "data": {
                    "bar": [
                      {
                        "error_x": {
                          "color": "#2a3f5f"
                        },
                        "error_y": {
                          "color": "#2a3f5f"
                        },
                        "marker": {
                          "line": {
                            "color": "#E5ECF6",
                            "width": 0.5
                          },
                          "pattern": {
                            "fillmode": "overlay",
                            "size": 10,
                            "solidity": 0.2
                          }
                        },
                        "type": "bar"
                      }
                    ],
                    "barpolar": [
                      {
                        "marker": {
                          "line": {
                            "color": "#E5ECF6",
                            "width": 0.5
                          },
                          "pattern": {
                            "fillmode": "overlay",
                            "size": 10,
                            "solidity": 0.2
                          }
                        },
                        "type": "barpolar"
                      }
                    ],
                    "carpet": [
                      {
                        "aaxis": {
                          "endlinecolor": "#2a3f5f",
                          "gridcolor": "white",
                          "linecolor": "white",
                          "minorgridcolor": "white",
                          "startlinecolor": "#2a3f5f"
                        },
                        "baxis": {
                          "endlinecolor": "#2a3f5f",
                          "gridcolor": "white",
                          "linecolor": "white",
                          "minorgridcolor": "white",
                          "startlinecolor": "#2a3f5f"
                        },
                        "type": "carpet"
                      }
                    ],
                    "choropleth": [
                      {
                        "colorbar": {
                          "outlinewidth": 0,
                          "ticks": ""
                        },
                        "type": "choropleth"
                      }
                    ],
                    "contour": [
                      {
                        "colorbar": {
                          "outlinewidth": 0,
                          "ticks": ""
                        },
                        "colorscale": [
                          [
                            0,
                            "#0d0887"
                          ],
                          [
                            0.1111111111111111,
                            "#46039f"
                          ],
                          [
                            0.2222222222222222,
                            "#7201a8"
                          ],
                          [
                            0.3333333333333333,
                            "#9c179e"
                          ],
                          [
                            0.4444444444444444,
                            "#bd3786"
                          ],
                          [
                            0.5555555555555556,
                            "#d8576b"
                          ],
                          [
                            0.6666666666666666,
                            "#ed7953"
                          ],
                          [
                            0.7777777777777778,
                            "#fb9f3a"
                          ],
                          [
                            0.8888888888888888,
                            "#fdca26"
                          ],
                          [
                            1,
                            "#f0f921"
                          ]
                        ],
                        "type": "contour"
                      }
                    ],
                    "contourcarpet": [
                      {
                        "colorbar": {
                          "outlinewidth": 0,
                          "ticks": ""
                        },
                        "type": "contourcarpet"
                      }
                    ],
                    "heatmap": [
                      {
                        "colorbar": {
                          "outlinewidth": 0,
                          "ticks": ""
                        },
                        "colorscale": [
                          [
                            0,
                            "#0d0887"
                          ],
                          [
                            0.1111111111111111,
                            "#46039f"
                          ],
                          [
                            0.2222222222222222,
                            "#7201a8"
                          ],
                          [
                            0.3333333333333333,
                            "#9c179e"
                          ],
                          [
                            0.4444444444444444,
                            "#bd3786"
                          ],
                          [
                            0.5555555555555556,
                            "#d8576b"
                          ],
                          [
                            0.6666666666666666,
                            "#ed7953"
                          ],
                          [
                            0.7777777777777778,
                            "#fb9f3a"
                          ],
                          [
                            0.8888888888888888,
                            "#fdca26"
                          ],
                          [
                            1,
                            "#f0f921"
                          ]
                        ],
                        "type": "heatmap"
                      }
                    ],
                    "histogram": [
                      {
                        "marker": {
                          "pattern": {
                            "fillmode": "overlay",
                            "size": 10,
                            "solidity": 0.2
                          }
                        },
                        "type": "histogram"
                      }
                    ],
                    "histogram2d": [
                      {
                        "colorbar": {
                          "outlinewidth": 0,
                          "ticks": ""
                        },
                        "colorscale": [
                          [
                            0,
                            "#0d0887"
                          ],
                          [
                            0.1111111111111111,
                            "#46039f"
                          ],
                          [
                            0.2222222222222222,
                            "#7201a8"
                          ],
                          [
                            0.3333333333333333,
                            "#9c179e"
                          ],
                          [
                            0.4444444444444444,
                            "#bd3786"
                          ],
                          [
                            0.5555555555555556,
                            "#d8576b"
                          ],
                          [
                            0.6666666666666666,
                            "#ed7953"
                          ],
                          [
                            0.7777777777777778,
                            "#fb9f3a"
                          ],
                          [
                            0.8888888888888888,
                            "#fdca26"
                          ],
                          [
                            1,
                            "#f0f921"
                          ]
                        ],
                        "type": "histogram2d"
                      }
                    ],
                    "histogram2dcontour": [
                      {
                        "colorbar": {
                          "outlinewidth": 0,
                          "ticks": ""
                        },
                        "colorscale": [
                          [
                            0,
                            "#0d0887"
                          ],
                          [
                            0.1111111111111111,
                            "#46039f"
                          ],
                          [
                            0.2222222222222222,
                            "#7201a8"
                          ],
                          [
                            0.3333333333333333,
                            "#9c179e"
                          ],
                          [
                            0.4444444444444444,
                            "#bd3786"
                          ],
                          [
                            0.5555555555555556,
                            "#d8576b"
                          ],
                          [
                            0.6666666666666666,
                            "#ed7953"
                          ],
                          [
                            0.7777777777777778,
                            "#fb9f3a"
                          ],
                          [
                            0.8888888888888888,
                            "#fdca26"
                          ],
                          [
                            1,
                            "#f0f921"
                          ]
                        ],
                        "type": "histogram2dcontour"
                      }
                    ],
                    "mesh3d": [
                      {
                        "colorbar": {
                          "outlinewidth": 0,
                          "ticks": ""
                        },
                        "type": "mesh3d"
                      }
                    ],
                    "parcoords": [
                      {
                        "line": {
                          "colorbar": {
                            "outlinewidth": 0,
                            "ticks": ""
                          }
                        },
                        "type": "parcoords"
                      }
                    ],
                    "pie": [
                      {
                        "automargin": true,
                        "type": "pie"
                      }
                    ],
                    "scatter": [
                      {
                        "fillpattern": {
                          "fillmode": "overlay",
                          "size": 10,
                          "solidity": 0.2
                        },
                        "type": "scatter"
                      }
                    ],
                    "scatter3d": [
                      {
                        "line": {
                          "colorbar": {
                            "outlinewidth": 0,
                            "ticks": ""
                          }
                        },
                        "marker": {
                          "colorbar": {
                            "outlinewidth": 0,
                            "ticks": ""
                          }
                        },
                        "type": "scatter3d"
                      }
                    ],
                    "scattercarpet": [
                      {
                        "marker": {
                          "colorbar": {
                            "outlinewidth": 0,
                            "ticks": ""
                          }
                        },
                        "type": "scattercarpet"
                      }
                    ],
                    "scattergeo": [
                      {
                        "marker": {
                          "colorbar": {
                            "outlinewidth": 0,
                            "ticks": ""
                          }
                        },
                        "type": "scattergeo"
                      }
                    ],
                    "scattergl": [
                      {
                        "marker": {
                          "colorbar": {
                            "outlinewidth": 0,
                            "ticks": ""
                          }
                        },
                        "type": "scattergl"
                      }
                    ],
                    "scattermap": [
                      {
                        "marker": {
                          "colorbar": {
                            "outlinewidth": 0,
                            "ticks": ""
                          }
                        },
                        "type": "scattermap"
                      }
                    ],
                    "scattermapbox": [
                      {
                        "marker": {
                          "colorbar": {
                            "outlinewidth": 0,
                            "ticks": ""
                          }
                        },
                        "type": "scattermapbox"
                      }
                    ],
                    "scatterpolar": [
                      {
                        "marker": {
                          "colorbar": {
                            "outlinewidth": 0,
                            "ticks": ""
                          }
                        },
                        "type": "scatterpolar"
                      }
                    ],
                    "scatterpolargl": [
                      {
                        "marker": {
                          "colorbar": {
                            "outlinewidth": 0,
                            "ticks": ""
                          }
                        },
                        "type": "scatterpolargl"
                      }
                    ],
                    "scatterternary": [
                      {
                        "marker": {
                          "colorbar": {
                            "outlinewidth": 0,
                            "ticks": ""
                          }
                        },
                        "type": "scatterternary"
                      }
                    ],
                    "surface": [
                      {
                        "colorbar": {
                          "outlinewidth": 0,
                          "ticks": ""
                        },
                        "colorscale": [
                          [
                            0,
                            "#0d0887"
                          ],
                          [
                            0.1111111111111111,
                            "#46039f"
                          ],
                          [
                            0.2222222222222222,
                            "#7201a8"
                          ],
                          [
                            0.3333333333333333,
                            "#9c179e"
                          ],
                          [
                            0.4444444444444444,
                            "#bd3786"
                          ],
                          [
                            0.5555555555555556,
                            "#d8576b"
                          ],
                          [
                            0.6666666666666666,
                            "#ed7953"
                          ],
                          [
                            0.7777777777777778,
                            "#fb9f3a"
                          ],
                          [
                            0.8888888888888888,
                            "#fdca26"
                          ],
                          [
                            1,
                            "#f0f921"
                          ]
                        ],
                        "type": "surface"
                      }
                    ],
                    "table": [
                      {
                        "cells": {
                          "fill": {
                            "color": "#EBF0F8"
                          },
                          "line": {
                            "color": "white"
                          }
                        },
                        "header": {
                          "fill": {
                            "color": "#C8D4E3"
                          },
                          "line": {
                            "color": "white"
                          }
                        },
                        "type": "table"
                      }
                    ]
                  },
                  "layout": {
                    "annotationdefaults": {
                      "arrowcolor": "#2a3f5f",
                      "arrowhead": 0,
                      "arrowwidth": 1
                    },
                    "autotypenumbers": "strict",
                    "coloraxis": {
                      "colorbar": {
                        "outlinewidth": 0,
                        "ticks": ""
                      }
                    },
                    "colorscale": {
                      "diverging": [
                        [
                          0,
                          "#8e0152"
                        ],
                        [
                          0.1,
                          "#c51b7d"
                        ],
                        [
                          0.2,
                          "#de77ae"
                        ],
                        [
                          0.3,
                          "#f1b6da"
                        ],
                        [
                          0.4,
                          "#fde0ef"
                        ],
                        [
                          0.5,
                          "#f7f7f7"
                        ],
                        [
                          0.6,
                          "#e6f5d0"
                        ],
                        [
                          0.7,
                          "#b8e186"
                        ],
                        [
                          0.8,
                          "#7fbc41"
                        ],
                        [
                          0.9,
                          "#4d9221"
                        ],
                        [
                          1,
                          "#276419"
                        ]
                      ],
                      "sequential": [
                        [
                          0,
                          "#0d0887"
                        ],
                        [
                          0.1111111111111111,
                          "#46039f"
                        ],
                        [
                          0.2222222222222222,
                          "#7201a8"
                        ],
                        [
                          0.3333333333333333,
                          "#9c179e"
                        ],
                        [
                          0.4444444444444444,
                          "#bd3786"
                        ],
                        [
                          0.5555555555555556,
                          "#d8576b"
                        ],
                        [
                          0.6666666666666666,
                          "#ed7953"
                        ],
                        [
                          0.7777777777777778,
                          "#fb9f3a"
                        ],
                        [
                          0.8888888888888888,
                          "#fdca26"
                        ],
                        [
                          1,
                          "#f0f921"
                        ]
                      ],
                      "sequentialminus": [
                        [
                          0,
                          "#0d0887"
                        ],
                        [
                          0.1111111111111111,
                          "#46039f"
                        ],
                        [
                          0.2222222222222222,
                          "#7201a8"
                        ],
                        [
                          0.3333333333333333,
                          "#9c179e"
                        ],
                        [
                          0.4444444444444444,
                          "#bd3786"
                        ],
                        [
                          0.5555555555555556,
                          "#d8576b"
                        ],
                        [
                          0.6666666666666666,
                          "#ed7953"
                        ],
                        [
                          0.7777777777777778,
                          "#fb9f3a"
                        ],
                        [
                          0.8888888888888888,
                          "#fdca26"
                        ],
                        [
                          1,
                          "#f0f921"
                        ]
                      ]
                    },
                    "colorway": [
                      "#636efa",
                      "#EF553B",
                      "#00cc96",
                      "#ab63fa",
                      "#FFA15A",
                      "#19d3f3",
                      "#FF6692",
                      "#B6E880",
                      "#FF97FF",
                      "#FECB52"
                    ],
                    "font": {
                      "color": "#2a3f5f"
                    },
                    "geo": {
                      "bgcolor": "white",
                      "lakecolor": "white",
                      "landcolor": "#E5ECF6",
                      "showlakes": true,
                      "showland": true,
                      "subunitcolor": "white"
                    },
                    "hoverlabel": {
                      "align": "left"
                    },
                    "hovermode": "closest",
                    "mapbox": {
                      "style": "light"
                    },
                    "paper_bgcolor": "white",
                    "plot_bgcolor": "#E5ECF6",
                    "polar": {
                      "angularaxis": {
                        "gridcolor": "white",
                        "linecolor": "white",
                        "ticks": ""
                      },
                      "bgcolor": "#E5ECF6",
                      "radialaxis": {
                        "gridcolor": "white",
                        "linecolor": "white",
                        "ticks": ""
                      }
                    },
                    "scene": {
                      "xaxis": {
                        "backgroundcolor": "#E5ECF6",
                        "gridcolor": "white",
                        "gridwidth": 2,
                        "linecolor": "white",
                        "showbackground": true,
                        "ticks": "",
                        "zerolinecolor": "white"
                      },
                      "yaxis": {
                        "backgroundcolor": "#E5ECF6",
                        "gridcolor": "white",
                        "gridwidth": 2,
                        "linecolor": "white",
                        "showbackground": true,
                        "ticks": "",
                        "zerolinecolor": "white"
                      },
                      "zaxis": {
                        "backgroundcolor": "#E5ECF6",
                        "gridcolor": "white",
                        "gridwidth": 2,
                        "linecolor": "white",
                        "showbackground": true,
                        "ticks": "",
                        "zerolinecolor": "white"
                      }
                    },
                    "shapedefaults": {
                      "line": {
                        "color": "#2a3f5f"
                      }
                    },
                    "ternary": {
                      "aaxis": {
                        "gridcolor": "white",
                        "linecolor": "white",
                        "ticks": ""
                      },
                      "baxis": {
                        "gridcolor": "white",
                        "linecolor": "white",
                        "ticks": ""
                      },
                      "bgcolor": "#E5ECF6",
                      "caxis": {
                        "gridcolor": "white",
                        "linecolor": "white",
                        "ticks": ""
                      }
                    },
                    "title": {
                      "x": 0.05
                    },
                    "xaxis": {
                      "automargin": true,
                      "gridcolor": "white",
                      "linecolor": "white",
                      "ticks": "",
                      "title": {
                        "standoff": 15
                      },
                      "zerolinecolor": "white",
                      "zerolinewidth": 2
                    },
                    "yaxis": {
                      "automargin": true,
                      "gridcolor": "white",
                      "linecolor": "white",
                      "ticks": "",
                      "title": {
                        "standoff": 15
                      },
                      "zerolinecolor": "white",
                      "zerolinewidth": 2
                    }
                  }
                },
                "title": {
                  "text": "Hyperparameter Importances"
                },
                "xaxis": {
                  "title": {
                    "text": "Hyperparameter Importance"
                  }
                },
                "yaxis": {
                  "title": {
                    "text": "Hyperparameter"
                  }
                }
              }
            }
          },
          "metadata": {},
          "output_type": "display_data"
        }
      ],
      "source": [
        "from optuna.visualization import plot_optimization_history, plot_parallel_coordinate, plot_param_importances\n",
        "\n",
        "# 1. Gráfico de historial de optimización\n",
        "fig1 = plot_optimization_history(study_pruning)\n",
        "fig1.show()\n",
        "\n",
        "# 2. Gráfico de coordenadas paralelas\n",
        "fig2 = plot_parallel_coordinate(study_pruning)\n",
        "fig2.show()\n",
        "\n",
        "# 3. Gráfico de importancia de hiperparámetros\n",
        "fig3 = plot_param_importances(study_pruning)\n",
        "fig3.show()\n",
        "\n",
        "#HAy varias más pero sólo nos piden estas tres"
      ]
    },
    {
      "cell_type": "markdown",
      "metadata": {},
      "source": [
        "Primero expliquemos los gráficos.\n",
        "\n",
        "1. Gráfico de historial de optimización: Muestra la evolución del mejor valor objetivo (MAE) encontrado a lo largo de los trials. Cada punto representa el mejor MAE encontrado hasta ese trial.\n",
        "\n",
        "2. Gráfico de coordenadas paralelas: Visualiza cómo diferentes combinaciones de hiperparámetros se relacionan con el desempeño del modelo (MAE). Cada línea representa un trial y el color indica el MAE.\n",
        "\n",
        "3. Gráfico de importancia de hiperparámetros: Muestra qué hiperparámetros tuvieron mayor impacto en la optimización del modelo, basado en análisis de sensibilidad.\n",
        "\n",
        "Análisis de Resultados\n",
        "\n",
        "\n",
        "4. Mejoras notables: Las mejoras más significativas se observan desde el trial 20-30, donde el MAE desciende abruptamente de alrededor de 12,000 a menos de 4,000. Después del trial 40, las mejoras son más graduales.\n",
        "\n",
        "5. Tendencias en coordenadas paralelas:\n",
        "\n",
        "Los mejores resultados (líneas azules oscuro) se concentran en:\n",
        "\n",
        "learning_rate: valores medios (0.01-0.1)\n",
        "\n",
        "max_depth: valores altos (8-10)\n",
        "\n",
        "max_leaves: valores altos (>50)\n",
        "\n",
        "n_estimators: valores altos (>800)\n",
        "\n",
        "min_frequency: valores bajos (<0.1)\n",
        "\n",
        "Los peores resultados (líneas amarillas) tienden a tener combinaciones opuestas: learning rates muy bajos, profundidades bajas, y pocas hojas.\n",
        "\n",
        "6. Hiperparámetros más importantes:\n",
        "\n",
        "min_frequency (71%) - Claramente el más influyente\n",
        "\n",
        "max_depth (10%) - Segundo en importancia\n",
        "\n",
        "max_leaves (7%) - Tercero en importancia\n",
        "\n",
        "n_estimators (5%) - Cuarto lugar\n",
        "\n",
        "Los hiperparámetros de regularización (reg_alpha, reg_lambda) y min_child_weight tienen muy poca influencia comparativa.\n",
        "\n",
        "Interpretación General\n",
        "El gráfico muestra que la selección de características mediante min_frequency es el factor más crítico, probablemente porque controla la dimensionalidad del dataset después del one-hot encoding. Los parámetros de complejidad del árbol (max_depth, max_leaves) también son importantes, mientras que la regularización tiene menor impacto en este problema específico.\n",
        "\n"
      ]
    },
    {
      "cell_type": "markdown",
      "metadata": {
        "cell_id": "ac8a20f445d045a3becf1a518d410a7d",
        "deepnote_cell_type": "markdown",
        "id": "EoW32TA9I5wA"
      },
      "source": [
        "## 6. Síntesis de resultados (3 puntos)\n",
        "\n",
        "Finalmente:\n",
        "\n",
        "1. Genere una tabla resumen del MAE en el conjunto de validación obtenido en los 5 modelos entrenados desde Baseline hasta XGBoost con Constraints, Optuna y Prunning. [1 punto]\n",
        "2. Compare los resultados de la tabla y responda, ¿qué modelo obtiene el mejor rendimiento? [0.5 puntos]\n",
        "3. Cargue el mejor modelo, prediga sobre el conjunto de **test** y reporte su MAE. [0.5 puntos]\n",
        "4. ¿Existen diferencias con respecto a las métricas obtenidas en el conjunto de validación? ¿Porqué puede ocurrir esto? [1 punto]"
      ]
    },
    {
      "cell_type": "code",
      "execution_count": 36,
      "metadata": {
        "id": "jq5C6cDnJg9h"
      },
      "outputs": [
        {
          "name": "stdout",
          "output_type": "stream",
          "text": [
            "1. Tabla Resumen de MAE en Validación:\n",
            "                         Modelo  MAE en Validación\n",
            "0    Dummy Regressor (Baseline)       13553.744694\n",
            "1             XGBoost (Default)        2449.228427\n",
            "2       XGBoost con Constraints        2485.942889\n",
            "3            XGBoost con Optuna        1957.087713\n",
            "4  XGBoost con Optuna y Pruning        1957.330110\n",
            "\n",
            "\n",
            "3. MAE del mejor modelo en el conjunto de test: 1907.66\n",
            "3. MAE del mejor modelo en el conjunto de test: 1907.66\n"
          ]
        }
      ],
      "source": [
        "# 1. Genere una tabla resumen del MAE en el conjunto de validación\n",
        "mae_scores = {\n",
        "    \"Dummy Regressor (Baseline)\": dummy_mae,\n",
        "    \"XGBoost (Default)\": xgb_mae,\n",
        "    \"XGBoost con Constraints\": xgb_mae_constrained,\n",
        "    \"XGBoost con Optuna\": study.best_value,\n",
        "    \"XGBoost con Optuna y Pruning\": study_pruning.best_value\n",
        "}\n",
        "\n",
        "summary_table = pd.DataFrame(list(mae_scores.items()), columns=['Modelo', 'MAE en Validación'])\n",
        "print(\"1. Tabla Resumen de MAE en Validación:\")\n",
        "print(summary_table)\n",
        "print(\"\\n\")\n",
        "\n",
        "# 3. Cargue el mejor modelo, prediga sobre el conjunto de test y reporte su MAE.\n",
        "# El mejor modelo es el de Optuna, guardado como 'xgb_model_optuna.pkl'\n",
        "with open('xgb_model_optuna.pkl', 'rb') as f:\n",
        "    best_model = pickle.load(f)\n",
        "\n",
        "# Predecir sobre el conjunto de test\n",
        "test_preds = best_model.predict(X_test)\n",
        "test_mae = mean_absolute_error(y_test, test_preds)\n",
        "\n",
        "print(f\"3. MAE del mejor modelo en el conjunto de test: {test_mae:.2f}\")"
      ]
    },
    {
      "cell_type": "markdown",
      "metadata": {},
      "source": [
        "2. Mejor modelo: El modelo con mejor rendimiento es 'XGBoost con Optuna' con un MAE de 1957.09 en validación.\n",
        "\n",
        "3. MAE en test: El MAE del mejor modelo en el conjunto de test es 1957\n",
        "\n",
        "4. Diferencias entre validación y test:  Si la diferencia es pequeña como 50 en este caso, indica que el modelo generalizó bien. Si es mayor, puede deberse a que el modelo se optimizó específicamente para el conjunto de validación, lo que es común en procesos de optimización de hiperparámetros, ya que aprende mucho, sin embargo ahora podemos decir que no sólo aprendió de memoria los datos, sino que aprendió tendencias y patrones que le permite validarse en un test externo."
      ]
    },
    {
      "cell_type": "markdown",
      "metadata": {
        "cell_id": "5c4654d12037494fbd385b4dc6bd1059",
        "deepnote_cell_type": "markdown",
        "id": "E_19tgBEI5wA"
      },
      "source": [
        "# Conclusión\n",
        "Exito!\n",
        "<p align=\"center\">\n",
        "  <img src=\"https://i.pinimg.com/originals/55/3d/42/553d42bea9b10e0662a05aa8726fc7f4.gif\">\n",
        "</p>"
      ]
    },
    {
      "cell_type": "markdown",
      "metadata": {},
      "source": [
        "En el laboratorio nos vimos envueltos en el desafío de predecir la demanda de ventas mediante un proceso iterativo de construcción y optimización de modelos.\n",
        "\n",
        "Comenzamos estableciendo un modelo baseline con DummyRegressor, que nos dio un MAE de 13553. Este valor, aunque alto, fue crucial para tener una referencia clara del rendimiento mínimo a superar. El XGBoost con parámetros por defecto demostró su superioridad al reducir drásticamente este error a 2449, resultado que era esperable.\n",
        "\n",
        "Al aplicar restricciones monotónicas para forzar una relación inversa entre precio y demanda, observamos un ligero aumento en el MAE. Este resultado nos enseñó una lección valiosa como las que hemos visto sobre interpretabilidad, aunque una restricción puede hacer que el modelo sea más interpretable y alineado con la teoría económica, no siempre garantiza una mejora en la precisión predictiva, ya que puede limitar la capacidad del modelo para capturar relaciones más complejas en los datos pero le da un enfoque humano necesario.\n",
        "\n",
        "Luego vemos que la implementación de Optuna para la optimización de hiperparámetros marcó el avance más significativo. Logramos reducir el MAE a aproximadamente 1957, demostrando que una búsqueda sistemática e inteligente en el espacio de hiperparámetros es fundamental para exprimir al máximo el potencial de un modelo como XGBoost.\n",
        "\n",
        "Finalmente, al evaluar nuestro mejor modelo (el optimizado con Optuna) en el conjunto de test, obtuvimos un MAE muy similar al del conjunto de validación. Este es el resultado más importante, ya que confirma que nuestro modelo no solo memorizó los datos de entrenamiento/validación, sino que aprendió patrones reales y es capaz de generalizar su rendimiento a datos completamente nuevos.\n",
        "\n",
        "En resumen, el laboratorio nos enseñó la importancia de un enfoque estructurado en el modelado: empezar con un baseline simple, incorporar gradualmente complejidad y conocimiento del dominio, y finalmente, utilizar herramientas de optimización avanzadas para afinar el rendimiento. El resultado es un modelo robusto y fiable, listo para aportar valor al negocio de Fiu."
      ]
    }
  ],
  "metadata": {
    "colab": {
      "provenance": []
    },
    "deepnote": {},
    "deepnote_execution_queue": [],
    "deepnote_notebook_id": "f63d38450a6b464c9bb6385cf11db4d9",
    "deepnote_persisted_session": {
      "createdAt": "2023-11-09T16:18:30.203Z"
    },
    "kernelspec": {
      "display_name": "base",
      "language": "python",
      "name": "python3"
    },
    "language_info": {
      "codemirror_mode": {
        "name": "ipython",
        "version": 3
      },
      "file_extension": ".py",
      "mimetype": "text/x-python",
      "name": "python",
      "nbconvert_exporter": "python",
      "pygments_lexer": "ipython3",
      "version": "3.10.9"
    }
  },
  "nbformat": 4,
  "nbformat_minor": 0
}
