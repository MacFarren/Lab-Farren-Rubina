{
  "cells": [
    {
      "cell_type": "markdown",
      "metadata": {
        "cell_id": "097fce6dce21405c911254a775ae3d26",
        "deepnote_cell_type": "markdown",
        "id": "J4_IcuuKZj9Y"
      },
      "source": [
        "<h1><center>Laboratorio 1: Git 👾</center></h1>\n",
        "\n",
        "<center><strong>MDS7202: Laboratorio de Programación Científica para Ciencia de Datos - Primavera 2025</strong></center>"
      ]
    },
    {
      "cell_type": "markdown",
      "metadata": {
        "cell_id": "9e8e8f2ae34e461da4f44508a96d2cf4",
        "deepnote_cell_type": "markdown",
        "id": "AEXIACc7aADv"
      },
      "source": [
        "### Cuerpo Docente:\n",
        "\n",
        "- Profesores: Diego Cortez, Gabriel Iturra\n",
        "- Auxiliares: Melanie Peña, Valentina Rojas\n",
        "- Ayudantes: Nicolás Cabello, Cristopher Urbina"
      ]
    },
    {
      "cell_type": "markdown",
      "metadata": {
        "cell_id": "3e5b48c23e1b48f6a64de41899166179",
        "deepnote_cell_type": "markdown",
        "id": "0HgMMyoCaG8X"
      },
      "source": [
        "### Equipo: **SUPER IMPORTANTE - notebooks sin nombre no serán revisados**\n",
        "\n",
        "- Nombre de alumno 1: Sebastián Rubina\n",
        "- Nombre de alumno 2: Maximiliano Farren"
      ]
    },
    {
      "cell_type": "markdown",
      "metadata": {
        "cell_id": "1db7c82b68614d19b112ba3b0d0abe4d",
        "deepnote_cell_type": "markdown",
        "id": "fz77X6glaK6y"
      },
      "source": [
        "### **Link de repositorio de GitHub:** [Insertar Enlace](https://github.com/MacFarren/Lab-Farren-Rubina.git)"
      ]
    },
    {
      "cell_type": "code",
      "execution_count": null,
      "metadata": {
        "vscode": {
          "languageId": "plaintext"
        }
      },
      "outputs": [],
      "source": []
    },
    {
      "cell_type": "markdown",
      "metadata": {
        "cell_id": "bc3dac65089d4ae6a43c079547dee179",
        "deepnote_cell_type": "markdown",
        "id": "rRwqaxIZaNx3"
      },
      "source": [
        "## Reglas:\n",
        "\n",
        "- **Grupos de 2 personas**\n",
        "- Fecha de entrega: Entregas Martes a las 23:59.\n",
        "- Instrucciones del lab el viernes a las 16:15 en formato online. Asistencia no es obligatoria, pero se recomienda **fuertemente** asistir.\n",
        "- <u>Prohibidas las copias</u>. Cualquier intento de copia será debidamente penalizado con el reglamento de la escuela.\n",
        "- Tienen que subir el laboratorio a u-cursos y a su repositorio de github. Labs que no estén en u-cursos no serán revisados. Recuerden que el repositorio también tiene nota.\n",
        "- Cualquier duda fuera del horario de clases al foro. Mensajes al equipo docente serán respondidos por este medio.\n",
        "- Pueden usar cualquier material del curso que estimen conveniente."
      ]
    },
    {
      "cell_type": "markdown",
      "metadata": {
        "cell_id": "05e4729411a24153837fd13b7f198bd9",
        "deepnote_cell_type": "markdown",
        "id": "bmToL27JaSrf"
      },
      "source": [
        "## Objetivos del lab:\n",
        "\n",
        "\n",
        "- Conocer los elementos básicos que conformar `Git`\n",
        "- Clonar repositorios\n",
        "- Identificar ramas de un repositorio\n",
        "- Reconocer y solucionar problemas entre ramas\n",
        "- Subir cambios a un repositorio"
      ]
    },
    {
      "cell_type": "markdown",
      "metadata": {
        "cell_id": "5ebae9d601bd4d508349ab55297e9f82",
        "deepnote_cell_type": "markdown",
        "id": "bvnPCvrVbJLK"
      },
      "source": [
        "## Parte 1: Conocimiento Teórico (2.5 pts)\n",
        "\n",
        "<p align=\"center\">\n",
        "  <img src=\"https://cdn.thedesigninspiration.com/wp-content/uploads/sites/3/2019/04/macintosh-hdusersbrittanyloefflerdownloadsanig-1.gif\" width=\"350\">\n",
        "</p>"
      ]
    },
    {
      "cell_type": "markdown",
      "metadata": {
        "cell_id": "627494dba4f84520b3ee8b9cbf58ee79",
        "deepnote_cell_type": "markdown",
        "id": "JHl-24XnbNLF"
      },
      "source": [
        "Responda las siguientes preguntas (0.2 pts c/u):\n",
        "\n",
        "1. ¿Qué es `Git` y cómo se relaciona con el control de versiones?\n",
        "\n",
        "2. Nombre y explique 3 diferencias entre `Git` y `Github`.\n",
        "\n",
        "3. ¿Qué es un `hash` y cómo se representa en un `commit`? De un ejemplo.\n",
        "\n",
        "4. ¿Que elementos componen a la estructura de datos de `Git`?\n",
        "\n",
        "5. ¿Que comandos de `Git` sirven para crear un repositorio y hacer seguimiento a cambios en los archivos?"
      ]
    },
    {
      "cell_type": "markdown",
      "metadata": {
        "cell_id": "6d06c40f429044a298b27c666f51f46f",
        "deepnote_cell_type": "markdown",
        "id": "2tXCSkf0caG8"
      },
      "source": [
        "<code>Escriba sus respuestas acá:</code>\n",
        "\n",
        "1. Es un sistema de control de versiones distribuido que permite gestionar y registrar cambios en el código fuente a lo largo del tiempo, así se puede trabajar de manera colaborativa. Facilita la colaboración entre hartas personas que quieran meter mano en el código y mantiene un historial completo de modificaciones. Se usa comúnmente en proyectos para controlar versiones y trabajar en equipo de forma segura. Es útil en las empresas por ejemplo ya que debe haber una persona que esté como líder quien apruebe los cambios de los otros, además así permite ver como van los avances y que todos puedan trabajar al mismo tiempo.\n",
        " \n",
        "2. Git es una herramienta local de control de versiones que permite registrar los cambios en archivos y coordinar el trabajo entre varios desarrolladores. Es esencial para gestionar proyectos de software de forma organizada. GitHub en cambio es una plataforma en línea que utiliza Git para alojar los repositorios como vimos en clase y así facilitar la colaboración entre quienes estén programando. Ofrece funciones adicionales como pull requests, issues y revisión de código para que el líder pueda gestionarlo.\n",
        "\n",
        "En resumen, Git gestiona versiones localmente y GitHub permite compartir y colaborar en esos repositorios en la nube.\n",
        "\n",
        "3. Un hash en Git es un identificador único generado por el algoritmo SHA-1 que representa un commit específico. Este hash asegura la integridad del historial y permite rastrear cambios de forma precisa (es casi imposible que se repita el número). Se representa como una cadena de 40 caracteres hexadecimales.\n",
        "\n",
        "4. La estructura de datos de Git se basa en cuatro elementos principales: blobs, que almacenan el contenido de los archivos; trees, que representan la estructura de directorios y referencian blobs o subárboles; commits, que registran el estado del proyecto en un momento dado junto con metadatos; y refs, que apuntan a commits específicos como las ramas o etiquetas. Estos componentes permiten a Git gestionar versiones de manera eficiente y confiable.\n",
        "\n",
        "5. Para crear un repositorio se usa git init.\n",
        "Para hacer seguimiento a archivos nuevos se usa git add, y para guardar los cambios se utiliza git commit.\n",
        "Estos comandos permiten iniciar y registrar el historial de un proyecto en Git. Pero realmente es todo tan automático que todo se hace mediante la interfaz de git."
      ]
    },
    {
      "cell_type": "markdown",
      "metadata": {
        "cell_id": "ec9855406e324cc98b59e33500faea84",
        "deepnote_cell_type": "markdown",
        "id": "MACccbP4gU43"
      },
      "source": [
        "Responda si las siguientes afirmaciones son Verdaderas (V) o Falsas (F). Justifique en **cualquiera** de los casos (0.2 pts c/u):\n",
        "\n",
        "\n",
        "6. `Git` siempre resuelve automáticamente los problemas de lineas al hacer merge entre diferentes ramas.\n",
        "7. Ejecutar `git pull` sobre un repositorio es equivalente a ejecutar `git clone`.\n",
        "8. `git status` genera los mismos resultados que `git log`.\n",
        "9. En `Git` es posible deshacer cambios y volver a versiones anteriores del código.\n",
        "10. El comando `git commit` se utiliza para enviar cambios al repositorio remoto."
      ]
    },
    {
      "cell_type": "markdown",
      "metadata": {
        "cell_id": "7e6a5a6e15b045cc9d104cf017825f1a",
        "deepnote_cell_type": "markdown",
        "id": "DFnmCToOgeM3"
      },
      "source": [
        "<code>Escriba sus respuestas acá:</code>\n",
        "\n",
        "6. Falso, si hay un problema arrojará el error y debe verse a mano.\n",
        "7. Falso, git pull ve los cambios y los agrega al repositorio, git clone crea una copia del repositorio.\n",
        "8. Falso, git status muestra el estado del repositorio y el área del almacenamiento actual y git log muestra el historial de los cambios en el tiempo(commits) \n",
        "9. Verdadero, hay varios comandos para eso, un ejemplo es git reset o revert.\n",
        "10. Falso, guarda en el local, luego para enviar al remoto hay que darle a git push"
      ]
    },
    {
      "cell_type": "markdown",
      "metadata": {
        "cell_id": "54317cad024744ebaf4938df55ba3b95",
        "deepnote_cell_type": "markdown",
        "id": "LYq55sI2Rjf0"
      },
      "source": [
        "Por último, investigue y comente con sus palabras para qué sirven los siguientes comandos:\n",
        "\n",
        "11. `git stash` (0.25 puntos)\n",
        "12. `git reset`. ¿Cuál es la diferencia de este comando con `git revert`?. (0.25 puntos)"
      ]
    },
    {
      "cell_type": "markdown",
      "metadata": {},
      "source": [
        "11. El comando git stash permite guardar temporalmente los cambios no confirmados y revertir el directorio de trabajo al estado del último commit. Esto es útil cuando necesitas cambiar de contexto rápidamente sin comprometer el trabajo que se esté haciendo. Se pueden recuperar estos cambios más tarde con git stash pop o git stash apply\n",
        "\n",
        "12. Git reset mueve el puntero head a un commit anterior (es como cuando se usa sql en colab), y puede modificar el área de staging y el directorio de trabajo, dependiendo de las opciones utilizadas, sirve para deshacer commits locales antes de compartirlos. git revert en vez de eliminar un commit, crea otro commit que elimina los commits que hizo el commit especificado, es buena para eliminar cambios en repositorios complejos ya que guarda el historial."
      ]
    },
    {
      "cell_type": "markdown",
      "metadata": {
        "cell_id": "3e4d8b9974e4426ca38fd20f4b835a55",
        "deepnote_cell_type": "markdown",
        "id": "i7Em9JkbbRLo"
      },
      "source": [
        "## Parte 2: Creando una presentación personal (1.5 pts)\n",
        "\n",
        "<p align=\"center\">\n",
        "  <img src=\"https://media.tenor.com/arqlNu8gyJYAAAAC/cat-cat-jumping.gif\" width=\"150\">\n",
        "</p>\n",
        "\n"
      ]
    },
    {
      "cell_type": "markdown",
      "metadata": {
        "cell_id": "988648005dba4b9782c6625dfe6ae4ef",
        "deepnote_cell_type": "markdown",
        "id": "XWIHfyrlbYOJ"
      },
      "source": [
        "Para empezar a \"*soltar las manos*\" con `Git`, se les encomienda crear un repositorio con una presentación personal. El repositorio debe contener un breve resumen de quienes son ustedes, sus gustos, experiencias, y cualquier otro detalle interesante que ustedes consideren relevante.\n",
        "\n",
        "Para realizar esto, deben seguir los siguientes pasos:\n",
        "\n",
        "1. Contar con una cuenta de github (1 por persona)\n",
        "2. Crear un repositorio con su nombre de usuario\n",
        "3. Vincular el repositorio a su ambiente local ¿Qué comando(s) me permiten hacer esto?\n",
        "4. Crear un archivo `readme.md` con la información que ustedes deseen compartir.\n",
        "5. Realizar `push` con los cambios generados\n",
        "\n",
        "\n",
        "**Nota: Deben trabajar todos estos puntos desde su ambiente local**\n",
        "\n",
        "*Hint: Una buena opción es usar templates de presentación personal que encuentren en Google, como los que ofrece este [sitio](https://durgeshsamariya.github.io/awesome-github-profile-readme-templates/#/)*.\n",
        "\n",
        "**Entregable:**\n",
        "\n",
        "Enlace al repositorio con la presentación personal.\n",
        "\n",
        "IMPORTANTE: DEBEN ADJUNTAR UN ENLACE POR PERSONA"
      ]
    },
    {
      "cell_type": "markdown",
      "metadata": {
        "cell_id": "081b38d55dc54282bc8e3cd300ce9d3e",
        "deepnote_cell_type": "markdown",
        "id": "IIkWyl9tf0Sg"
      },
      "source": [
        "<code>Link Presentacion 1:</code>\n",
        "[https://github.com/MacFarren/Max-Farren.git(este es de Max pero habíamos creado el repo antes)](https://github.com/MacFarren/Max-Farren.git)\n",
        "<code>Link Presentacion 2:</code>\n",
        "https://github.com/thisSmith/sebastianrubina"
      ]
    },
    {
      "cell_type": "markdown",
      "metadata": {
        "cell_id": "0481a05d2d1a46928f6cfb7762720980",
        "deepnote_cell_type": "markdown",
        "id": "CAzXOwvDY-IG"
      },
      "source": [
        "## Parte 3: Trabajando sobre un repositorio externo (2 pts)\n",
        "\n",
        "<p align=\"center\">\n",
        "  <img src=\"https://media.tenor.com/YXL-0SK15j4AAAAC/dance-animals.gif\" width=\"300\">\n",
        "</p>\n",
        "\n",
        "Tras muchos dolores de cabeza, un grupo de entusiastas académicos decidieron aprender sobre `Git` y así trabajar colaborativamente de forma más ordenada y eficiente. Después de una infinidad de intentos y aprender de sus errores \"*a la mala*\", los académicos lograron levantar un [repositorio](https://github.com/MDS7202/lab1) en `Github`. Usando el repositorio de los académicos, responda las siguientes preguntas (**incluya también los comandos en `Git` ocupados**):\n"
      ]
    },
    {
      "cell_type": "markdown",
      "metadata": {
        "cell_id": "bcef73b2e8604579bde90ed6622abfe9",
        "deepnote_cell_type": "markdown",
        "id": "BFRnAw0rfguR"
      },
      "source": [
        "1. Clone el repositorio a su ambiente local. (0.25 pts)"
      ]
    },
    {
      "cell_type": "markdown",
      "metadata": {
        "cell_id": "5d126ac3819c44479af94d3895bc4c97",
        "deepnote_cell_type": "markdown",
        "id": "KXro32yBeilN"
      },
      "source": [
        "<code>Escriba sus respuestas acá:</code>\n",
        "Se ejecutó el comando y se clonó el repositorio.\n",
        "git clone https://github.com/MDS7202/lab1.git"
      ]
    },
    {
      "cell_type": "markdown",
      "metadata": {
        "cell_id": "e215e4e25b2440f09ac273ba63603986",
        "deepnote_cell_type": "markdown",
        "id": "8QB-GKmQRjf1"
      },
      "source": [
        "2. Descomprima los archivos subidos con la tarea en U-cursos en la carpeta recién clonada de github. Una vez realizado esto, cree un archivo `.gitignore` con el cual omita la carpeta `videos` y los archivos con la extensión `.txt` exceptuando el archivo `171.txt` de la carpeta `texts`. (0.25 pts)"
      ]
    },
    {
      "cell_type": "markdown",
      "metadata": {
        "cell_id": "186233b44d004e3bbd86262d010188b5",
        "deepnote_cell_type": "markdown",
        "id": "7VJ8IIYpRjf1"
      },
      "source": [
        "<code>Para esta pregunta usted deberá adjuntar el .gitignore creado en su repo.</code>"
      ]
    },
    {
      "cell_type": "markdown",
      "metadata": {},
      "source": [
        "Se adjuntó el archivo."
      ]
    },
    {
      "cell_type": "markdown",
      "metadata": {
        "cell_id": "1de150590a41484a988b8e46616a2324",
        "deepnote_cell_type": "markdown",
        "id": "q2qmiDyjt2M_"
      },
      "source": [
        "3. Inspeccione brevemente el repositorio: ¿Cual es el objetivo del proyecto? Explique brevemente la estructura del proyecto, asi como también cada elemento que lo conforma. (0.25 pts)"
      ]
    },
    {
      "cell_type": "markdown",
      "metadata": {},
      "source": [
        "El objetivo del proyecto es emular los sonidos de animales. El archivo main.py solicita al usuario el nombre de un animal y devuelve el sonido correspondiente o un enlace a un video si el animal no es reconocido. animales contiene la lógica que define los sonidos de los animales. Además, el repositorio tiene el readme que indica brevemente lo que hace."
      ]
    },
    {
      "cell_type": "markdown",
      "metadata": {
        "cell_id": "082ca01c865e48e28352b280400c47b6",
        "deepnote_cell_type": "markdown",
        "id": "aBHpR8VTftkT"
      },
      "source": [
        "<code>Escriba sus respuestas acá:</code>"
      ]
    },
    {
      "cell_type": "markdown",
      "metadata": {
        "cell_id": "3aab4a3ee0c246e1be955680ad653fb8",
        "deepnote_cell_type": "markdown",
        "id": "XFwqcpLZfylf"
      },
      "source": [
        "4. Identifique los últimos cambios al repositorio, reconociendo las principales ramas de trabajo. ¿Son informativos los `commit` realizados? (0.25 pts)\n",
        "*Hint: Se recomienda usar los argumentos `all`, `graph` y `decorate`*"
      ]
    },
    {
      "cell_type": "markdown",
      "metadata": {},
      "source": [
        "La verdad primero lo verifiqué en gh desktop para entender bien y luego ejecuté los siguientes comandos:\n",
        "\n",
        "git log --all\n",
        "\n",
        "git log --graph\n",
        "\n",
        "git log --decorate\n",
        "\n"
      ]
    },
    {
      "cell_type": "markdown",
      "metadata": {
        "cell_id": "0fab79a360ac4c6a9ca0ab884f85c7e1",
        "deepnote_cell_type": "markdown",
        "id": "cmWfXBkOhog0"
      },
      "source": [
        "<code>Escriba sus respuestas acá:</code>\n",
        "Podemos ver que los cambios no son tan intuitivos pero está bien porque tampoco son cambios tan grandes, se agrega funcion y separar en modulos es algo que yo escribiría, sin embargo sería bueno agregar más detalles por si llega alguien que no tiene mucho contexto.  Yendo ahora a las ramas podemos ver la rama fix-ifs donde pablo badilla cambió algo pequeño. (Además de la new features pero que está estándar con los mismos cambios que main) Así los cambios son el que hice cuando cree el gitignore y los que mencioné y las 3 ramas fueron las mencionadas, los commit fueron informativos pero de manera pobre.\n",
        "\n",
        "Siendo específicos, los cambios son tal que:\n",
        "\n",
        "(base) tamarafarren@MacBook-Air-de-Tamara-2 Sin título % git log --all\n",
        "commit 79e5100029f5dd5049fd67961f67aff32bd8f7bf (main)\n",
        "Author: MacFarren <130416400+MacFarren@users.noreply.github.com>\n",
        "Date:   Tue Aug 26 21:58:50 2025 -0400\n",
        "\n",
        "    Create .gitignore\n",
        "\n",
        "commit 25543a3baf77292baf849726784ca005473acab1 (origin/fix-ifs, fix-ifs)\n",
        "Author: Pablo Badilla <pbadilla.torrealba@gmail.com>\n",
        "Date:   Thu Mar 23 22:50:49 2023 -0300\n",
        "\n",
        "    fix ifs\n",
        "\n",
        "commit 362fe21ee44f53ee944cee4ba484600308f83d78 (HEAD -> new_features, origin/new_features, origin/main, origin/HEAD)\n",
        "Author: mezosky <ignacio.meza@ug.uchile.cl>\n",
        "\n"
      ]
    },
    {
      "cell_type": "markdown",
      "metadata": {
        "cell_id": "d07b24d21f2343fb9a7e6a5db74e98c3",
        "deepnote_cell_type": "markdown",
        "id": "Vqbj9HdXrUnN"
      },
      "source": [
        "5. Uno de los académicos se da cuenta que la rama principal de trabajo no se ejecuta correctamente para todos los argumentos. Señale y explique el error en el código e identifique a la persona que lo cometió usando `git blame` (0.25 pts)\n",
        "\n",
        "*Hint: Le puede ser útil esta [documentación](https://www.atlassian.com/es/git/tutorials/inspecting-a-repository/git-blame).*"
      ]
    },
    {
      "cell_type": "markdown",
      "metadata": {},
      "source": [
        "Para encontrar el error corrí en ambos para reconocer cual arroja error\n",
        "\n",
        "git blame animales.py\n",
        "git blame main.py\n"
      ]
    },
    {
      "cell_type": "markdown",
      "metadata": {
        "cell_id": "bc5b0f9c639643108f8e66687b721732",
        "deepnote_cell_type": "markdown",
        "id": "5ajhV2Iar3tV"
      },
      "source": [
        "<code>Escriba sus respuestas acá:</code>\n",
        "El error en el código radica en que la función input() se ejecuta múltiples veces dentro de las condiciones if, lo que impide que la entrada del usuario se mantenga para las comparaciones. El código debería almacenar el valor ingresado en una variable y luego hacer las comparaciones, de lo contrario, la entrada se pide de nuevo en cada comparación y no se ejecuta correctamente para todos los argumentos. Este error fue cometido por mezosky en el commit 362fe21e, realizado el 23 de marzo de 2023, cuando se hizo la separación del proyecto en módulos."
      ]
    },
    {
      "cell_type": "markdown",
      "metadata": {
        "cell_id": "f3f4e78e6d9145ebbb120c0a2e4aade6",
        "deepnote_cell_type": "markdown",
        "id": "m8J3uE7MhqTA"
      },
      "source": [
        "6. Busque los siguientes `commit`:\n",
        "\n",
        "- `c8b1a62d7299552b0654f930d695b33109214111`\n",
        "- `362fe21ee44f53ee944cee4ba484600308f83d78`\n",
        "- `25543a3baf77292baf849726784ca005473acab1`\n",
        "\n",
        "¿Qué diferencias existen entre cada uno? (0.25 pts)"
      ]
    },
    {
      "cell_type": "markdown",
      "metadata": {
        "cell_id": "696ed361ac0c41c8a214cfad9dcb39e6",
        "deepnote_cell_type": "markdown",
        "id": "sNHnZsgIitGh"
      },
      "source": [
        "<code>Escriba sus respuestas acá:</code>\n",
        "git show c8b1a62d7299552b0654f930d695b33109214111 (seba)\n",
        "\n",
        "git show c8b1a62d7299552b0654f930d695b33109214111 (Mezosky)\n",
        "\n",
        "git show 25543a3baf77292baf849726784ca005473acab1 (Pablo Badilla)\n",
        "\n",
        "\n",
        "En el primer commit (c8b1a62d), se agrega la función animales() en el archivo main.py, comenzando la implementación para determinar los sonidos de los animales. En el segundo commit (362fe21e), el proyecto se reorganiza en módulos, moviendo la función animales() al archivo animales.py. Finalmente, en el tercer commit (25543a3b), se corrige la lógica de las condiciones if en main.py, cambiando un if por un elif para mejorar la comparación de los animales y asegurar que se ejecute correctamente para todas las entradas."
      ]
    },
    {
      "cell_type": "markdown",
      "metadata": {
        "cell_id": "b4e18f8ce94c430f85915c4e2732d05b",
        "deepnote_cell_type": "markdown",
        "id": "WQIPbfNCgpxC"
      },
      "source": [
        "7. Realice una `merge` de la rama `fix-ifs` con la rama `main` y describa lo que ocurre. ¿Qué parte del código podría estar ocasionando esto? (0.25 pts)"
      ]
    },
    {
      "cell_type": "markdown",
      "metadata": {
        "cell_id": "36da6a0d4f4a427bbccac09e2ae965fd",
        "deepnote_cell_type": "markdown",
        "id": "ypH_6lL5ioZz"
      },
      "source": [
        "<code>Escriba sus respuestas acá:</code>\n",
        "\n",
        "Primero vimos que estemos en main  git checkout main y luego  vimos git merge fix-ifs\n",
        ".\n",
        "\n",
        "Al tiro entrega un error, El conflicto en el merge ocurrió en el archivo main.py, específicamente en la sección donde se maneja la entrada del usuario para el animal \"perro\". Ambas ramas, main y fix-ifs, contenían el mismo bloque de código, sin embargo, Git no pudo fusionarlas automáticamente y marcó un conflicto.\n",
        "\n",
        "El conflicto fue causado por las diferencias en la forma en que Git manejó el merge entre las dos ramas, a pesar de que ambas contenían el mismo código en ese bloque específico. Git necesita la intervención del usuario para resolver estos conflictos, especialmente cuando no hay diferencias en el código, como en este caso.\n",
        "\n",
        "La solución consiste en eliminar las marcas de conflicto (<<<<<<< HEAD, =======, >>>>>>> fix-ifs) y dejar solo el código funcional, que es idéntico en ambas ramas. Una vez resuelto el conflicto, el archivo debe guardarse y realizar un commit para confirmar los cambios.\n",
        "\n",
        "Este conflicto no afectó el comportamiento de la funcionalidad del código, ya que las dos versiones son equivalentes."
      ]
    },
    {
      "cell_type": "markdown",
      "metadata": {
        "cell_id": "09787ab449c543479e5cc54c2a3b6c19",
        "deepnote_cell_type": "markdown",
        "id": "GYfODCjeivkU"
      },
      "source": [
        "8. Cree una rama nueva y proponga una solución al problema anterior, adjuntando el código corregido y señalando las líneas modificadas. (0.25 pts)"
      ]
    },
    {
      "cell_type": "markdown",
      "metadata": {
        "cell_id": "6d963fba3f2d4c17a4b281c7d3f4fb8b",
        "deepnote_cell_type": "markdown",
        "id": "8heBxDU9iziT"
      },
      "source": [
        "<code>Escriba sus respuestas acá:</code>\n",
        "\n",
        "git checkout -b fix-animal-condition\n",
        "\n",
        "\n",
        "Se creó la rama y la solución es la siguiente.\n",
        "\n",
        "animal = input(\"Ingrese el animalito para saber qué dice: \").lower()  # Línea añadida: se almacena la entrada del usuario\n",
        "\n",
        "if animal == 'gato':  # Línea no modificada\n",
        "    print('miau')\n",
        "elif animal == 'perro':  # Línea no modificada\n",
        "    print('guau')\n",
        "elif animal == 'fox':  # Línea no modificada\n",
        "    print('https://www.youtube.com/watch?v=jo1fNR_WkoCE')\n",
        "else:  # Línea no modificada\n",
        "    raise ValueError('animal no reconocido :(')\n",
        "\n",
        "La linea modificada fue lalínea 1: animal = input(\"Ingrese el animalito para saber qué dice: \").lower()\n",
        "\n",
        "Esta línea almacena la entrada del usuario en la variable animal y convierte la entrada a minúsculas para hacer las comparaciones sin importar el caso (mayúsculas o minúsculas)."
      ]
    },
    {
      "cell_type": "markdown",
      "metadata": {
        "cell_id": "8a47d4bf8b3045d68e4f29bb449c87f1",
        "deepnote_cell_type": "markdown",
        "id": "Av8ebB9jkALO"
      },
      "source": [
        "## Fin"
      ]
    },
    {
      "cell_type": "markdown",
      "metadata": {
        "cell_id": "cec4b53942ed489f8f8b63d0e9d4f3e5",
        "deepnote_cell_type": "markdown",
        "id": "aQqZT9fSkBK8"
      },
      "source": [
        "Eso ha sido todo por ahora!! Esperamos que este laboratorio les haya gustado y servido para trabajar con `Git`. Recuerden los dias de plazo que tienen disponibles y que ante cualquier duda no duden en contactar al equipo docente.\n",
        "\n",
        "Nos vemos!!\n",
        "\n",
        "<p align=\"center\">\n",
        "  <img src=\"https://media.tenor.com/OYLdav9k9LkAAAAd/kitty-cat.gif\" width=\"350\">\n",
        "</p>\n"
      ]
    }
  ],
  "metadata": {
    "colab": {
      "provenance": []
    },
    "deepnote_execution_queue": [],
    "deepnote_notebook_id": "62cd20d52b9a4810ada15644630456dc",
    "kernelspec": {
      "display_name": "base",
      "language": "python",
      "name": "python3"
    },
    "language_info": {
      "codemirror_mode": {
        "name": "ipython",
        "version": 3
      },
      "file_extension": ".py",
      "mimetype": "text/x-python",
      "name": "python",
      "nbconvert_exporter": "python",
      "pygments_lexer": "ipython3",
      "version": "3.12.7"
    }
  },
  "nbformat": 4,
  "nbformat_minor": 0
}
