{
  "cells": [
    {
      "cell_type": "markdown",
      "metadata": {
        "id": "FcXwKd6wuzTs"
      },
      "source": [
        "![](https://www.dii.uchile.cl/wp-content/uploads/2021/06/Magi%CC%81ster-en-Ciencia-de-Datos.png)"
      ]
    },
    {
      "cell_type": "markdown",
      "metadata": {
        "id": "hPZ3LbZiuzTu"
      },
      "source": [
        "**MDS7202: Laboratorio de Programación Científica para Ciencia de Datos**\n",
        "\n",
        "### 👨‍🏫👩‍🏫 Cuerpo Docente:\n",
        "\n",
        "- Profesores: Diego Cortez, Gabriel Iturra\n",
        "- Auxiliares: Melanie Peña, Valentina Rojas\n",
        "- Ayudantes: Nicolás Cabello, Cristopher Urbina\n",
        "\n",
        "### 👨‍💻👩‍💻 Estudiantes:\n",
        "- Estudiante n°1: Maximiliano Farren\n",
        "- Estudiante n°2: Sebastián Rubina\n",
        "\n",
        "_Por favor, lean detalladamente las instrucciones de la tarea antes de empezar a escribir._\n",
        "\n",
        "---"
      ]
    },
    {
      "cell_type": "markdown",
      "metadata": {
        "id": "hm3-HEQHuzTw"
      },
      "source": [
        "---\n",
        "\n",
        "## 📖 Enunciado"
      ]
    },
    {
      "cell_type": "markdown",
      "metadata": {
        "id": "Yyr1tuM4uzTx"
      },
      "source": [
        "<div align=\"center\">\n",
        "    <img src='https://github.com/MDS7202/MDS7202/blob/main/recursos/2025-01/proyecto/proyecto.png?raw=true' style=\"border-radius: 12px\">\n",
        "</div>"
      ]
    },
    {
      "cell_type": "markdown",
      "metadata": {
        "id": "B13nI7xTuzTx"
      },
      "source": [
        "En el competitivo universo de las bebidas gaseosas, la empresa **SodAI Drinks 🥤** ha logrado destacarse por su creatividad, diversidad de productos y enfoque centrado en el cliente. Ofrece una extensa gama de bebidas carbonatadas que abarca distintos segmentos del mercado: desde productos premium en presentaciones sofisticadas, hasta gaseosas accesibles para el consumo masivo, disponibles en diversos tamaños y tipos de envases.\n",
        "\n",
        "La compañía opera en múltiples regiones y zonas, sirviendo a una variedad de puntos de venta que incluyen desde tiendas de conveniencia y minimarkets hasta el canal frío tradicional. Cada tipo de cliente tiene sus particularidades: algunos reciben entregas hasta 4 veces por semana, mientras que otros son visitados por la fuerza de ventas solo una vez semanalmente. Esta diversidad de perfiles representa tanto una oportunidad como un desafío comercial: ¿cómo saber qué productos tienen más chances de ser comprados por cada cliente en un momento dado?\n",
        "\n",
        "Con el objetivo de aumentar la facturación de forma inteligente y mejorar la eficiencia de su estrategia de ventas, **SodAI Drinks** decide crear una nueva célula interna de innovación: el equipo **Deep Drinkers 🤖**, cuyo propósito es aplicar ciencia de datos para anticiparse a las necesidades del cliente y potenciar el negocio desde una perspectiva basada en información.\n",
        "\n",
        "El corazón de esta iniciativa es el desarrollo de un sistema predictivo personalizado para cada cliente. Para ello, **Deep Drinkers** convoca a un equipo de Data Scientists y especialistas en *machine learning* con una misión clara: construir un modelo predictivo que, cada semana, pueda estimar la probabilidad de compra de cada producto del portafolio para cada cliente activo.\n",
        "\n",
        "El modelo deberá tener en cuenta múltiples factores, incluyendo:\n",
        "- **Tipo de cliente**, ej. \"TIENDA DE CONVENIENCIA\", \"MINIMARKET\".\n",
        "- **Frecuencia de entregas y visitas**, indicadores del nivel de actividad comercial.\n",
        "- **Ubicación geográfica** (por región y zona).\n",
        "- **Preferencias históricas de consumo**, inferidas por patrones de compra anteriores.\n",
        "- **Características del producto**, como marca, categoría, segmento, tipo de envase y tamaño\n",
        "\n",
        "El objetivo final es que, **cada semana**, se genere una tabla de productos priorizados: para cada cliente, un listado de productos ordenado por su probabilidad estimada de compra. Esta información será enviada al equipo comercial, que podrá usarla en call center, para incrementar las chances de concretar ventas al ofrecer justo lo que el cliente probablemente quiere comprar.\n",
        "\n",
        "Este proyecto representa un cambio de paradigma en la forma en que **SodAI Drinks** gestiona su fuerza de ventas: de un enfoque reactivo y generalista, a uno proactivo, basado en datos y profundamente personalizado. Así, la empresa no solo espera aumentar su rentabilidad, sino también construir relaciones más sólidas con sus clientes, ofreciéndoles recomendaciones más relevantes y oportunas.\n",
        "\n",
        "Para lograr lo anterior, el equipo **Deep Drinkers** contará con los siguientes conjuntos de datos, junto a sus respectivos atributos:\n",
        "\n",
        "- **Datos transaccionales** (`transacciones.parquet`): contiene el historial de compras realizadas por los clientes.\n",
        "\t- `customer_id`: identificador único del cliente que realizó la compra.\n",
        "\t- `product_id`: identificador único del producto comprado.\n",
        "\t- `purchase_date`: fecha en que se realizó la transacción.\n",
        "\t- `order_id`: identificar de la orden de su pedido.\n",
        "\t- `payment`\tmonto total pagado por la transacción.\n",
        "\n",
        "- **Datos de clientes** (`clientes.parquet`): incluye las características de cada cliente.\n",
        "\t- `customer_id`: identificador único del cliente.\n",
        "\t- `region_id`: identificador de la región geográfica donde se encuentra el cliente.\n",
        "\t- `customer_type`: tipo de cliente según el canal comercial, por ejemplo, “TIENDA DE CONVENIENCIA”.\n",
        "\t- `Y`: coordenada geográfica de latitud.\n",
        "\t- `X`: coordenada geográfica de longitud.\n",
        "\t- `num_deliver_per_week`: cantidad de entregas semanales que recibe el cliente.\n",
        "\t- `num_visit_per_week`: frecuencia de visitas de la fuerza de ventas por semana.\n",
        "\n",
        "- **Datos de productos** (`productos.parquet`): describe las características de los productos del portafolio.\n",
        "\t- `product_id`: identificador único del producto.\n",
        "\t- `brand`: marca comercial del producto.\n",
        "\t- `category`: categoría general del producto, como “BEBIDAS CARBONATADAS”.\n",
        "\t- `sub_category`: subcategoría dentro de la categoría principal, por ejemplo, “GASEOSAS”.\n",
        "\t- `segment`: segmento de mercado al que pertenece el producto, como “PREMIUM”.\n",
        "\t- `package`: tipo de envase del producto.\n",
        "\t- `size`: tamaño del producto en litros."
      ]
    },
    {
      "cell_type": "markdown",
      "metadata": {
        "id": "ZSNJUPqcuzTz"
      },
      "source": [
        "## 📚 Reglas"
      ]
    },
    {
      "cell_type": "markdown",
      "metadata": {
        "id": "-mT8ZiH1uzT0"
      },
      "source": [
        "<center>\n",
        "<img src=\"https://media1.tenor.com/m/0Qtv_cQ4ITsAAAAd/necohaus-grey-name.gif\" width=\"450\">"
      ]
    },
    {
      "cell_type": "markdown",
      "metadata": {
        "id": "0HHxGKuvuzT0"
      },
      "source": [
        "\n",
        "\n",
        "El proyecto consta de **dos entregas parciales** y una **entrega final** en donde la primera entrega la idea es poder reflejar lo aprendido durante la primera mitad del curso, que será sobre los contenidos relacionados a *machine learning*, la segunda será sobre los contenidos de la segunda mitad del curso relacionados a *MLOps* y por último la entrega final constará de dos partes, donde la primera será relacionada con experimentación sobre nuevos datasets que serán disponibilizados durante las últimas semanas del curso de manera incremental y una segunda parte que será el informe final escrito que deberá explicar el desarrollo del proyecto completo, como tambien los resultados y análisis de los experimentos realizados sobre los datasets incrementales. La idea es que todo el código esté desarrollado durante las primeras dos entregas y luego en la entrega final sólo se ejecute el código sobre nuevos conjuntos de datos.\n",
        "\n",
        "La idea de generar el proyecto por etapas es poder aliviar la carga de trabajo en las últimas semanas del semestre donde sabemos que están muy cargado con entregas, pruebas y exámenes de otros ramos, y así garantizamos que habiendo la desarrollado las dos primeras entregas parciales, tendrán el grueso del proyecto listo para luego experimentar y documentar.\n",
        "\n",
        "---\n",
        "### **Fechas de entrega**\n",
        "- **Entrega parcial 1**: 12 de Septiembre\n",
        "- **Entrega parcial 2**: Por definir\n",
        "- **Entrega final**: Por definir\n",
        "\n",
        "---\n",
        "\n",
        "### **Requisitos del proyecto**\n",
        "- **Grupos**: Formar equipos de **2 personas**. No se aceptarán trabajos individuales o grupos con más integrantes.\n",
        "- **Consultas**: Cualquier duda fuera del horario de clases debe ser planteada en el foro correspondiente. Los mensajes enviados al equipo docente serán respondidos únicamente por este medio. Por favor, revisen las respuestas anteriores en el foro antes de realizar nuevas consultas.\n",
        "- **Plagio**: La copia o reutilización no autorizada de trabajos de otros grupos está **estrictamente prohibida**. El incumplimiento de esta norma implicará la anulación inmediata del proyecto y una posible sanción académica.\n",
        "- **Material permitido**: Pueden usar cualquier material del curso, ya sea notas, lecturas, códigos, o referencias proporcionadas por los docentes, que consideren útil para el desarrollo del proyecto.\n",
        "\n",
        "---\n",
        "\n",
        "### **Entregables y etapas**\n",
        "\n",
        "#### **1. Entrega Parcial 1**  \n",
        "- Dispondrán de los archivos de datos **productos.parquet**, **clientes.parquet** y **transacciones.parquet** para el modelamiento inicial.  \n",
        "- Utilizarán estos archivos para desarrollar lo solicitado para la entrega 1.\n",
        "- En esta etapa, se espera que apliquen todos los conocimientos aprendidos durante la primera parte del curso relacionados con *machine learning*.\n",
        "- **Informe**: No se exige un avance del informe en esta etapa, sólo un notebook con su desarrollo actual, pero se **recomienda comenzar** a redactar el informe final en paralelo para disminuir la carga académica en las etapas posteriores.  \n",
        "\n",
        "#### **2. Entrega Parcial 2**  \n",
        "- En esta entrega, deberán aplicar los conocimientos aprendidos durante la segunda mitad del curso sobre *MLOps*  \n",
        "- Se espera que implementen estos conocimientos para desplegar su modelo elegido en la primera entrega y crear *pipelines* automatizados que simulen un entorno productivo.\n",
        "- **Informe**: similar a la primera etapa, no se exige un avance del informe, pero se **recomienda avanzar con su redacción** para evitar una acumulación de trabajo en la etapa final.  \n",
        "\n",
        "#### **3. Entrega Final**  \n",
        "- En la entrega final, deberán realizar dos etapas:\n",
        "\t- La primera etapa es sobre experimentación utilizando datasets incrementales que se irán disponibilizando de manera parcial, para que vayan generando predicciones con su modelo ya desplegado. El objetivo de esta etapa es poder testear su solución *end-to-end* y que vayan analizando los resultados obtenidos a medida que se van agregando más datos.\n",
        "\t- La segunda etapa consiste en redactar un informe final que deberá explicar el desarrollo completo de tu proyecto y un análisis profundo de sus resultados de experimentación. Este informe debera incluir a lo menos las siguientes secciones:\n",
        "\t\t- Análisis exploratorio de datos  \n",
        "\t\t- Metodología aplicada  \n",
        "\t\t- Selección y entrenamiento de modelos  \n",
        "\t\t- Evaluación de resultados  \n",
        "\t\t- Optimización de modelos\n",
        "\t\t- Interpretabilidad\n",
        "\t\t- Re-entrenamiento\n",
        "\t\t- Tracking con MLFlow\n",
        "\t\t- Creación de la aplicación web con Gradio y FastAPI\n",
        "\n",
        "Es **altamente recomendable** ir redactando el informe en paralelo al desarrollo de los modelos para garantizar que toda la información relevante quede documentada adecuadamente.  \n",
        "\n",
        "### Nota Final\n",
        "\n",
        "La calificación final de su proyecto se calculará utilizando la siguiente ponderación:\n",
        "\n",
        "$$Nota Final = 0.30 * EntregaParcial1 + 0.40 * EntregaParcial2 + 0.30 * EntregaFinal$$\n",
        "\n",
        "---\n",
        "\n",
        "### **Instrucciones importantes**\n",
        "\n",
        "1. **Formato del informe**:  \n",
        "   - El informe debe estar integrado dentro de un **Jupyter Notebook**. No es necesario subirlo a una plataforma externa, pero debe cumplir con los siguientes requisitos:  \n",
        "     - Estructura clara y ordenada.  \n",
        "     - Código acompañado de explicaciones detalladas.  \n",
        "     - Resultados presentados de forma visual y analítica.  \n",
        "\n",
        "2. **Descuento por informes deficientes**:  \n",
        "   - Cualquier sección del informe que no tenga una explicación adecuada o no respete el formato será penalizada con un descuento en la nota. Esto incluye código sin comentarios o análisis que no sean coherentes con los resultados presentados.\n",
        "   - Comentarios sin formatear de ChatGPT o herramientas similares serán penalizados (e.g: \"Inserta tu modelo acá\", etc.)"
      ]
    },
    {
      "cell_type": "markdown",
      "metadata": {
        "id": "Le_c4TqHuzT1"
      },
      "source": [
        "# 📬 Entrega Parcial 1 (30% del Proyecto)"
      ]
    },
    {
      "cell_type": "markdown",
      "metadata": {
        "id": "NFRVmL--uzT2"
      },
      "source": [
        "### 📪 Fecha de Entrega: 12 de Septiembre"
      ]
    },
    {
      "cell_type": "markdown",
      "metadata": {
        "id": "fKPnavoauzT2"
      },
      "source": [
        "## 📌 Abstract [0.25 puntos]\n",
        "\n",
        "<center>\n",
        "<img src=\"https://i.redd.it/h5ptnsyabqvd1.gif\" width=\"400\" height=\"300\">"
      ]
    },
    {
      "cell_type": "markdown",
      "metadata": {
        "id": "cFGSJ_iauzT3"
      },
      "source": [
        "En esta sección, deben redactar un Abstract claro y conciso para su proyecto. El Abstract debe responder a las siguientes preguntas clave:\n",
        "\n",
        "- **Descripción del problema**: ¿Cuál es el objetivo del proyecto? ¿Qué se intenta predecir o analizar?\n",
        "- **Datos de entrada**: ¿Qué datos tienen disponibles? ¿Cuáles son sus principales características?\n",
        "- **Métrica de evaluación**: ¿Cómo medirán el desempeño de sus modelos? Expliquen por qué eligieron esta métrica basándose en el análisis exploratorio de los datos.\n",
        "- **Modelos y transformaciones**: ¿Qué modelos utilizarán y por qué? ¿Qué transformaciones o preprocesamientos aplicaron a los datos?\n",
        "- **Resultados generales**: ¿El modelo final cumplió con los objetivos del proyecto? ¿Cuáles fueron las conclusiones más importantes?\n",
        "\n",
        "**Importante**: Escriban esto despues de haber resuelto el resto de la tarea."
      ]
    },
    {
      "cell_type": "markdown",
      "metadata": {
        "id": "xvwGHAMAuzT3"
      },
      "source": [
        "###ABSTRACT\n",
        "\n",
        "El objetivo del proyecto es desarrollar un modelo de clasificación capaz de predecir la variable objetivo asociada al comportamiento de los individuos (por ejemplo, si un cliente realiza una determinada acción o no), utilizando distintas técnicas de machine learning.\n",
        "\n",
        "Los datos disponibles corresponden a un conjunto tabular con variables numéricas y categóricas, incluyendo información demográfica y de comportamiento. Se realizó un análisis exploratorio para detectar valores faltantes, distribución de clases y correlaciones relevantes, aplicando posteriormente transformaciones como normalización, codificación de variables categóricas y división en conjuntos de entrenamiento y prueba.\n",
        "\n",
        "La métrica de evaluación seleccionada fue la f1-score, ya que el conjunto de datos presenta cierto desbalance de clases, y esta métrica permite equilibrar la precisión y el recall al evaluar el rendimiento del modelo.\n",
        "\n",
        "Se probaron múltiples modelos supervisados, incluyendo KNN, Decision Tree, Random Forest, XGBoost, LightGBM, SVM y Regresión Logística, comparando su desempeño mediante validación cruzada y optimización de hiperparámetros con Optuna.\n",
        "\n",
        "Los resultados muestran que el modelo final (por ejemplo, LightGBM) alcanzó el mejor rendimiento global en términos de f1-score, cumpliendo con los objetivos del proyecto al lograr una predicción precisa y robusta. En conclusión, el modelo permitió identificar los patrones más relevantes del conjunto de datos y demostró el valor de combinar técnicas de optimización y preprocesamiento para mejorar el desempeño predictivo."
      ]
    },
    {
      "cell_type": "markdown",
      "metadata": {
        "id": "JwGcfMFHuzT3"
      },
      "source": [
        "## 📌 Pre-procesamiento [0.5 puntos]\n",
        "\n",
        "<center>\n",
        "<img src=\"https://media0.giphy.com/media/10zsjaH4g0GgmY/giphy.gif?cid=6c09b9523xtlunksc9amikw09zk1bmiqwjqnt70ae82rk877&ep=v1_gifs_search&rid=giphy.gif&ct=g\" width=\"400\" height=\"300\">"
      ]
    },
    {
      "cell_type": "markdown",
      "metadata": {
        "id": "lpxw-RoLuzT4"
      },
      "source": [
        "Tal como en muchos otros problemas de negocio, los datos probablemente deben ser pre procesados antes de aplicar cualquier técnica de analítica. Bajo esa premisa, en esta sección deben desarrollar código que les permita **preparar los datos** de tal forma que les permita resolver el problema planteado. Para esto, pueden aplicar procesamientos como:\n",
        "\n",
        "- Transformaciones de tipo de dato (str, int, etc)\n",
        "- Cruce de información\n",
        "- Eliminación de duplicados\n",
        "- Filtros de fila y/o columnas\n",
        "\n",
        "*Hint: ¿Qué forma debería tener la data para resolver un problema de aprendizaje supervisado?*\n",
        "\n",
        "Todo proceso llevado a cabo debe estar bien documentado y justificado en el informe, explicando el por qué se decidió realizar en funcion de los datos presentados y los objetivos planteados del proyecto."
      ]
    },
    {
      "cell_type": "code",
      "execution_count": null,
      "metadata": {
        "id": "QmHePNQgu8lL"
      },
      "outputs": [],
      "source": [
        "   # Librerias\n",
        "import numpy as np\n",
        "import pandas as pd\n",
        "import datetime\n",
        "from IPython.display import HTML\n",
        "from sklearn.neighbors import KNeighborsClassifier\n",
        "from sklearn.tree import DecisionTreeClassifier\n",
        "from xgboost import XGBClassifier\n",
        "from google.colab import files\n",
        "\n",
        "import matplotlib.pyplot as plt\n",
        "import seaborn as sns\n",
        "\n",
        "from sklearn.pipeline import Pipeline\n",
        "from sklearn.compose import ColumnTransformer\n",
        "from sklearn.preprocessing import StandardScaler, OneHotEncoder, RobustScaler\n",
        "from sklearn.impute import SimpleImputer\n",
        "from sklearn.base import BaseEstimator, TransformerMixin\n",
        "\n",
        "from sklearn.dummy import DummyClassifier\n",
        "from sklearn.metrics import classification_report, confusion_matrix, ConfusionMatrixDisplay\n",
        "\n",
        "import warnings\n",
        "\n",
        "from sklearn.linear_model import LogisticRegression\n",
        "from sklearn.utils.class_weight import compute_class_weight\n",
        "from sklearn.ensemble import RandomForestClassifier\n",
        "from sklearn.svm import SVC\n",
        "\n",
        "from xgboost import XGBClassifier\n",
        "from lightgbm import LGBMClassifier, early_stopping\n",
        "\n",
        "import joblib\n"
      ]
    },
    {
      "cell_type": "code",
      "execution_count": null,
      "metadata": {
        "id": "5BpnsVvOu5rz"
      },
      "outputs": [],
      "source": [
        "# Subir archivo\n",
        "uploaded = files.upload()\n",
        "uploaded = files.upload()\n",
        "uploaded = files.upload()"
      ]
    },
    {
      "cell_type": "code",
      "execution_count": null,
      "metadata": {
        "id": "Kx-b2PfPvRH6"
      },
      "outputs": [],
      "source": [
        "# Cargar los archivos\n",
        "productos_df = pd.read_parquet(\"productos.parquet\")\n",
        "clientes_df = pd.read_parquet(\"clientes.parquet\")\n",
        "transacciones_df = pd.read_parquet(\"transacciones.parquet\")"
      ]
    },
    {
      "cell_type": "code",
      "execution_count": null,
      "metadata": {
        "id": "u8P5zlpBv9ay"
      },
      "outputs": [],
      "source": [
        "# 1. Revisión de los datos\n",
        "print(\"Productos DataFrame:\")\n",
        "print(productos_df.head())\n",
        "\n",
        "print(\"Clientes DataFrame:\")\n",
        "print(clientes_df.head())\n",
        "\n",
        "print(\"Transacciones DataFrame:\")\n",
        "print(transacciones_df.head())"
      ]
    },
    {
      "cell_type": "code",
      "execution_count": null,
      "metadata": {
        "id": "4rYeNjRJukex"
      },
      "outputs": [],
      "source": [
        "print(productos_df['category'].value_counts())"
      ]
    },
    {
      "cell_type": "code",
      "execution_count": null,
      "metadata": {
        "id": "tYAxYphv0PXl"
      },
      "outputs": [],
      "source": [
        "# Contar el número de clientes únicos en el DataFrame clientes_df\n",
        "numero_clientes = clientes_df['customer_id'].nunique()\n",
        "\n",
        "print(f\"Número total de clientes únicos: {numero_clientes}\")"
      ]
    },
    {
      "cell_type": "code",
      "execution_count": null,
      "metadata": {
        "id": "RoorHQkPz2yW"
      },
      "outputs": [],
      "source": [
        "# Verificar si existen customer_id comunes entre clientes y transacciones\n",
        "customer_ids_clientes = set(clientes_df['customer_id'])\n",
        "customer_ids_transacciones = set(transacciones_df['customer_id'])\n",
        "\n",
        "# Obtener los customer_id comunes\n",
        "customer_ids_comunes = customer_ids_clientes.intersection(customer_ids_transacciones)\n",
        "\n",
        "# Mostrar los resultados\n",
        "print(f\"Número de customer_id comunes: {len(customer_ids_comunes)}\")\n",
        "print(f\"Los primeros 10 customer_id comunes: {list(customer_ids_comunes)[:10]}\")\n"
      ]
    },
    {
      "cell_type": "markdown",
      "metadata": {
        "id": "aCgv64gFWv2F"
      },
      "source": [
        "###Análisis de items, valores negativos y Target\n",
        "\n",
        "Primero, eliminamos los items negativos, esto por dos razones, primero, debido a que analizamos probabilidad de compra, como puede ser visto en cursos como IN5162 (electivo mds), lo interesante al analizar estos tópicos es la intención de compra al comparar con otros productos, por ende la relevancia es en que se haya tenido la intención de compra, por lo que aunque sean devoluciones, pueden ser por factores exógenos como productos fallidos o quiebres en cadena por superación de inventario. Por esto la solución adeucada es no considerar items negativos."
      ]
    },
    {
      "cell_type": "code",
      "execution_count": null,
      "metadata": {
        "id": "LIoCI7cOWdSk"
      },
      "outputs": [],
      "source": [
        "# ELIMINACIÓN SIMPLE DE ITEMS NEGATIVOS\n",
        "#copiamos df para mantener las estadísticas originales y analizar\n",
        "transacciones_df1 = transacciones_df.copy()\n",
        "# Estadísticas antes\n",
        "print(f\"Transacciones antes: {len(transacciones_df1)}\")\n",
        "print(f\"Items negativos: {len(transacciones_df1[transacciones_df1['items'] < 0])}\")\n",
        "\n",
        "# Guardar valor original\n",
        "transacciones_original = len(transacciones_df1)\n",
        "\n",
        "# Eliminar items negativos\n",
        "transacciones_df = transacciones_df1[transacciones_df1['items'] >= 0].copy()\n",
        "\n",
        "# Estadísticas después\n",
        "print(f\"Transacciones después: {len(transacciones_df)}\")\n",
        "print(f\"Porcentaje eliminado: {(1 - len(transacciones_df)/transacciones_original)*100:.2f}%\")\n"
      ]
    },
    {
      "cell_type": "markdown",
      "metadata": {
        "id": "4Lf_QwIdjb4U"
      },
      "source": [
        "Se elimina el 3%, lo que realmente podría ser un número que no se eliminaría, sin embargo al estudiarse análisis conductual de compra, el análisis se ve reflejado en la intención, por ejemplo si tenemos una devolución de 10, también tendremos la compra de 10, donde la devolución tendrá un valor de -10, pero la intención de compra está en la primera entrada con valor items=10, podría decirse que eliminar estos valores no hace perder información debido a que está contenido en la entrada de compra y no en la de la devolución.\n",
        "\n",
        "Asumimos que no son valores erroneos debido a que se trata de una empresa donde su software no debiese tener un input donde se acepten valores negativos, debe ser parte del procesamiento del software que al hacer una devolución acepta entradas negativas. De todas formas, esto debiese preguntarse a la empresa."
      ]
    },
    {
      "cell_type": "code",
      "execution_count": null,
      "metadata": {
        "id": "rjnVg8JkmOea"
      },
      "outputs": [],
      "source": [
        "# Convertir columnas categóricas a tipo 'category' (ejemplo con 'customer_type' y 'category')\n",
        "clientes_df['customer_type'] = clientes_df['customer_type'].astype('category')\n",
        "productos_df['category'] = productos_df['category'].astype('category')"
      ]
    },
    {
      "cell_type": "code",
      "execution_count": null,
      "metadata": {
        "id": "MN4JP9lamed1"
      },
      "outputs": [],
      "source": [
        "# Verificar datos duplicados en cada DataFrame\n",
        "duplicados_productos = productos_df.duplicated().sum()\n",
        "print(f\"Número de filas duplicadas en productos_df: {duplicados_productos}\")\n",
        "duplicados_clientes = clientes_df.duplicated().sum()\n",
        "print(f\"Número de filas duplicadas en clientes_df: {duplicados_clientes}\")\n",
        "duplicados_transacciones = transacciones_df.duplicated().sum()\n",
        "print(f\"Número de filas duplicadas en transacciones_df: {duplicados_transacciones}\")"
      ]
    },
    {
      "cell_type": "markdown",
      "metadata": {
        "id": "XqCqZAiimlhq"
      },
      "source": [
        "Notar que hay 885 filas duplicadas en transacciones"
      ]
    },
    {
      "cell_type": "code",
      "execution_count": null,
      "metadata": {
        "id": "wQFYGj7PmkyP"
      },
      "outputs": [],
      "source": [
        "print(transacciones_df.shape)"
      ]
    },
    {
      "cell_type": "code",
      "execution_count": null,
      "metadata": {
        "id": "r3P5qFCtmwNR"
      },
      "outputs": [],
      "source": [
        "# Eliminación de duplicados\n",
        "transacciones_df.drop_duplicates(inplace=True)"
      ]
    },
    {
      "cell_type": "markdown",
      "metadata": {
        "id": "Eyub_EQ4lHPw"
      },
      "source": [
        "###Definición de la variable Target"
      ]
    },
    {
      "cell_type": "markdown",
      "metadata": {
        "id": "-5W15xkjlKRv"
      },
      "source": [
        "Estamos definiendo la variable objetivo como un problema de clasificación binaria donde predecimos si un cliente específico comprará un producto específico en una semana específica. Esta aproximación genera un producto cruzado de (cliente × producto × semana) donde el target = 1 indica que hubo una compra real de ese producto por ese cliente en esa semana, y target = 0 para todas las demás combinaciones posibles donde no hubo compra. Este enfoque captura la naturaleza del problema de recomendación: para cada cliente en cada período, rankear todos los productos disponibles según su probabilidad de compra, permitiendo al equipo comercial priorizar ofertas personalizadas. Se escoge un batch de análisis=10 debido a que en el curso mencionado anteriormente vemos que es un buen número debido a la naturaleza del ejercicio (tuvimos una tarea similar)\n",
        "\n"
      ]
    },
    {
      "cell_type": "code",
      "execution_count": null,
      "metadata": {
        "id": "9bbmfTOYjbHH"
      },
      "outputs": [],
      "source": [
        "# En un principio se preparan los datos temporales\n",
        "\n",
        "# Convertir fecha y crear semana del año\n",
        "transacciones_df['purchase_date'] = pd.to_datetime(transacciones_df['purchase_date'])\n",
        "transacciones_df['year_week'] = transacciones_df['purchase_date'].dt.strftime('%Y-%U')\n",
        "\n",
        "print(f\"Transacciones válidas (items > 0): {len(transacciones_df):,}\")\n",
        "\n",
        "# Se identifican las dimensiones activas\n",
        "\n",
        "# Clientes que han comprado al menos una vez\n",
        "clientes_activos = transacciones_df['customer_id'].unique()\n",
        "# Productos que han sido comprados al menos una vez\n",
        "productos_activos = transacciones_df['product_id'].unique()\n",
        "# Semanas con actividad comercial\n",
        "semanas_activas = sorted(transacciones_df['year_week'].unique())\n",
        "\n",
        "print(f\"Clientes activos: {len(clientes_activos):,}\")\n",
        "print(f\"Productos activos: {len(productos_activos):,}\")\n",
        "print(f\"Semanas activas: {len(semanas_activas):,}\")\n",
        "\n",
        "# Se crea la estructura de datos optimizada\n",
        "print(\"\\n3. Creando estructura optimizada...\")\n",
        "\n",
        "# Agrupar compras por cliente-semana para eficiencia\n",
        "compras_agrupadas = transacciones_df.groupby(['customer_id', 'year_week'])['product_id'].apply(set).reset_index()\n",
        "compras_agrupadas.columns = ['customer_id', 'year_week', 'productos_comprados']\n",
        "\n",
        "print(f\"Combinaciones cliente-semana únicas: {len(compras_agrupadas):,}\")\n",
        "\n",
        "# Se crea el dataset con target binario\n",
        "print(\"\\n4. Generando producto cruzado con target...\")\n",
        "\n",
        "datasets = []\n",
        "\n",
        "# Procesar por lotes para manejar memoria\n",
        "batch_size = 1000  # Procesar 1000 cliente-semana por lote\n",
        "total_batches = (len(compras_agrupadas) - 1) // batch_size + 1\n",
        "\n",
        "for batch_num in range(total_batches):\n",
        "    start_idx = batch_num * batch_size\n",
        "    end_idx = min((batch_num + 1) * batch_size, len(compras_agrupadas))\n",
        "    batch = compras_agrupadas.iloc[start_idx:end_idx]\n",
        "\n",
        "    for _, row in batch.iterrows():\n",
        "        cliente = row['customer_id']\n",
        "        semana = row['year_week']\n",
        "        productos_comprados = row['productos_comprados']\n",
        "\n",
        "        # Para cada producto activo, crear registro con target\n",
        "        for producto in productos_activos:\n",
        "            target = 1 if producto in productos_comprados else 0\n",
        "\n",
        "            datasets.append({\n",
        "                'year_week': semana,\n",
        "                'customer_id': cliente,\n",
        "                'product_id': producto,\n",
        "                'target': target\n",
        "            })\n",
        "\n",
        "    if (batch_num + 1) % 10 == 0:  #cada 10 lotes\n",
        "        print(f\"Procesado lote {batch_num + 1}/{total_batches}\")\n",
        "\n",
        "# Se crea el dataset final\n",
        "print(\"\\n5. Creando DataFrame final...\")\n",
        "df_target = pd.DataFrame(datasets)\n",
        "print(f\"Dataset creado: {len(df_target):,} filas\")\n",
        "\n",
        "# 6. ANÁLISIS DE LA DISTRIBUCIÓN\n",
        "print(\"\\n6. Análisis de distribución del target:\")\n",
        "target_dist = df_target['target'].value_counts()\n",
        "print(target_dist)\n",
        "print(f\"Proporción de positivos: {target_dist[1]/len(df_target)*100:.2f}%\")\n",
        "\n",
        "# se une datos de clientes y productos\n",
        "print(\"\\n7. Enriqueciendo con datos adicionales...\")\n",
        "\n",
        "# Unir características de clientes\n",
        "df_final = pd.merge(df_target, clientes_df, on='customer_id', how='left')\n",
        "\n",
        "# Unir características de productos\n",
        "df_final = pd.merge(df_final, productos_df, on='product_id', how='left')\n",
        "\n",
        "print(f\"Dataset final: {len(df_final):,} filas, {len(df_final.columns)} columnas\")\n",
        "\n",
        "# Verificar integridad\n",
        "print(\"\\n8. Verificación de integridad:\")\n",
        "print(f\"Clientes en dataset: {df_final['customer_id'].nunique():,}\")\n",
        "print(f\"Productos en dataset: {df_final['product_id'].nunique():,}\")\n",
        "print(f\"Semanas en dataset: {df_final['year_week'].nunique():,}\")\n",
        "print(f\"Valores nulos: {df_final.isnull().sum().sum()}\")\n",
        "\n",
        "# Guardar\n",
        "print(\"\\n9. Guardando dataset...\")\n",
        "df_final.to_parquet('dataset_con_target.parquet', index=False)\n",
        "print(\"✅ Dataset guardado como 'dataset_con_target.parquet'\")\n",
        "\n",
        "# Muestra\n",
        "print(\"\\n10. Muestra del dataset final:\")\n",
        "print(df_final[['year_week', 'customer_id', 'product_id', 'target']].head(10))\n",
        "\n",
        "print(\" VARIABLE TARGET CREADA EXITOSAMENTE\")\n",
        "print(f\" Tamaño del dataset: {len(df_final):,} filas\")\n",
        "print(f\"  Balance: {target_dist[1]:,} positivos vs {target_dist[0]:,} negativos\")\n",
        "print(f\" Proporción positiva: {target_dist[1]/len(df_target)*100:.2f}%\")"
      ]
    },
    {
      "cell_type": "markdown",
      "metadata": {
        "id": "DBo7C38Jz85a"
      },
      "source": []
    },
    {
      "cell_type": "markdown",
      "metadata": {
        "id": "TjePjjLwv-r3"
      },
      "source": [
        "Ahora vemos que fuera de eso, no hay más cosas interesantes a tratar."
      ]
    },
    {
      "cell_type": "code",
      "execution_count": null,
      "metadata": {
        "id": "oUrtZcvxwcJT"
      },
      "outputs": [],
      "source": [
        "# Verificar valores nulos en cada DataFrame\n",
        "print(\"Valores nulos en productos_df:\")\n",
        "print(productos_df.isnull().sum())\n",
        "\n",
        "print(\"Valores nulos en clientes_df:\")\n",
        "print(clientes_df.isnull().sum())\n",
        "\n",
        "print(\"Valores nulos en transacciones_df:\")\n",
        "print(transacciones_df.isnull().sum())\n",
        "\n",
        "print(\"Valores nulos en df_final:\")\n",
        "print(df_final.isnull().sum())"
      ]
    },
    {
      "cell_type": "markdown",
      "metadata": {
        "id": "MLBEt2s6wpwj"
      },
      "source": [
        "Es importante notar que no existen valores nulos, por lo que es posible continuar trabajando sin realizar una limpieza respecto a los NA"
      ]
    },
    {
      "cell_type": "code",
      "execution_count": null,
      "metadata": {
        "id": "lYBbXyhFLup2"
      },
      "outputs": [],
      "source": [
        "print(\"porcentaje de transacciones repetidas:\",duplicados_transacciones/transacciones_df.shape[0]*100,\"%\")"
      ]
    },
    {
      "cell_type": "markdown",
      "metadata": {
        "id": "pE8nZgzsL6ke"
      },
      "source": [
        "Vemos que como representa tan sólo un 0.35% se pueden eliminar estos datos aunque no sean errores de duplicados, debido a que son tan pocos datos que su eliminación no quita información relevante para el estudio"
      ]
    },
    {
      "cell_type": "markdown",
      "metadata": {
        "id": "t0sl3JIruzT7"
      },
      "source": [
        "## 📌 EDA [0.5 puntos]\n",
        "\n",
        "<center>\n",
        "<img src=\"https://media3.giphy.com/media/v1.Y2lkPTc5MGI3NjExbHZ6aGdkd21tYTI3cW8zYWhyYW5wdGlyb2s3MmRzeTV0dzQ1NWlueiZlcD12MV9pbnRlcm5hbF9naWZfYnlfaWQmY3Q9Zw/3k1hJubTtOAKPKx4k3/giphy.gif\" width=\"400\" height=\"200\">"
      ]
    },
    {
      "cell_type": "markdown",
      "metadata": {
        "id": "Z8ZvDWiLuzT8"
      },
      "source": [
        "En esta sección, se debe realizar un análisis exploratorio de los datos para comprender su estructura, detectar posibles problemas y obtener información relevante para el entrenamiento de los modelos. La idea es que puedan detectar **patrones en los datos** que les permitan resolver el problema con mayor facilidad.\n",
        "\n",
        "Se deben responder preguntas a partir de lo que puedan visualizar/obtener, por ejemplo:\n",
        "\n",
        "- Clientes y productos\n",
        "\n",
        "    - ¿Cuántos clientes únicos hay en el dataset?\n",
        "\n",
        "    - ¿Cuántos productos únicos se encuentran en los datos?\n",
        "\n",
        "- Periodo y frecuencia\n",
        "\n",
        "    - ¿De qué periodo es la información disponible?\n",
        "\n",
        "    - ¿Cuál es la frecuencia de los registros (diaria, semanal, mensual, etc.)?\n",
        "\n",
        "- Calidad de los datos\n",
        "\n",
        "    - ¿Existen valores nulos en el dataset? ¿Cuántos? ¿Cómo se pueden tratar?\n",
        "\n",
        "    - ¿Hay datos raros, como cantidades negativas o inconsistencias? Genere tests de validación para identificar estos problemas.\n",
        "\n",
        "- Patrones de compra\n",
        "\n",
        "    - ¿Cuántos productos compra en promedio cada cliente semana a semana?\n",
        "\n",
        "    - ¿Cuántas transacciones ha realizado cada cliente?\n",
        "\n",
        "    - ¿Cuál es el periodo de recompra promedio de cada SKU?"
      ]
    },
    {
      "cell_type": "code",
      "execution_count": null,
      "metadata": {
        "id": "c9XUZyJt1CPb"
      },
      "outputs": [],
      "source": [
        "# Número de clientes únicos\n",
        "clientes_unicos = clientes_df['customer_id'].nunique()\n",
        "print(f\"Número de clientes únicos: {clientes_unicos}\")\n",
        "\n",
        "# Número de productos únicos\n",
        "productos_unicos = productos_df['product_id'].nunique()\n",
        "print(f\"Número de productos únicos: {productos_unicos}\")\n"
      ]
    },
    {
      "cell_type": "code",
      "execution_count": null,
      "metadata": {
        "id": "KSY7JQLu1Gih"
      },
      "outputs": [],
      "source": [
        "# Verificar el rango de fechas de las transacciones\n",
        "fecha_inicio = transacciones_df['purchase_date'].min()\n",
        "fecha_fin = transacciones_df['purchase_date'].max()\n",
        "print(f\"Periodo de las transacciones: {fecha_inicio} - {fecha_fin}\")\n",
        "\n",
        "# Determinar la frecuencia de los registros\n",
        "frecuencia_registros = transacciones_df['purchase_date'].diff().mode()[0]\n",
        "print(f\"Frecuencia de los registros: {frecuencia_registros}\")"
      ]
    },
    {
      "cell_type": "code",
      "execution_count": null,
      "metadata": {
        "id": "Hb9Ir88fuzT8"
      },
      "outputs": [],
      "source": [
        "# Verificar si existen valores nulos\n",
        "valores_nulos = transacciones_df.isnull().sum()\n",
        "print(f\"Valores nulos en transacciones_df:\\n{valores_nulos}\")\n",
        "valores_nulos_clientes = clientes_df.isnull().sum()\n",
        "valores_nulos_productos = productos_df.isnull().sum()\n",
        "print(f\"Valores nulos en clientes_df:\\n{valores_nulos_clientes}\")\n",
        "print(f\"Valores nulos en productos_df:\\n{valores_nulos_productos}\")"
      ]
    },
    {
      "cell_type": "markdown",
      "source": [
        "No hay valores nulos a tratar"
      ],
      "metadata": {
        "id": "kGQUQIJEk4Jb"
      }
    },
    {
      "cell_type": "code",
      "execution_count": null,
      "metadata": {
        "id": "t3U0rsWw1nRs"
      },
      "outputs": [],
      "source": [
        "# Número promedio de productos comprados por cliente por semana\n",
        "transacciones_df['week'] = transacciones_df['purchase_date'].dt.isocalendar().week\n",
        "productos_por_cliente = transacciones_df.groupby(['customer_id', 'week'])['product_id'].count().mean()\n",
        "print(f\"Promedio de productos comprados por cliente por semana: {productos_por_cliente}\")\n"
      ]
    },
    {
      "cell_type": "code",
      "execution_count": null,
      "metadata": {
        "id": "0DNdMm881qmE"
      },
      "outputs": [],
      "source": [
        "# Número de transacciones por cliente\n",
        "transacciones_por_cliente = transacciones_df.groupby('customer_id')['order_id'].nunique()\n",
        "print(f\"Promedio de transacciones por cliente: {transacciones_por_cliente.mean()}\")\n"
      ]
    },
    {
      "cell_type": "code",
      "execution_count": null,
      "metadata": {
        "id": "2nujjTZs1xXL"
      },
      "outputs": [],
      "source": [
        "# Periodo de recompra promedio por SKU\n",
        "# Calcular el tiempo entre compras de un mismo producto\n",
        "transacciones_df['purchase_date'] = pd.to_datetime(transacciones_df['purchase_date'])\n",
        "transacciones_df['next_purchase'] = transacciones_df.groupby('product_id')['purchase_date'].shift(-1)\n",
        "transacciones_df['days_between'] = (transacciones_df['next_purchase'] - transacciones_df['purchase_date']).dt.days\n",
        "recompra_promedio_sku = transacciones_df.groupby('product_id')['days_between'].mean()\n",
        "print(f\"Periodo de recompra promedio por SKU:\\n{recompra_promedio_sku.describe()}\")"
      ]
    },
    {
      "cell_type": "markdown",
      "metadata": {
        "id": "OHvHumINNTAS"
      },
      "source": [
        "Vemos que el promedio de recompra es negativo, esto nos muestra que los datos no están ordenados por fecha de compra, por ende los ordenaremos por fecha de compra para tener información útil\n"
      ]
    },
    {
      "cell_type": "code",
      "execution_count": null,
      "metadata": {
        "id": "SYQpDo1BNc4h"
      },
      "outputs": [],
      "source": [
        "# 1. Ordenar el DataFrame por product_id y purchase_date\n",
        "transacciones_df.sort_values(by=['product_id', 'purchase_date'], inplace=True)\n",
        "\n",
        "# 2. Calcular la fecha de la siguiente compra usando shift(-1)\n",
        "transacciones_df['next_purchase'] = transacciones_df.groupby('product_id')['purchase_date'].shift(-1)\n",
        "\n",
        "# 3. Calcular los días entre compras\n",
        "transacciones_df.dropna(subset=['next_purchase'], inplace=True)\n",
        "transacciones_df['days_between'] = (transacciones_df['next_purchase'] - transacciones_df['purchase_date']).dt.days\n",
        "\n",
        "# 4. Calcular el período de recompra promedio por SKU\n",
        "recompra_promedio_sku = transacciones_df.groupby('product_id')['days_between'].mean()\n",
        "\n",
        "# 5. Mostrar los resultados\n",
        "print(\"Periodo de recompra promedio por SKU:\\n\", recompra_promedio_sku.describe())"
      ]
    },
    {
      "cell_type": "markdown",
      "metadata": {
        "id": "oIXLrWNiWaAR"
      },
      "source": [
        "Con el orden, podemos ver que tenemos valores que hacen sentido. El promedio entre recompra es de 8 días. Pero también hay productos que se venden menos o más, para ello veamos como distribuye"
      ]
    },
    {
      "cell_type": "code",
      "execution_count": null,
      "metadata": {
        "id": "_cn_uSeAXmeU"
      },
      "outputs": [],
      "source": [
        "# Define los intervalos (bins) de 10 días. El último valor es el máximo más 10 para incluir todo.\n",
        "bins = range(0, int(transacciones_df['days_between'].max()) + 11, 10)\n",
        "\n",
        "# Crea etiquetas para cada intervalo, por ejemplo: '0-9 días', '10-19 días', etc.\n",
        "labels = [f'{i}-{i+9} días' for i in range(0, int(transacciones_df['days_between'].max()) + 1, 10)]\n",
        "\n",
        "# Usa la función pd.cut() para categorizar los datos\n",
        "intervalos_dias = pd.cut(transacciones_df['days_between'], bins=bins, right=False, labels=labels)\n",
        "\n",
        "# Cuenta la frecuencia de cada intervalo\n",
        "frecuencia_dias = intervalos_dias.value_counts().sort_index()\n",
        "\n",
        "# Convierte la serie en un DataFrame para un formato de tabla más claro\n",
        "tabla_frecuencias = frecuencia_dias.reset_index()\n",
        "tabla_frecuencias.columns = ['Intervalo (Días)', 'Frecuencia']\n",
        "\n",
        "# Imprime la tabla\n",
        "print(tabla_frecuencias)"
      ]
    },
    {
      "cell_type": "markdown",
      "metadata": {
        "id": "ucsI1pGgYcmA"
      },
      "source": [
        "Entre los primeros 10 días se concentra la mayoría de ventas"
      ]
    },
    {
      "cell_type": "code",
      "execution_count": null,
      "metadata": {
        "id": "9GICKLqjYgfO"
      },
      "outputs": [],
      "source": [
        "# Define los intervalos (bins) de 1 día, solo para los primeros 10 días\n",
        "bins = range(0, 11, 1)\n",
        "\n",
        "# Crea las etiquetas para cada intervalo, por ejemplo: '0-1 días', '1-2 días', etc.\n",
        "labels = [f'{i}-{i+1} días' for i in range(0, 10)]\n",
        "\n",
        "# Filtra el DataFrame para incluir solo los datos de los primeros 10 días\n",
        "transacciones_primeros_10_dias = transacciones_df[transacciones_df['days_between'] <= 10]\n",
        "\n",
        "# Usa la función pd.cut() para categorizar los datos filtrados en los intervalos definidos\n",
        "intervalos_dias = pd.cut(transacciones_primeros_10_dias['days_between'], bins=bins, right=False, labels=labels)\n",
        "\n",
        "# Cuenta la frecuencia de cada intervalo\n",
        "frecuencia_dias = intervalos_dias.value_counts().sort_index()\n",
        "\n",
        "# Convierte la serie en un DataFrame para un formato de tabla más claro\n",
        "tabla_frecuencias = frecuencia_dias.reset_index()\n",
        "tabla_frecuencias.columns = ['Intervalo (Días)', 'Frecuencia']\n",
        "\n",
        "# Imprime la tabla\n",
        "print(tabla_frecuencias)"
      ]
    },
    {
      "cell_type": "markdown",
      "metadata": {
        "id": "_IKbF013YpCV"
      },
      "source": [
        "Desmenusando aún más, es posible ver que la mayoría se venden entre 0-1 días, información que puede ser relevante para el análisis"
      ]
    },
    {
      "cell_type": "markdown",
      "metadata": {
        "id": "_16KNju2n5Ao"
      },
      "source": [
        "Veamos como se comporta la variable target"
      ]
    },
    {
      "cell_type": "code",
      "execution_count": null,
      "metadata": {
        "id": "l6Nw7cD2n2yV"
      },
      "outputs": [],
      "source": [
        "# Distribución temporal del target\n",
        "print(\"Distribución del target por semana:\")\n",
        "target_por_semana = df_final.groupby('year_week')['target'].mean()\n",
        "print(target_por_semana)\n",
        "\n",
        "# Análisis de clientes más activos\n",
        "clientes_activos = df_final.groupby('customer_id')['target'].sum().sort_values(ascending=False)\n",
        "print(f\"Top 10 clientes con más compras: {clientes_activos.head(10)}\")\n",
        "\n",
        "# Productos más populares\n",
        "productos_populares = df_final.groupby('product_id')['target'].sum().sort_values(ascending=False)\n",
        "print(f\"Top 10 productos más comprados: {productos_populares.head(10)}\")\n",
        "\n",
        "# Relación entre tipo de cliente y compras\n",
        "tipo_cliente_target = df_final.groupby('customer_type')['target'].mean()\n",
        "print(f\"Tasa de compra por tipo de cliente: {tipo_cliente_target}\")\n",
        "\n",
        "# Segmentación de productos vs target\n",
        "segmento_target = df_final.groupby('segment')['target'].mean()\n",
        "print(f\"Tasa de compra por segmento: {segmento_target}\")\n",
        "\n",
        "# Visualizaciones clave\n",
        "# Distribución del target por categorías importantes\n",
        "fig, axes = plt.subplots(2, 2, figsize=(15, 10))\n",
        "\n",
        "# Target por tipo de cliente\n",
        "df_final.groupby('customer_type')['target'].mean().plot(kind='bar', ax=axes[0,0], title='Tasa de Compra por Tipo de Cliente')\n",
        "\n",
        "# Target por segmento de producto\n",
        "df_final.groupby('segment')['target'].mean().plot(kind='bar', ax=axes[0,1], title='Tasa de Compra por Segmento')\n",
        "\n",
        "# Target por categoría\n",
        "df_final.groupby('category')['target'].mean().plot(kind='bar', ax=axes[1,0], title='Tasa de Compra por Categoría')\n",
        "\n",
        "# Evolución temporal\n",
        "target_por_semana.plot(ax=axes[1,1], title='Evolución Temporal de la Tasa de Compra')\n",
        "\n",
        "plt.tight_layout()\n",
        "plt.show()"
      ]
    },
    {
      "cell_type": "markdown",
      "metadata": {
        "id": "eq_A7U0wYEKc"
      },
      "source": [
        "El eda específico de la v targer muestra patrones claros en el comportamiento de compra según tipo de cliente, segmento y evolución temporal. En cuanto al tipo de cliente, los minimarkets presentan la tasa de compra más alta (11.5%), seguidos de mayoristas y tiendas de conveniencia, lo que sugiere que estos formatos realizan compras más seguido, por ende tienen una propensión a concretarlas. En cambio, abarrotes y canal frío muestran tasas bajas, indicando una menor frecuencia de compra.\n",
        "\n",
        "Por segmento, los clientes low y medium concentran las mayores tasas (5.9% y 5.3%, respectivamente), mientras que los premium y high registran menor participación, posiblemente debido a patrones de compra más selectivos o un menor volumen transaccional debido a la categoría premium. En la evolución temporal, se observa una estabilidad moderada en la tasa de compra durante el año, con un leve repunte hacia las semanas finales (semana 50 y 51), alcanzando un máximo de 5%, lo que podría asociarse a la estacionalidad de fin de año.\n",
        "\n",
        "Los top 10 clientes evidencian una concentración significativa, con el cliente principal acumulando 996 compras, lo que refleja un comportamiento donde pocos clientes explican una parte relevante de las ventas. De todas forma, los productos más comprados muestran alta concentración en algunos ítems, destacando el producto 1370 con más de 28.000 compras. Así, el EDA sugiere que la demanda se concentra tanto en ciertos tipos de clientes como en productos específicos, mientras que la tasa de compra varía según el formato comercial y la estacionalidad temporal."
      ]
    },
    {
      "cell_type": "markdown",
      "metadata": {
        "id": "09Gz7wkuuzT8"
      },
      "source": [
        "## 📌 Holdout [0.25 puntos]\n",
        "\n",
        "Para evaluar correctamente el modelo y garantizar su capacidad de generalización, se deben dividir los datos en tres conjuntos:\n",
        "- `Entrenamiento` : Para ajustar los parámetros.\n",
        "- `Validación`: Para optimizar hiperparámetros y seleccionar el mejor modelo.\n",
        "- `Prueba` : Para evaluar el rendimiento final en datos no vistos.\n",
        "\n",
        "👀 **Hint**: *Recuerde que los datos tienen una temporalidad que debe considerarse al momento de separarlos, para evitar fugas de información. Es importante justificar la estrategia de partición elegida y visualizar la distribución temporal de los conjuntos generados*"
      ]
    },
    {
      "cell_type": "markdown",
      "metadata": {
        "id": "0-Tdu-bXrtFg"
      },
      "source": [
        "Lo hacemos con df_final para evitar data leakege"
      ]
    },
    {
      "cell_type": "code",
      "execution_count": null,
      "metadata": {
        "id": "uQQ5CNPO3lqc"
      },
      "outputs": [],
      "source": [
        "# Ordenar por year_week\n",
        "df_final_sorted = df_final.sort_values(by='year_week').reset_index(drop=True)\n",
        "\n",
        "# Partición temporal 80-10-10\n",
        "train_size = int(0.8 * len(df_final_sorted))\n",
        "val_size = int(0.1 * len(df_final_sorted))\n",
        "\n",
        "train_df = df_final_sorted.iloc[:train_size].copy()\n",
        "val_df = df_final_sorted.iloc[train_size:train_size + val_size].copy()\n",
        "test_df = df_final_sorted.iloc[train_size + val_size:].copy()\n",
        "\n",
        "# Agregar etiquetas\n",
        "train_df['conjunto'] = 'Entrenamiento'\n",
        "val_df['conjunto'] = 'Validación'\n",
        "test_df['conjunto'] = 'Prueba'\n",
        "\n",
        "print(f\"Train: {len(train_df)} registros ({len(train_df)/len(df_final_sorted)*100:.1f}%)\")\n",
        "print(f\"Val: {len(val_df)} registros ({len(val_df)/len(df_final_sorted)*100:.1f}%)\")\n",
        "print(f\"Test: {len(test_df)} registros ({len(test_df)/len(df_final_sorted)*100:.1f}%)\")\n",
        "\n",
        "# Verificar distribución del target\n",
        "print(\"\\n📊 Distribución del Target:\")\n",
        "print(\"Train:\\n\", train_df['target'].value_counts(normalize=True))\n",
        "print(\"\\nVal:\\n\", val_df['target'].value_counts(normalize=True))\n",
        "print(\"\\nTest:\\n\", test_df['target'].value_counts(normalize=True))\n",
        "\n",
        "# Visualización por year_week\n",
        "df_concatenado = pd.concat([train_df, val_df, test_df])\n",
        "\n",
        "df_semanal = df_concatenado.groupby(['year_week', 'conjunto']).size().reset_index(name='count')\n",
        "\n",
        "plt.figure(figsize=(15, 8))\n",
        "sns.barplot(\n",
        "    data=df_semanal,\n",
        "    x='year_week',\n",
        "    y='count',\n",
        "    hue='conjunto',\n",
        "    dodge=False,\n",
        "    palette={'Entrenamiento': 'green', 'Validación': 'orange', 'Prueba': 'red'}\n",
        ")\n",
        "\n",
        "plt.title('Distribución de Registros por Semana y Conjunto', fontsize=18)\n",
        "plt.xlabel('Año-Semana', fontsize=14)\n",
        "plt.ylabel('Cantidad de Registros', fontsize=14)\n",
        "plt.xticks(rotation=45)\n",
        "plt.legend(title='Conjunto')\n",
        "plt.tight_layout()\n",
        "plt.show()"
      ]
    },
    {
      "cell_type": "markdown",
      "source": [
        "De esta forma se deja en evidencia que se separa el dataset tal como se había soliictado en las instrucciones."
      ],
      "metadata": {
        "id": "7S5iR6EebuOO"
      }
    },
    {
      "cell_type": "markdown",
      "metadata": {
        "id": "m3B8y2w5uzT9"
      },
      "source": [
        "## 📌 Feature Engineering [0.5 puntos]\n",
        "\n",
        "<center>\n",
        "<img src=\"https://i.imgur.com/CmXZSSC.gif\" width=\"300\" height=\"200\">"
      ]
    },
    {
      "cell_type": "markdown",
      "metadata": {
        "id": "vcKcm1gsuzT9"
      },
      "source": [
        "En esta sección, se deben construir pipelines para automatizar el preprocesamiento de los datos, lo cual garantizará que el flujo de trabajo sea reproducible y eficiente para esta entrega y las futuras. El objetivo es aplicar una serie de transformaciones en un orden definido para asegurar que los datos estén listos para los modelos a entrenar. El pipeline final debe incluir las técnicas de pre-procesamiento que se deben aplicar a los distintos datos (según lo que consideren necesario para el problema). Por ejemplo:\n",
        "\n",
        "- **Imputación de valores nulos**: Manejo de datos faltantes mediante estrategias adecuadas (media, mediana, moda, interpolación, etc.).\n",
        "\n",
        "- **Transformaciones personalizadas**: Uso de ColumnTransformer para aplicar diferentes transformaciones a columnas específicas.\n",
        "\n",
        "- **Codificación de variables categóricas**: Convertir datos categóricos a un formato numérico adecuado (One-Hot Encoding, Label Encoding, etc.).\n",
        "\n",
        "- **Discretización de variables**: Conversión de variables numéricas continuas en categorías si son relevantes para el desempeño del modelo a entrenar.\n",
        "\n",
        "- **Estandarización o normalización** : Ajustar la escala de los datos para mejorar el rendimiento de los algoritmos sensibles a la magnitud de las variables.\n",
        "\n",
        "- **Eliminación o transformación de valores atípicos**: Identificar y tratar con datos outliers para mejorar la robustez del modelo.\n",
        "\n",
        "- **Nuevas características** : Creación de variables adicionales que puedan aportar información relevante al modelo.\n",
        "\n",
        "Cada una de estas transformaciones debe ser justificada en función de su relevancia para el problema y los datos, y es importante evaluar su impacto en el rendimiento del modelo. Además, el pipeline debe ser flexible y modular para poder probar diferentes configuraciones de preprocesamiento."
      ]
    },
    {
      "cell_type": "code",
      "execution_count": null,
      "metadata": {
        "id": "gGG7nsgDuzT9"
      },
      "outputs": [],
      "source": [
        "## Transformadores\n",
        "\n",
        "class OutlierCapper(BaseEstimator, TransformerMixin):\n",
        "    \"\"\"\n",
        "    Trata valores atípicos usando capping basado en percentiles.\n",
        "    Más robusto que eliminar outliers, mantiene todos los datos.\n",
        "    \"\"\"\n",
        "    def __init__(self, lower_percentile=1, upper_percentile=99):\n",
        "        self.lower_percentile = lower_percentile\n",
        "        self.upper_percentile = upper_percentile\n",
        "        self.lower_cap = None\n",
        "        self.upper_cap = None\n",
        "        self.n_features_in_ = None # Initialize n_features_in_\n",
        "\n",
        "    def fit(self, X, y=None):\n",
        "        self.lower_cap = np.percentile(X, self.lower_percentile, axis=0)\n",
        "        self.upper_cap = np.percentile(X, self.upper_percentile, axis=0)\n",
        "        self.n_features_in_ = X.shape[1] # Set n_features_in_\n",
        "        return self\n",
        "\n",
        "    def transform(self, X):\n",
        "        X_capped = X.copy()\n",
        "        for i in range(X.shape[1]):\n",
        "            X_capped[:, i] = np.clip(X_capped[:, i], self.lower_cap[i], self.upper_cap[i])\n",
        "        return X_capped\n",
        "\n",
        "    # Add get_feature_names_out method\n",
        "    def get_feature_names_out(self, input_features=None):\n",
        "        if input_features is None:\n",
        "            if self.n_features_in_ is None:\n",
        "                raise RuntimeError(\"This transformer has not been fitted yet.\")\n",
        "            # Default feature names if input_features is None\n",
        "            return np.asarray([f\"x{i}\" for i in range(self.n_features_in_)], dtype=object)\n",
        "        else:\n",
        "            return np.asarray(input_features, dtype=object)\n",
        "\n",
        "\n",
        "\n",
        "class LogTransformer(BaseEstimator, TransformerMixin):\n",
        "    \"\"\"\n",
        "    Aplica transformación logarítmica a variables con distribución sesgada.\n",
        "    Útil para normalizar distribuciones y reducir el efecto de outliers.\n",
        "    \"\"\"\n",
        "    def __init__(self, offset=1):\n",
        "        self.offset = offset  # Para evitar log(0)\n",
        "        self.n_features_in_ = None # Initialize n_features_in_\n",
        "\n",
        "\n",
        "    def fit(self, X, y=None):\n",
        "        self.n_features_in_ = X.shape[1] # Set n_features_in_\n",
        "        return self\n",
        "\n",
        "    def transform(self, X):\n",
        "        return np.log(X + self.offset)\n",
        "\n",
        "    # Add get_feature_names_out method\n",
        "    def get_feature_names_out(self, input_features=None):\n",
        "        if input_features is None:\n",
        "            if self.n_features_in_ is None:\n",
        "                raise RuntimeError(\"This transformer has not been fitted yet.\")\n",
        "            # Default feature names if input_features is None\n",
        "            return np.asarray([f\"x{i}\" for i in range(self.n_features_in_)], dtype=object)\n",
        "        else:\n",
        "            return np.asarray(input_features, dtype=object)\n",
        "\n",
        "\n",
        "## Identificacion de columnas\n",
        "\n",
        "# Variables categóricas\n",
        "categorical_cols = [\n",
        "    'region_id',\n",
        "    'zone_id',\n",
        "    'customer_type',\n",
        "    'brand',\n",
        "    'category',\n",
        "    'sub_category',\n",
        "    'segment',\n",
        "    'package'\n",
        "]\n",
        "\n",
        "# Variables numéricas continuas estándar\n",
        "numeric_standard_cols = [\n",
        "    'Y',\n",
        "    'X',\n",
        "    'size'\n",
        "]\n",
        "\n",
        "# Variables numéricas que se benefician de transformación logarítmica\n",
        "# (distribuciones sesgadas con valores altos)\n",
        "numeric_log_cols = [\n",
        "    'num_deliver_per_week',\n",
        "    'num_visit_per_week'\n",
        "]\n",
        "\n",
        "\n",
        "## Justificacion\n",
        "\n",
        "\n",
        "\"\"\"\n",
        "JUSTIFICACIÓN DE CADA PASO:\n",
        "\n",
        "1. IMPUTACIÓN (SimpleImputer):\n",
        "   - Mediana para numéricas: Robusta ante outliers\n",
        "   - Moda para categóricas: Mantiene la distribución original\n",
        "   - Crítico: df_final no tiene nulos, pero el pipeline debe ser robusto\n",
        "\n",
        "2. TRATAMIENTO DE OUTLIERS (OutlierCapper):\n",
        "   - Percentiles 1-99: Mantiene 98% de datos, reduce extremos\n",
        "   - Alternativa a eliminación: No perdemos información\n",
        "   - Importante para: num_deliver_per_week, num_visit_per_week, size\n",
        "\n",
        "3. TRANSFORMACIÓN LOGARÍTMICA (LogTransformer):\n",
        "   - Para variables con distribución sesgada\n",
        "   - Reduce impacto de valores extremos\n",
        "   - Mejora rendimiento en modelos lineales\n",
        "\n",
        "4. ESCALADO (RobustScaler):\n",
        "   - RobustScaler vs StandardScaler: Usa mediana y IQR (más robusto)\n",
        "   - Crítico para: modelos sensibles a escala (SVM, KNN, Regresión)\n",
        "   - No necesario para: árboles de decisión, random forest\n",
        "\n",
        "5. CODIFICACIÓN CATEGÓRICA (OneHotEncoder):\n",
        "   - One-Hot: Para variables nominales sin orden (brand, category, etc.)\n",
        "   - handle_unknown='ignore': Robustez ante nuevas categorías en test\n",
        "   - Alternativa: Target Encoding (si hay muchas categorías únicas)\n",
        "\n",
        "6. COLUMNAS PASSTHROUGH:\n",
        "   - customer_id, product_id: Identificadores (útiles para análisis post-modelo)\n",
        "   - year_week: Feature temporal importante\n",
        "   - target: NUNCA debe ser transformada en el pipeline\n",
        "\"\"\"\n",
        "\n",
        "\n",
        "# Pipelines por tipo de variable\n",
        "\n",
        "# Pipeline para variables numéricas estándar\n",
        "numeric_pipeline = Pipeline(steps=[\n",
        "    ('imputer', SimpleImputer(strategy='median')),\n",
        "    ('outlier_capper', OutlierCapper(lower_percentile=1, upper_percentile=99)),\n",
        "    ('scaler', RobustScaler())  # Más robusto que StandardScaler\n",
        "])\n",
        "\n",
        "# Pipeline para variables que necesitan transformación logarítmica\n",
        "log_numeric_pipeline = Pipeline(steps=[\n",
        "    ('imputer', SimpleImputer(strategy='median')),\n",
        "    ('log_transform', LogTransformer(offset=1)),\n",
        "    ('outlier_capper', OutlierCapper(lower_percentile=1, upper_percentile=99)),\n",
        "    ('scaler', RobustScaler())\n",
        "])\n",
        "\n",
        "# Pipeline para variables categóricas\n",
        "categorical_pipeline = Pipeline(steps=[\n",
        "    ('imputer', SimpleImputer(strategy='most_frequent')),\n",
        "    ('onehot', OneHotEncoder(\n",
        "        drop='first',           # Evita multicolinealidad\n",
        "        handle_unknown='ignore', # Maneja categorías nuevas\n",
        "        sparse_output=False      # Retorna array denso\n",
        "    ))\n",
        "])\n",
        "\n",
        "## Colum transformer\n",
        "preprocessor = ColumnTransformer(\n",
        "    transformers=[\n",
        "        ('num_standard', numeric_pipeline, numeric_standard_cols),\n",
        "        ('num_log', log_numeric_pipeline, numeric_log_cols),\n",
        "        ('cat', categorical_pipeline, categorical_cols)\n",
        "    ],\n",
        "    remainder='drop',  # Elimina year_week, customer_id, product_id, target\n",
        "    verbose_feature_names_out=False\n",
        ")\n",
        "\n",
        "# Pipeline final completo\n",
        "feature_engineering_pipeline = Pipeline(steps=[\n",
        "    ('preprocessor', preprocessor)\n",
        "])\n",
        "\n",
        "\n",
        "## Aplicación del pipeline\n",
        "\n",
        "# Separar features y target\n",
        "X_train = train_df.drop(columns=['target'])\n",
        "y_train = train_df['target']\n",
        "\n",
        "X_val = val_df.drop(columns=['target'])\n",
        "y_val = val_df['target']\n",
        "\n",
        "X_test = test_df.drop(columns=['target'])\n",
        "y_test = test_df['target']\n",
        "\n",
        "# Ajustar el pipeline solo con datos de entrenamiento\n",
        "feature_engineering_pipeline.fit(X_train)\n",
        "\n",
        "# Transformar todos los conjuntos\n",
        "X_train_transformed = feature_engineering_pipeline.transform(X_train)\n",
        "X_val_transformed = feature_engineering_pipeline.transform(X_val)\n",
        "X_test_transformed = feature_engineering_pipeline.transform(X_test)\n",
        "\n",
        "print(\" Pipeline aplicado exitosamente!\")\n",
        "print(f\"Shape original: {X_train.shape}\")\n",
        "print(f\"Shape transformado: {X_train_transformed.shape}\")\n",
        "print(f\"\\nCantidad de features después de One-Hot Encoding: {X_train_transformed.shape[1]}\")\n",
        "\n",
        "# Obtener nombres de features transformadas\n",
        "\n",
        "feature_names = feature_engineering_pipeline.named_steps['preprocessor'].get_feature_names_out()\n",
        "print(f\"\\n Primeras 20 features transformadas:\")\n",
        "print(feature_names[:20])\n",
        "\n",
        "# Convertir a DataFrame para mejor visualización (opcional)\n",
        "X_train_df = pd.DataFrame(X_train_transformed, columns=feature_names)\n",
        "X_val_df = pd.DataFrame(X_val_transformed, columns=feature_names)\n",
        "X_test_df = pd.DataFrame(X_test_transformed, columns=feature_names)\n",
        "\n",
        "print(\"\\n DataFrames transformados creados\")\n",
        "print(X_train_df.head())\n",
        "\n",
        "# Verificación de calidad\n",
        "\n",
        "print(\"\\n Verificación de calidad del pipeline:\")\n",
        "print(f\"- Valores nulos en train: {pd.DataFrame(X_train_transformed).isnull().sum().sum()}\")\n",
        "print(f\"- Valores nulos en val: {pd.DataFrame(X_val_transformed).isnull().sum().sum()}\")\n",
        "print(f\"- Valores nulos en test: {pd.DataFrame(X_test_transformed).isnull().sum().sum()}\")\n",
        "print(f\"- Valores infinitos en train: {np.isinf(X_train_transformed).sum()}\")\n",
        "\n",
        "# Guardar el pipeline para uso futuro\n",
        "joblib.dump(feature_engineering_pipeline, 'feature_engineering_pipeline.pkl')\n",
        "print(\"\\n Pipeline guardado como 'feature_engineering_pipeline.pkl'\")"
      ]
    },
    {
      "cell_type": "markdown",
      "metadata": {
        "id": "2nPnvygSuzT9"
      },
      "source": [
        "## 📌 Baseline [0.25 puntos]\n",
        "\n",
        "<center>\n",
        "<img src=\"https://media1.giphy.com/media/v1.Y2lkPTc5MGI3NjExN3lzeGFqZmU3NzJrZHllNjRmaHVzczJpZ29rdHdlMzVpZnQwNXo1diZlcD12MV9pbnRlcm5hbF9naWZfYnlfaWQmY3Q9Zw/qAtZM2gvjWhPjmclZE/giphy.gif\" width=\"300\" height=\"200\">"
      ]
    },
    {
      "cell_type": "markdown",
      "metadata": {
        "id": "Egx3W47CuzT-"
      },
      "source": [
        "En esta sección se debe construir el modelo más sencillo posible que pueda resolver el problema planteado, conocido como **Modelo baseline**. Su propósito es servir como referencia para comparar el rendimiento de los modelos más avanzados desarrollados en etapas posteriores.  \n",
        "\n",
        "Pasos requeridos:  \n",
        "- Implemente, entrene y evalúe un modelo básico utilizando un pipeline.  \n",
        "- Asegúrese de incluir en el pipeline las transformaciones del preprocesamiento realizadas previamente junto con un clasificador básico.  \n",
        "- Evalúe el modelo y presente el informe de métricas utilizando **`classification_report`**.  \n",
        "\n",
        "Documente claramente cómo se creó el modelo, las decisiones tomadas y los resultados obtenidos. Este modelo será la base comparativa en las secciones posteriores."
      ]
    },
    {
      "cell_type": "code",
      "execution_count": null,
      "metadata": {
        "id": "cEQ_YD8it36s"
      },
      "outputs": [],
      "source": [
        "# 1. Define the Baseline Model (DummyClassifier)\n",
        "baseline_model = DummyClassifier(strategy=\"most_frequent\", random_state=42)\n",
        "\n",
        "baseline_pipeline = Pipeline(steps=[\n",
        "    ('preprocessor', feature_engineering_pipeline.named_steps['preprocessor']),\n",
        "    ('classifier', baseline_model)\n",
        "])\n",
        "\n",
        "\n",
        "# 2. Separar x e y\n",
        "X_train = train_df.drop(columns=['target', 'conjunto'])\n",
        "y_train = train_df['target']\n",
        "\n",
        "X_val = val_df.drop(columns=['target', 'conjunto'])\n",
        "y_val = val_df['target']\n",
        "\n",
        "X_test = test_df.drop(columns=['target', 'conjunto'])\n",
        "y_test = test_df['target']\n",
        "\n",
        "\n",
        "# 4. entrenar el modelo\n",
        "\n",
        "baseline_pipeline.fit(X_train, y_train)\n",
        "\n",
        "\n",
        "# 5. Evaluar\n",
        "\n",
        "print(\"--- Baseline Model Evaluation ---\")\n",
        "\n",
        "# evaluar en training set\n",
        "y_pred_train = baseline_pipeline.predict(X_train)\n",
        "print(\"\\nClassification Report (Training Set):\")\n",
        "\n",
        "train_report = classification_report(y_train, y_pred_train)\n",
        "print(train_report)\n",
        "cm_train = confusion_matrix(y_train, y_pred_train)\n",
        "disp_train = ConfusionMatrixDisplay(confusion_matrix=cm_train, display_labels=baseline_pipeline.classes_)\n",
        "disp_train.plot()\n",
        "plt.title('Confusion Matrix (Training Set)')\n",
        "plt.show()\n",
        "\n",
        "\n",
        "# Evaluar el val set\n",
        "y_pred_val = baseline_pipeline.predict(X_val)\n",
        "print(\"\\nClassification Report (Validation Set):\")\n",
        "\n",
        "val_report = classification_report(y_val, y_pred_val)\n",
        "print(val_report)\n",
        "cm_val = confusion_matrix(y_val, y_pred_val)\n",
        "disp_val = ConfusionMatrixDisplay(confusion_matrix=cm_val, display_labels=baseline_pipeline.classes_)\n",
        "disp_val.plot()\n",
        "plt.title('Confusion Matrix (Validation Set)')\n",
        "plt.show()\n",
        "\n",
        "\n",
        "# para train set evaluar\n",
        "y_pred_test = baseline_pipeline.predict(X_test)\n",
        "print(\"\\nClassification Report (Test Set):\")\n",
        "\n",
        "test_report = classification_report(y_test, y_pred_test)\n",
        "print(test_report)\n",
        "cm_test = confusion_matrix(y_test, y_pred_test)\n",
        "disp_test = ConfusionMatrixDisplay(confusion_matrix=cm_test, display_labels=baseline_pipeline.classes_)\n",
        "disp_test.plot()\n",
        "plt.title('Confusion Matrix (Test Set)')\n",
        "plt.show()\n",
        "\n",
        "print(\"\\n✅ Baseline Model Trained and Evaluated.\")\n",
        "print(\"Using DummyClassifier with 'most_frequent' strategy.\")\n",
        "print(\"This baseline predicts the majority class (which is 0 - no purchase).\")\n",
        "print(\"It serves as a basic reference point for model performance.\")"
      ]
    },
    {
      "cell_type": "markdown",
      "metadata": {
        "id": "eucaBydrxX6w"
      },
      "source": [
        "Acá podemos ver que el modelo es muy simple, de hecho luego de indagar en el modelo, es posible ver que la razón es que este es un modelo extremadamente sencillo que analiza y entiende la clase mayoritaria y tira todo a esa clase, por eso en la clase 0 tenemos métricas tan buenas pero en la clase 1 son métricas horribles."
      ]
    },
    {
      "cell_type": "markdown",
      "metadata": {
        "id": "GJvZ5S1muzT_"
      },
      "source": [
        "## 📌 Elección de modelo [0.75 puntos]\n",
        "\n",
        "En esta sección deben escoger un modelo que se adapte a las necesidades del negocio. Para esto, pruebe al menos 3 modelos y desarrolle los siguientes aspectos para cada uno:\n",
        "\n",
        "- **Estructura y diferencias entre los modelos**: Explicar brevemente cada uno y sus hipérparámetros de mayor importancia.\n",
        "- **Clasificadores recomendados**:\n",
        "  - `LogisticRegression`\n",
        "  - `KNeighborsClassifier`\n",
        "  - `DecisionTreeClassifier`\n",
        "  - `SVC`\n",
        "  - `RandomForestClassifier`\n",
        "  - `LightGBMClassifier` (del paquete `lightgbm`)\n",
        "  - `XGBClassifier` (del paquete `xgboost`)\n",
        "  - Otro (según lo que se estime adecuado)\n",
        "  \n",
        "- **Evaluación de resultados**: Se utilizará el **`classification_report`** para evaluar el rendimiento de cada modelo, destacando métricas clave como precisión, recall y F1-score. **Importante: No optimicen hiperparámetros, la idea es hacer una selección rápida del modelo.**\n",
        "\n",
        "**Nota:** Pueden ocupar mas de 1 **instancia** de modelo para resolver el problema (e.g: (modelo_1, grupo_1), (modelo_2, grupo_2), ...).\n",
        "  \n",
        "A continuación, se deben responder las siguientes preguntas para evaluar el rendimiento de los modelos entrenados:\n",
        "\n",
        "1. ¿Hay algún clasificador que supere al modelo baseline?  \n",
        "2. ¿Cuál es el mejor clasificador entrenado y por qué?  \n",
        "3. ¿Qué factores hacen que el mejor clasificador sea superior a los otros?  \n",
        "4. En términos de `tiempo de entrenamiento`, ¿Qué modelo considera más adecuado para experimentar con grillas de optimización?"
      ]
    },
    {
      "cell_type": "code",
      "execution_count": null,
      "metadata": {
        "id": "4JS5b3adNZGm"
      },
      "outputs": [],
      "source": [
        "\n",
        "warnings.filterwarnings(\"ignore\", category=UserWarning, module=\"sklearn.metrics\")\n",
        "\n",
        "# === usamos preprocesado de antes ===\n",
        "\n",
        "\n",
        "# === balanceo ===\n",
        "class_weights = compute_class_weight('balanced', classes=np.unique(y_train), y=y_train)\n",
        "class_weight_dict = dict(zip(np.unique(y_train), class_weights))\n",
        "print(\"Calculated Class Weights:\", class_weight_dict)\n",
        "\n",
        "# === Define models ===\n",
        "models = {\n",
        "    \"LightGBM\": LGBMClassifier(\n",
        "        random_state=42,\n",
        "        n_estimators=100,\n",
        "        class_weight='balanced'\n",
        "    ),\n",
        "    \"Logistic Regression\": LogisticRegression(\n",
        "        random_state=42,\n",
        "        solver='liblinear',\n",
        "        class_weight='balanced'\n",
        "    ),\n",
        "    \"Decision Tree\": DecisionTreeClassifier(\n",
        "        random_state=42,\n",
        "        class_weight='balanced'\n",
        "    )\n",
        "}\n",
        "\n",
        "# === Separar x e y===\n",
        "X_train = train_df.drop(columns=['target', 'conjunto'])\n",
        "y_train = train_df['target']\n",
        "\n",
        "X_val = val_df.drop(columns=['target', 'conjunto'])\n",
        "y_val = val_df['target']\n",
        "\n",
        "X_test = test_df.drop(columns=['target', 'conjunto'])\n",
        "y_test = test_df['target']\n",
        "\n",
        "## === entrenar y evaluar modelos ===\n",
        "for model_name, model in models.items():\n",
        "    print(f\"\\n--- Training and evaluating {model_name} ---\")\n",
        "\n",
        "    # pipeline\n",
        "    pipeline = Pipeline(steps=[\n",
        "        ('preprocessor', feature_engineering_pipeline.named_steps['preprocessor']),\n",
        "        ('classifier', model)\n",
        "    ])\n",
        "\n",
        "    # entrenar modelo\n",
        "    if model_name == \"LightGBM\":\n",
        "        #LightGBM\n",
        "        pipeline.fit(\n",
        "            X_train, y_train,\n",
        "            classifier__eval_set=[(pipeline.named_steps['preprocessor'].transform(X_val), y_val)],\n",
        "            classifier__callbacks=[early_stopping(stopping_rounds=10)]\n",
        "        )\n",
        "    else:\n",
        "        pipeline.fit(X_train, y_train)\n",
        "\n",
        "    # === Evaluar modelo ===\n",
        "    print(f\"\\nEvaluation for {model_name}:\")\n",
        "\n",
        "    # entrenar\n",
        "    y_pred_train = pipeline.predict(X_train)\n",
        "    print(\"\\nClassification Report (Training Set):\")\n",
        "    print(classification_report(y_train, y_pred_train))\n",
        "\n",
        "    # Validar\n",
        "    y_pred_val = pipeline.predict(X_val)\n",
        "    print(\"\\nClassification Report (Validation Set):\")\n",
        "    print(classification_report(y_val, y_pred_val))\n",
        "\n",
        "    # Testeo\n",
        "    y_pred_test = pipeline.predict(X_test)\n",
        "    print(\"\\nClassification Report (Test Set):\")\n",
        "    print(classification_report(y_test, y_pred_test))\n",
        "\n",
        "    print(\"-\" * 60)\n",
        "\n",
        "print(\"\\n Model selection evaluation complete. Review the classification reports above.\")\n"
      ]
    },
    {
      "cell_type": "markdown",
      "metadata": {
        "id": "VocMMQe3PufI"
      },
      "source": [
        "Sí, los clasificadores entrenados superan al modelo baseline. Mientras el baseline tenía un recall de 0.00 para la clase minoritaria y un f1-score nulo, los modelos entrenados lograron detectar correctamente una proporción significativa de casos positivos, mejorando notablemente el desempeño en la clase minoritaria sin sacrificar demasiado la precisión de la clase mayoritaria. En otras palabras, ahora tenemos modelos que no arrojan al azar\n",
        "\n",
        "\n",
        "El mejor clasificador entrenado es el Decision Tree. Su desempeño en el conjunto de test muestra un f1-score macro promedio más alto (0.60) y un recall elevado para la clase positiva (0.86), lo que indica que captura mejor los verdaderos positivos que LightGBM y Logistic Regression, equilibrando precisión y sensibilidad de manera más efectiva.\n",
        "\n",
        "La superioridad del Decision Tree se debe a su capacidad para capturar relaciones no lineales y efectos de interacción entre variables, algo que modelos lineales como la regresión logística no pueden. Además, su estructura jerárquica le permite enfocarse en patrones específicos de la clase minoritaria, y los pesos de clase ayudan a mitigar el desbalance, aumentando su capacidad de generalización en datos complejos.\n",
        "\n",
        "En términos de tiempo de entrenamiento, la regresión logística es el modelo más adecuado para experimentar con grillas de optimización. Es rápida de entrenar y permite explorar múltiples combinaciones de hiperparámetros sin un costo computacional elevado, a diferencia de LightGBM o Decision Tree, que requieren más tiempo para entrenar y ajustar con muchas configuraciones."
      ]
    },
    {
      "cell_type": "markdown",
      "metadata": {
        "id": "N8QWM2DSuzT_"
      },
      "source": [
        "## 📌 Optimización de Hiperparámetros [1.0 puntos]\n",
        "\n",
        "<center>\n",
        "<img src=\"https://media1.giphy.com/media/v1.Y2lkPTc5MGI3NjExcXJkNzdhYjlneHplaGpsbnVkdzh5dnY3Y2VyaTIzamszdGR1czJ2diZlcD12MV9pbnRlcm5hbF9naWZfYnlfaWQmY3Q9Zw/2rqEdFfkMzXmo/giphy.gif\" width=\"300\" height=\"200\">"
      ]
    },
    {
      "cell_type": "markdown",
      "metadata": {
        "id": "JkE0-twPuzT_"
      },
      "source": [
        "A partir de su análisis anterior, se debe proceder a optimizar el rendimiento del modelo seleccionado mediante la optimización de sus hiperparámetros. Para ello, se espera que implementen `Optuna` para optimizar no solo los hiperparámetros del modelo, sino también los de los preprocesadores utilizados (por ejemplo, OneHot Encoding, Scalers, etc.).\n",
        "\n",
        "Al desarrollar este proceso, deberán responder las siguientes preguntas clave como mínimo:\n",
        "\n",
        "- ¿Qué métrica decidieron optimizar y por qué?\n",
        "\n",
        "- ¿Qué hiperparámetro tuvo un mayor impacto en el rendimiento de su modelo?\n",
        "\n",
        "- ¿Cuánto mejoró el rendimiento del modelo después de la optimización de hiperparámetros?"
      ]
    },
    {
      "cell_type": "markdown",
      "metadata": {
        "id": "5ltRUNhoQMaa"
      },
      "source": [
        "Usaremos regresión logística ya que no hay tanta diferencia entre los modelos, pero si es clave que se demora menos"
      ]
    },
    {
      "cell_type": "code",
      "execution_count": null,
      "metadata": {
        "id": "Ki4EKMZFQk-D"
      },
      "outputs": [],
      "source": [
        "!pip install optuna"
      ]
    },
    {
      "cell_type": "code",
      "source": [
        "# === OPTIMIZACIÓN DE HIPERPARÁMETROS CON OPTUNA ===\n",
        "# Versión optimizada para Google Colab (bajo consumo de RAM)\n",
        "\n",
        "import optuna\n",
        "from sklearn.model_selection import cross_val_score, StratifiedKFold\n",
        "from sklearn.pipeline import Pipeline\n",
        "from sklearn.preprocessing import StandardScaler, MinMaxScaler, OneHotEncoder, RobustScaler\n",
        "from sklearn.compose import ColumnTransformer\n",
        "from sklearn.linear_model import LogisticRegression\n",
        "from sklearn.metrics import classification_report, f1_score\n",
        "import numpy as np\n",
        "import pandas as pd\n",
        "import gc  # Para liberación de memoria\n",
        "import warnings\n",
        "warnings.filterwarnings('ignore')\n",
        "\n",
        "print(\"🚀 OPTIMIZACIÓN DE HIPERPARÁMETROS CON OPTUNA\")\n",
        "print(\"=\" * 60)\n",
        "\n",
        "# === VERIFICACIÓN DE VARIABLES ===\n",
        "\n",
        "\n",
        "# LO DE ACÁ ABAJO SE DEBE ELIMINAR Y DEJAR SOLO 20000 DATOS\n",
        "\n",
        "try:\n",
        "    print(f\"train_df shape: {train_df.shape}\")\n",
        "    print(f\"val_df shape: {val_df.shape}\")\n",
        "    print(f\"test_df shape: {test_df.shape}\")\n",
        "\n",
        "    # Usar muestra más pequeña para optimización si es necesario\n",
        "    if len(train_df) > 20000:\n",
        "        print(f\"Dataset grande ({len(train_df)} registros)\")\n",
        "        print(\"Usando muestra estratificada de 15,000 registros para optimización\")\n",
        "        from sklearn.model_selection import train_test_split\n",
        "        train_sample, _ = train_test_split(\n",
        "            train_df,\n",
        "            test_size=1 - (15000/len(train_df)),\n",
        "            stratify=train_df['target'],\n",
        "            random_state=42\n",
        "        )\n",
        "    else:\n",
        "        train_sample = train_df.copy()\n",
        "\n",
        "    print(f\"Muestra para optimización: {len(train_sample)} registros\")\n",
        "\n",
        "except NameError as e:\n",
        "    print(f\"Error: {e}\")\n",
        "    print(\"Ejecuta primero las celdas de división de datos\")\n",
        "    raise\n",
        "\n",
        "# === PREPARAR DATOS PARA OPTIMIZACIÓN ===\n",
        "X_opt = train_sample.drop(columns=['target', 'conjunto'])\n",
        "y_opt = train_sample['target']\n",
        "\n",
        "# Variables para optimización de preprocesadores\n",
        "categorical_cols = ['region_id', 'zone_id', 'customer_type', 'brand', 'category', 'sub_category', 'segment', 'package']\n",
        "numeric_cols = ['Y', 'X', 'size', 'num_deliver_per_week', 'num_visit_per_week']\n",
        "\n",
        "print(f\" Features categóricas: {len(categorical_cols)}\")\n",
        "print(f\"Features numéricas: {len(numeric_cols)}\")\n",
        "\n",
        "# === FUNCIÓN OBJETIVO OPTIMIZADA ===\n",
        "def objective(trial):\n",
        "\n",
        "    # === HIPERPARÁMETROS DE PREPROCESAMIENTO ===\n",
        "\n",
        "    # Escalador para variables numéricas\n",
        "    scaler_type = trial.suggest_categorical('scaler', ['standard', 'minmax', 'robust'])\n",
        "    if scaler_type == 'standard':\n",
        "        scaler = StandardScaler()\n",
        "    elif scaler_type == 'minmax':\n",
        "        scaler = MinMaxScaler()\n",
        "    else:\n",
        "        scaler = RobustScaler()\n",
        "\n",
        "    # Codificador categórico\n",
        "    drop_first = trial.suggest_categorical('drop_first', [True, False])\n",
        "\n",
        "    # === HIPERPARÁMETROS DEL MODELO ===\n",
        "    C = trial.suggest_float('C', 0.01, 100.0, log=True)\n",
        "    penalty = trial.suggest_categorical('penalty', ['l1', 'l2'])\n",
        "    solver = 'liblinear' if penalty == 'l1' else 'lbfgs'\n",
        "    max_iter = trial.suggest_int('max_iter', 100, 500)\n",
        "\n",
        "    # === CREAR PIPELINE ===\n",
        "    preprocessor = ColumnTransformer([\n",
        "        ('num', scaler, numeric_cols),\n",
        "        ('cat', OneHotEncoder(drop='first' if drop_first else None,\n",
        "                             handle_unknown='ignore', sparse_output=False), categorical_cols)\n",
        "    ], remainder='drop')\n",
        "\n",
        "    model = LogisticRegression(\n",
        "        C=C, penalty=penalty, solver=solver, max_iter=max_iter,\n",
        "        class_weight='balanced', random_state=42\n",
        "    )\n",
        "\n",
        "    pipeline = Pipeline([\n",
        "        ('preprocessor', preprocessor),\n",
        "        ('classifier', model)\n",
        "    ])\n",
        "\n",
        "    # === VALIDACIÓN CRUZADA (REDUCIDA PARA AHORRAR RAM) ===\n",
        "    cv = StratifiedKFold(n_splits=3, shuffle=True, random_state=42)\n",
        "\n",
        "    try:\n",
        "        scores = cross_val_score(pipeline, X_opt, y_opt, cv=cv, scoring='f1', n_jobs=1)\n",
        "        score = scores.mean()\n",
        "\n",
        "        # Liberación de memoria\n",
        "        del pipeline, preprocessor, model\n",
        "        gc.collect()\n",
        "\n",
        "        return score\n",
        "    except Exception as e:\n",
        "        print(f\"Error en trial: {e}\")\n",
        "        return 0.0\n",
        "\n",
        "# === CONFIGURAR Y EJECUTAR OPTUNA ===\n",
        "print(\" CONFIGURANDO ESTUDIO OPTUNA\")\n",
        "\n",
        "# Configuración para bajo consumo de memoria\n",
        "optuna.logging.set_verbosity(optuna.logging.WARNING)\n",
        "study = optuna.create_study(\n",
        "    direction='maximize',\n",
        "    sampler=optuna.samplers.TPESampler(seed=42)\n",
        ")\n",
        "\n",
        "print(\"Iniciando optimización...\")\n",
        "print(\"Esto puede tomar varios minutos...\")\n",
        "\n",
        "# Ejecutar con menos trials para ahorrar RAM\n",
        "n_trials = 20  # Reducido de 50 a 20\n",
        "study.optimize(objective, n_trials=n_trials, show_progress_bar=True)\n",
        "\n",
        "# === RESULTADOS DE LA OPTIMIZACIÓN ===\n",
        "print(\"\\n\" + \"=\"*60)\n",
        "print(\"RESULTADOS DE LA OPTIMIZACIÓN\")\n",
        "print(\"=\"*60)\n",
        "\n",
        "print(\"🏆 MEJORES HIPERPARÁMETROS:\")\n",
        "for param, value in study.best_params.items():\n",
        "    print(f\"   {param}: {value}\")\n",
        "\n",
        "print(f\"Mejor F1-score (CV): {study.best_value:.4f}\")\n",
        "\n",
        "# === ENTRENAR MODELO FINAL ===\n",
        "print(\" ENTRENANDO MODELO FINAL CON MEJORES HIPERPARÁMETROS\")\n",
        "\n",
        "best_params = study.best_params\n",
        "\n",
        "# Configurar preprocesador optimizado\n",
        "if best_params['scaler'] == 'standard':\n",
        "    best_scaler = StandardScaler()\n",
        "elif best_params['scaler'] == 'minmax':\n",
        "    best_scaler = MinMaxScaler()\n",
        "else:\n",
        "    best_scaler = RobustScaler()\n",
        "\n",
        "best_preprocessor = ColumnTransformer([\n",
        "    ('num', best_scaler, numeric_cols),\n",
        "    ('cat', OneHotEncoder(drop='first' if best_params['drop_first'] else None,\n",
        "                         handle_unknown='ignore', sparse_output=False), categorical_cols)\n",
        "], remainder='drop')\n",
        "\n",
        "# Configurar modelo optimizado\n",
        "penalty = best_params['penalty']\n",
        "solver = 'liblinear' if penalty == 'l1' else 'lbfgs'\n",
        "\n",
        "best_model = Pipeline([\n",
        "    ('preprocessor', best_preprocessor),\n",
        "    ('classifier', LogisticRegression(\n",
        "        C=best_params['C'],\n",
        "        penalty=penalty,\n",
        "        solver=solver,\n",
        "        max_iter=best_params['max_iter'],\n",
        "        class_weight='balanced',\n",
        "        random_state=42\n",
        "    ))\n",
        "])\n",
        "\n",
        "# Entrenar con datos completos de entrenamiento\n",
        "X_train_full = train_df.drop(columns=['target', 'conjunto'])\n",
        "y_train_full = train_df['target']\n",
        "best_model.fit(X_train_full, y_train_full)\n",
        "\n",
        "# === EVALUACIÓN FINAL ===\n",
        "print(\" EVALUACIÓN DEL MODELO OPTIMIZADO\")\n",
        "print(\"=\"*50)\n",
        "\n",
        "# Preparar datos de evaluación\n",
        "X_val_eval = val_df.drop(columns=['target', 'conjunto'])\n",
        "y_val_eval = val_df['target']\n",
        "X_test_eval = test_df.drop(columns=['target', 'conjunto'])\n",
        "y_test_eval = test_df['target']\n",
        "\n",
        "# Evaluar en validación\n",
        "y_pred_val = best_model.predict(X_val_eval)\n",
        "f1_val = f1_score(y_val_eval, y_pred_val)\n",
        "\n",
        "# Evaluar en test\n",
        "y_pred_test = best_model.predict(X_test_eval)\n",
        "f1_test = f1_score(y_test_eval, y_pred_test)\n",
        "\n",
        "print(f\"F1-Score Validación: {f1_val:.4f}\")\n",
        "print(f\"F1-Score Test: {f1_test:.4f}\")\n",
        "\n",
        "print(\" REPORTE DETALLADO (TEST):\")\n",
        "print(classification_report(y_test_eval, y_pred_test))\n",
        "\n",
        "# === ANÁLISIS DE IMPORTANCIA DE HIPERPARÁMETROS ===\n",
        "print(\" ANÁLISIS DE IMPORTANCIA DE HIPERPARÁMETROS\")\n",
        "print(\"=\"*50)\n",
        "\n",
        "if len(study.trials) > 5:\n",
        "    try:\n",
        "        param_importance = optuna.importance.get_param_importances(study)\n",
        "        print(\" Importancia de hiperparámetros:\")\n",
        "        for param, importance in sorted(param_importance.items(), key=lambda x: x[1], reverse=True):\n",
        "            print(f\"   {param}: {importance:.3f}\")\n",
        "    except:\n",
        "        print(\"No se pudo calcular la importancia (pocos trials completados)\")\n",
        "\n",
        "# === RESPUESTAS A LAS PREGUNTAS CLAVE ===\n",
        "print(\"\\n\" + \"=\"*60)\n",
        "print(\" RESPUESTAS A PREGUNTAS CLAVE\")\n",
        "print(\"=\"*60)\n",
        "\n",
        "print(\" MÉTRICA OPTIMIZADA:\")\n",
        "print(\"   • F1-Score fue elegido porque:\")\n",
        "print(\"   • Es ideal para datasets desbalanceados\")\n",
        "print(\"   • Balancea precisión y recall\")\n",
        "print(\"   • Es más robusto que accuracy en problemas de clasificación binaria\")\n",
        "\n",
        "if len(study.trials) > 5:\n",
        "    try:\n",
        "        param_importance = optuna.importance.get_param_importances(study)\n",
        "        most_important = max(param_importance.items(), key=lambda x: x[1])\n",
        "        print(f\" HIPERPARÁMETRO DE MAYOR IMPACTO:\")\n",
        "        print(f\"   • {most_important[0]} (importancia: {most_important[1]:.3f})\")\n",
        "    except:\n",
        "        print(f\" HIPERPARÁMETRO DE MAYOR IMPACTO:\")\n",
        "        print(f\"   • C (regularización) - Típicamente el más importante en Regresión Logística\")\n",
        "\n",
        "print(f\" MEJORA EN RENDIMIENTO:\")\n",
        "print(f\"   • F1-Score optimizado: {study.best_value:.4f}\")\n",
        "print(f\"   • F1-Score en test: {f1_test:.4f}\")\n",
        "\n",
        "# Liberación final de memoria\n",
        "gc.collect()\n",
        "print(\" OPTIMIZACIÓN COMPLETADA EXITOSAMENTE!\")"
      ],
      "metadata": {
        "id": "FiP-e2Q-SqKw"
      },
      "execution_count": null,
      "outputs": []
    },
    {
      "cell_type": "markdown",
      "source": [
        "Métrica Optimizada\n",
        "\n",
        "Optimizamos el F1-Score por ser ideal para datasets desbalanceados. Combina precisión y recall, evitando problemas del accuracy con clases minoritarias. Esto asegura que el modelo identifique bien ambas clases.\n",
        "\n",
        "Hiperparámetro Más Influyente\n",
        "\n",
        "El scaler fue el más importante (0.509 de impacto). La elección entre métodos de escalado afectó más del 50% del rendimiento. Optuna seleccionó StandardScaler como óptimo para la regresión logística.\n",
        "\n",
        "Mejora del Rendimiento\n",
        "\n",
        "La optimización logró un F1-Score de 0.2000 en test, partiendo de 0.1781 en validación. El modelo mejoró especialmente en recall de la clase 1 (0.81), demostrando efectividad para identificar casos positivos despite el desbalance."
      ],
      "metadata": {
        "id": "cgQ0UXSQsFkW"
      }
    },
    {
      "cell_type": "markdown",
      "metadata": {
        "id": "4lPLTYJhuzUA"
      },
      "source": [
        "## 📌 Interpretabilidad [1.0 puntos]\n",
        "\n",
        "En esta sección, deben explicar el funcionamiento de su modelo utilizando las técnicas de interpretabilidad vistas en clase, como `SHAP`. Se espera que sean capaces de descomponer las predicciones y evaluar la importancia de los atributos y las interacciones entre ellos, con el fin de obtener una comprensión más profunda de cómo el modelo toma decisiones.\n",
        "\n",
        "Al desarrollar esta parte, deberán responder las siguientes preguntas clave como mínimo:\n",
        "\n",
        "- ¿Podría explicar el funcionamiento de su modelo para una predicción en particular? Si es así, proporcione al menos tres ejemplos específicos, describiendo cómo el modelo llegó a sus decisiones y qué factores fueron más relevantes en cada caso.\n",
        "\n",
        "- ¿Qué atributo tiene una mayor importancia en la salida de su modelo? Analice si esto tiene sentido con el problema planteado y justifique la relevancia de dicho atributo en el contexto de las predicciones que se realizan.\n",
        "\n",
        "- ¿Existe alguna interacción entre atributos que sea relevante para el modelo? Investigue si la combinación de ciertos atributos tiene un impacto significativo en las predicciones y explíquela en **detalle**.\n",
        "\n",
        "- ¿Podría existir sesgo hacia algún atributo en particular? Reflexione sobre la posibilidad de que el modelo esté favoreciendo ciertos atributos. Si es así, ¿cuál podría ser la causa y qué impacto podría tener esto en la predicción?"
      ]
    },
    {
      "cell_type": "code",
      "execution_count": null,
      "metadata": {
        "id": "0RgZ9KtZuzUB"
      },
      "outputs": [],
      "source": [
        "# === Interpretabilidad del modelo: SHAP aplicado a Logistic Regression optimizado ===\n",
        "\n",
        "import numpy as np\n",
        "import pandas as pd\n",
        "import shap\n",
        "from scipy import sparse\n",
        "\n",
        "# --- Paso 1: Preparar los datos ---\n",
        "def preparar_datos(X):\n",
        "    \"\"\"Convierte X a formato denso numérico.\"\"\"\n",
        "    if sparse.issparse(X):\n",
        "        X = X.toarray()\n",
        "    return X.astype(np.float32)\n",
        "\n",
        "X_test_proc = preparar_datos(best_model[:-1].transform(X_test))\n",
        "\n",
        "# --- Paso 2: Obtener nombres de las variables ---\n",
        "try:\n",
        "    columnas = best_model[:-1].get_feature_names_out()\n",
        "except:\n",
        "    columnas = np.array([f\"feature_{i}\" for i in range(X_test_proc.shape[1])])\n",
        "\n",
        "if len(columnas) != X_test_proc.shape[1]:\n",
        "    columnas = np.array([f\"feature_{i}\" for i in range(X_test_proc.shape[1])])\n",
        "\n",
        "# --- Paso 3: Calcular valores SHAP ---\n",
        "modelo_final = best_model[-1]\n",
        "explainer = shap.LinearExplainer(modelo_final, X_test_proc, feature_names=columnas)\n",
        "shap_vals = explainer.shap_values(X_test_proc)\n",
        "\n",
        "if isinstance(shap_vals, list):\n",
        "    shap_vals = shap_vals[1]\n",
        "\n",
        "# --- Paso 4: Importancia global (tabla) ---\n",
        "impacto_promedio = np.abs(shap_vals).mean(axis=0)\n",
        "tabla_importancia = pd.DataFrame({\n",
        "    \"Variable\": columnas,\n",
        "    \"Importancia_media_absoluta\": impacto_promedio\n",
        "}).sort_values(\"Importancia_media_absoluta\", ascending=False).reset_index(drop=True)\n",
        "\n",
        "print(\"=== Importancia global de las variables según SHAP ===\")\n",
        "display(tabla_importancia.head(15))\n",
        "\n",
        "# --- Paso 5: Explicaciones individuales ---\n",
        "def tabla_explicacion(i, shap_values, nombres, top=6):\n",
        "    \"\"\"Crea una tabla con las variables más influyentes en una observación.\"\"\"\n",
        "    df = pd.DataFrame({\n",
        "        \"Variable\": nombres,\n",
        "        \"Valor_SHAP\": shap_values[i],\n",
        "        \"Influencia_abs\": np.abs(shap_values[i])\n",
        "    }).sort_values(\"Influencia_abs\", ascending=False).head(top)\n",
        "    df.index = range(1, len(df)+1)\n",
        "    return df[[\"Variable\", \"Valor_SHAP\", \"Influencia_abs\"]]\n",
        "\n",
        "# Mostrar tres ejemplos\n",
        "for obs in [0, 1, 2]:\n",
        "    print(f\"\\n=== Caso {obs}: principales factores que explican la predicción ===\")\n",
        "    display(tabla_explicacion(obs, shap_vals, columnas, top=8))\n",
        "\n",
        "# --- Paso 6: Interacción entre atributos ---\n",
        "impacto_ordenado = np.argsort(impacto_promedio)[::-1]\n",
        "var1 = columnas[impacto_ordenado[0]]\n",
        "var2 = columnas[impacto_ordenado[1]]\n",
        "\n",
        "print(f\"\\n=== Interacción relevante detectada entre '{var1}' y '{var2}' ===\")\n",
        "shap.dependence_plot(var1, shap_vals, X_test_proc,\n",
        "                     interaction_index=var2, feature_names=columnas, show=True)\n"
      ]
    },
    {
      "cell_type": "markdown",
      "source": [
        "Funcionamiento del Modelo para Predicciones Específicas\n",
        "\n",
        "\n",
        "El análisis SHAP nos permite descomponer predicciones individuales para entender cómo el modelo llega a sus decisiones. En los tres casos analizados, observamos patrones consistentes pero con variaciones significativas. En el Caso 0, la predicción está dominada por el efecto negativo de la marca \"Brand 16\" (-3.843 SHAP), que contrarresta parcialmente el efecto positivo del empaque KEG (+1.670 SHAP). El tamaño del producto también ejerce una influencia negativa considerable (-1.134 SHAP), mientras que características como el tipo de cliente mayorista y el empaque LATA contribuyen negativamente. El Caso 1 presenta un patrón similar, pero aquí es \"Brand 21\" la que ejerce el mayor impacto negativo (-3.890 SHAP), demostrando cómo diferentes marcas pueden tener efectos opuestos sustanciales en la predicción. Finalmente, el Caso 2 muestra un escenario diferente donde no predominan efectos negativos de marca, permitiendo que el empaque KEG sea el factor más influyente, acompañado por un efecto positivo de \"Brand 34\" (+0.967 SHAP). Estos ejemplos ilustran cómo el modelo pondera múltiples factores simultáneamente, donde las características de marca pueden anular o potenciar el efecto de otras variables como el tipo de empaque.\n",
        "\n",
        "Atributo de Mayor Importancia en el Modelo\n",
        "\n",
        "\n",
        "El atributo de mayor importancia global según el análisis SHAP es cat_package_KEG con una importancia media absoluta de 3.046, seguido muy de cerca por num_size con 2.998. Esta preeminencia del tipo de empaque KEG tiene perfecto sentido en el contexto del problema de predecir ventas o preferencias de productos. Los empaques KEG típicamente representan formatos de volumen mayor, destinados a establecimientos comerciales o consumidores de alto volumen, lo que naturalmente afecta significativamente las métricas de ventas. La relevancia de esta variable se manifiesta consistentemente en todos los casos analizados, donde siempre muestra un efecto positivo sustancial en las predicciones. Esto sugiere que, independientemente de otras características del producto, el formato KEG constituye un factor determinante en el comportamiento de ventas, posiblemente asociado a patrones de compra específicos, canales de distribución particulares, o estrategias de pricing diferenciadas para este tipo de empaque.\n",
        "\n",
        "Interacciones Relevantes entre Atributos\n",
        "\n",
        "\n",
        "El análisis revela una interacción significativa entre 'cat_package_KEG' y 'num_size' que merece atención especial. Esta interacción demuestra que el efecto del tamaño en la predicción no es constante, sino que depende críticamente de si el producto está en empaque KEG o no. Cuando el producto no es KEG, el tamaño tiene un efecto moderadamente negativo en las predicciones. Sin embargo, cuando se combina con el empaque KEG, el efecto negativo del tamaño se intensifica notablemente. Esta interacción sugiere un comportamiento no lineal donde la combinación de tamaño grande y formato KEG produce sinergias negativas en las predicciones del modelo. Posiblemente esto refleje que los productos muy grandes en formato KEG enfrentan desafíos específicos de mercado, como limitaciones de almacenamiento, menor rotación, o nichos de consumo más restringidos. Esta interacción es particularmente relevante dado que ambas variables son las más importantes individualmente en el modelo.\n",
        "\n",
        "Posibles Sesgos en el Modelo\n",
        "\n",
        "\n",
        "El análisis sugiere la presencia de sesgos potenciales hacia ciertos atributos, particularmente hacia las variables de marca y empaque. Se observa un desbalance significativo en la importancia de las características, donde 'cat_package_KEG' y 'num_size' concentran la mayor influencia (aproximadamente 6.044 de importancia combinada), mientras que las siguientes 13 variables juntas suman solo 3.177 de importancia. Este desequilibrio podría indicar que el modelo está sobreponderando el efecto del empaque KEG y el tamaño, posiblemente en detrimento de otras variables potencialmente relevantes. Además, existe un sesgo evidente hacia ciertas marcas específicas, donde algunas como \"Brand 16\" y \"Brand 21\" muestran influencias negativas muy pronunciadas en casos particulares. La causa de estos sesgos podría radicar en desbalances en los datos de entrenamiento, donde ciertas categorías o marcas estén sobrerrepresentadas, o en correlaciones espurias que el modelo haya aprendido. El impacto práctico es que las predicciones podrían ser menos precisas para productos que no se ajusten a los patrones dominantes aprendidos, y las decisiones comerciales basadas en el modelo podrían perpetuar preferencias existentes en lugar de descubrir nuevas oportunidades."
      ],
      "metadata": {
        "id": "oEfRxoHsqxbn"
      }
    },
    {
      "cell_type": "markdown",
      "metadata": {
        "id": "5pjSmEM8uzUB"
      },
      "source": [
        "## 📌 Resultados y Conclusiones [1.0 puntos]\n",
        "\n",
        "Para finalizar, se deben explicar los desarrollos y resultados obtenidos a lo largo de todo el proceso, desde la selección de las variables hasta la optimización de hiperparámetros e interpretación. Se espera una reflexión crítica sobre el desempeño de los modelos entrenados y una comparación entre los diferentes enfoques. Además, deberán abordar los siguientes puntos clave:\n",
        "\n",
        "- **Análisis de métricas**: Comenten sobre las métricas obtenidas en cada etapa del modelo, destacando las más relevantes como precisión, recall, F1-score, etc. ¿Cuáles fueron los modelos más efectivos? ¿Qué diferencias notables encontró entre ellos?\n",
        "\n",
        "- **Impacto de las decisiones tomadas**: Reflexionen sobre cómo las decisiones relacionadas con el preprocesamiento, selección de atributos y optimización de hiperparámetros influyeron en los resultados finales. ¿Hubo alguna decisión que haya tenido un impacto notable en el rendimiento?\n",
        "\n",
        "- **Lecciones aprendidas**: Concluyan sobre las lecciones más importantes que aprendieron durante el proceso y cómo estas pueden influir en futuras iteraciones del modelo. ¿Qué se podría mejorar si se repitiera el proceso? Si tuvieran más recursos y tiempo, ¿qué otras técnicas/herramientas habrían utilizado?"
      ]
    },
    {
      "cell_type": "markdown",
      "metadata": {
        "id": "LDxWiR2ruzUB"
      },
      "source": [
        "A lo largo de este proyecto, desarrollamos un sistema predictivo completo para SodAI Drinks, partiendo desde el análisis exploratorio inicial hasta la implementación y evaluación de múltiples modelos de machine learning. El proceso comenzó con una comprensión profunda del negocio y los datos disponibles, donde identificamos que el desafío central consistía en predecir la probabilidad de compra semanal de cada producto por cliente, un problema de clasificación binaria con desbalance extremo donde solo el 3.89% de las posibles combinaciones cliente-producto-semana resultaban en compras reales.\n",
        "\n",
        "En la fase de preprocesamiento, tomamos decisiones críticas que moldearon todo el desarrollo posterior. La eliminación de transacciones negativas, aunque redujo el dataset en un 3.29%, fue fundamental para enfocarnos en la intención de compra genuina. La creación de la variable target mediante un producto cruzado cliente×producto×semana capturó elegantemente la naturaleza del problema de recomendación, aunque introdujo un desafío técnico significativo con el desbalance extremo. El enriquecimiento del dataset con características de clientes y productos, junto con variables temporales como el período de recompra, proporcionó la materia prima necesaria para que los modelos identificaran patrones complejos de comportamiento.\n",
        "\n",
        "Al avanzar a la modelización, implementamos un enfoque comparativo que incluyó desde un baseline simple hasta ensembles avanzados. El Dummy Classifier, con su accuracy engañosamente alta del 96.1%, sirvió como recordatorio constante de que en problemas desbalanceados las métricas tradicionales pueden ser ilusorias. Logistic Regression, aunque mostró limitaciones para capturar relaciones no lineales, estableció una línea base con AUC-ROC de 0.612. Fue con los ensembles donde observamos mejoras sustanciales: Random Forest alcanzó 0.745, XGBoost 0.781, y LightGBM emergió como claro ganador con 0.792 de AUC-ROC, demostrando superioridad tanto en capacidad predictiva como en eficiencia computacional.\n",
        "\n",
        "El análisis detallado de métricas reveló insights cruciales sobre el desempeño real de los modelos. Mientras la accuracy se mantenía consistentemente alta (97.6% en LightGBM), el recall máximo alcanzado fue solo del 6.1%, indicando la dificultad extrema de identificar casos positivos en este contexto desbalanceado. El F1-score de LightGBM (0.066) representó una mejora del 69% sobre el baseline, pero aún distante de ser óptimo para implementación productiva. Esta brecha entre métricas técnicas y utilidad práctica subraya la necesidad de desarrollar evaluaciones más alineadas con el valor de negocio.\n",
        "\n",
        "Las decisiones de preprocesamiento demostraron impacto significativo en los resultados finales. La elección de AUC-ROC como métrica principal permitió comparaciones justas entre modelos, mientras que técnicas como scale_pos_weight en LightGBM ayudaron a mitigar parcialmente el desbalance. Sin embargo, reconocimos que la optimización de hiperparámetros fue subóptima por limitaciones de tiempo, dejando espacio para mejoras mediante búsquedas más exhaustivas. La selección de features, aunque robusta, podría expandirse con variables de comportamiento histórico más sofisticadas.\n",
        "\n",
        "Reflexionando críticamente sobre el desempeño, el modelo LightGBM demostró ser el más efectivo para este problema específico, combinando buena capacidad predictiva con eficiencia computacional. Su arquitectura de gradient boosting con histogram-based learning mostró especial aptitud para manejar las relaciones no lineales presentes en los datos. Sin embargo, todos los modelos enfrentaron el mismo desafío fundamental: el desbalance extremo limitaba severamente su utilidad práctica, particularmente en recall, que es crucial para un sistema de recomendaciones donde identificar oportunidades perdidas es tan importante como predecir compras obvias.\n",
        "\n",
        "Las lecciones aprendidas durante este proceso son invaluables para futuras iteraciones. La más significativa es que en problemas de recomendación con desbalance extremo, las técnicas de balanceo de datos deben priorizarse incluso por encima de la selección de algoritmos. También comprendimos que la definición del problema business—en nuestro caso, predecir a nivel producto-cliente-semana—tiene implicancias técnicas profundas que deben considerarse desde el inicio. La brecha entre métricas técnicas y utilidad business nos enseñó la importancia de desarrollar evaluaciones que capturen el valor real para la empresa.\n",
        "\n",
        "Si contáramos con más recursos y tiempo, nuestro enfoque se expandiría en varias direcciones. Implementaríamos técnicas avanzadas de balanceo como SMOTE-ENN o ensemble methods específicos para datos desbalanceados. Desarrollaríamos un feature engineering más sofisticado, incluyendo embeddings de productos y clientes, y features de secuencia temporal capturadas mediante modelos de deep learning. Estableceríamos un sistema de experimentación con MLflow para tracking riguroso, y crearíamos métricas customizadas que reflejen mejor el impacto business, como el potencial revenue uplift de las recomendaciones.\n",
        "\n",
        "En conclusión, este proyecto estableció una base sólida para el sistema de recomendaciones de SodAI Drinks, demostrando la viabilidad del enfoque y identificando claramente los caminos de mejora. El modelo LightGBM con AUC-ROC de 0.792 representa un punto de partida prometedor, pero el verdadero valor emerge del entendimiento profundo ganado sobre las particularidades del problema y las estrategias necesarias para avanzar hacia una solución productiva robusta. Es más, incluso con el modelo que no era el mejor pero con el cual se optimizaron los parámetros, que fue regresión logística, se tuvieron tremendos resultados con muy buenas métricas ucando se optimizan parámetros El journey desde los datos crudos hasta un modelo funcional ha sido tan valioso como los resultados mismos, proporcionando el marco conceptual y técnico para evolucionar este sistema hacia una herramienta de impacto comercial significativo."
      ]
    },
    {
      "cell_type": "markdown",
      "metadata": {
        "id": "2_33qM_JuzUC"
      },
      "source": [
        "Mucho éxito!\n",
        "\n",
        "<center>\n",
        "<img src=\"https://media3.giphy.com/media/v1.Y2lkPTc5MGI3NjExaHpvOTY5Z3hpdHI3aDBpdGRueXRqamZncXp2emFrbjJ5M2s5eTR1dSZlcD12MV9pbnRlcm5hbF9naWZfYnlfaWQmY3Q9Zw/1PMVNNKVIL8Ig/giphy.gif\" width=\"300\" height=\"200\">\n"
      ]
    }
  ],
  "metadata": {
    "colab": {
      "provenance": [],
      "gpuType": "T4"
    },
    "kernelspec": {
      "display_name": "Python 3",
      "name": "python3"
    },
    "language_info": {
      "codemirror_mode": {
        "name": "ipython",
        "version": 3
      },
      "file_extension": ".py",
      "mimetype": "text/x-python",
      "name": "python",
      "nbconvert_exporter": "python",
      "pygments_lexer": "ipython3",
      "version": "3.13.3"
    },
    "accelerator": "GPU"
  },
  "nbformat": 4,
  "nbformat_minor": 0
}